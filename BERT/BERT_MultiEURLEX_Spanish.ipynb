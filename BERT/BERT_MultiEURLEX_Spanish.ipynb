{
 "cells": [
  {
   "cell_type": "markdown",
   "metadata": {
    "id": "kLB3I4FKZ5Lr"
   },
   "source": [
    "# Fine-tuning BERT Spanish"
   ]
  },
  {
   "cell_type": "code",
   "execution_count": 1,
   "metadata": {
    "colab": {
     "base_uri": "https://localhost:8080/"
    },
    "id": "4wxY3x-ZZz8h",
    "outputId": "c7ef3a90-a6c7-477a-f951-b7a1244868b0"
   },
   "outputs": [],
   "source": [
    "# !pip install -q transformers datasets"
   ]
  },
  {
   "cell_type": "markdown",
   "metadata": {
    "id": "bIH9NP0MZ6-O"
   },
   "source": [
    "## Load dataset\n",
    "\n",
    "Next, let's download a multi-label text classification dataset [MultiEURLEX](https://huggingface.co/datasets/multi_eurlex)\n"
   ]
  },
  {
   "cell_type": "code",
   "execution_count": 5,
   "metadata": {
    "id": "g5MNOwT4xKqH"
   },
   "outputs": [],
   "source": [
    "import numpy as np\n",
    "from sklearn.preprocessing import MultiLabelBinarizer"
   ]
  },
  {
   "cell_type": "code",
   "execution_count": 7,
   "metadata": {
    "colab": {
     "base_uri": "https://localhost:8080/",
     "height": 86,
     "referenced_widgets": [
      "a1460512c5f1452e90bc943d2dbe1f1b",
      "16538a192cb7482aabbaae4b633802e5",
      "c5d1139ec488496bb5ed2add54bbbbc3",
      "b340d400a5a54da394eb030a89db63cd",
      "3fba3a22993c4aedb1cf3bf745291cf7",
      "a4d8b4662a5b4feba472c590f19a0f46",
      "5c4a113498a0434c905c86ff73b2abea",
      "1cd0041bd03f4028b421f7a44fc3c05e",
      "62471587c0c44a5182c4cb3033a78e19",
      "c986f7a7cc7547adbc76007edc044c2c",
      "4a372b0842fa4a3e9aaf869bc2250cfc"
     ]
    },
    "id": "sd1LiXGjZ420",
    "outputId": "ccfa6f9b-b217-48f7-d7b5-a764b77e31fd"
   },
   "outputs": [
    {
     "name": "stdout",
     "output_type": "stream",
     "text": [
      "Downloading and preparing dataset multi_eurlex/es (download: 2.58 GiB, generated: 522.63 MiB, post-processed: Unknown size, total: 3.09 GiB) to /home/davo/.cache/huggingface/datasets/multi_eurlex/es/1.0.0/8ec8b79877a517369a143ead6679d1788d13e51cf641ed29772f4449e8364fb6...\n"
     ]
    },
    {
     "data": {
      "application/vnd.jupyter.widget-view+json": {
       "model_id": "",
       "version_major": 2,
       "version_minor": 0
      },
      "text/plain": [
       "Generating train split:   0%|          | 0/52785 [00:00<?, ? examples/s]"
      ]
     },
     "metadata": {},
     "output_type": "display_data"
    },
    {
     "data": {
      "application/vnd.jupyter.widget-view+json": {
       "model_id": "",
       "version_major": 2,
       "version_minor": 0
      },
      "text/plain": [
       "Generating test split:   0%|          | 0/5000 [00:00<?, ? examples/s]"
      ]
     },
     "metadata": {},
     "output_type": "display_data"
    },
    {
     "data": {
      "application/vnd.jupyter.widget-view+json": {
       "model_id": "",
       "version_major": 2,
       "version_minor": 0
      },
      "text/plain": [
       "Generating validation split:   0%|          | 0/5000 [00:00<?, ? examples/s]"
      ]
     },
     "metadata": {},
     "output_type": "display_data"
    },
    {
     "name": "stdout",
     "output_type": "stream",
     "text": [
      "Dataset multi_eurlex downloaded and prepared to /home/davo/.cache/huggingface/datasets/multi_eurlex/es/1.0.0/8ec8b79877a517369a143ead6679d1788d13e51cf641ed29772f4449e8364fb6. Subsequent calls will reuse this data.\n"
     ]
    },
    {
     "data": {
      "application/vnd.jupyter.widget-view+json": {
       "model_id": "8d9bc5c6f7af4721a2c515ac1b24554a",
       "version_major": 2,
       "version_minor": 0
      },
      "text/plain": [
       "  0%|          | 0/3 [00:00<?, ?it/s]"
      ]
     },
     "metadata": {},
     "output_type": "display_data"
    }
   ],
   "source": [
    "from datasets import load_dataset\n",
    "\n",
    "dataset = load_dataset('multi_eurlex', 'es')"
   ]
  },
  {
   "cell_type": "markdown",
   "metadata": {
    "id": "QCL02vQgxYTO"
   },
   "source": [
    "As we can see, the dataset contains 3 splits: one for training, one for validation and one for testing."
   ]
  },
  {
   "cell_type": "code",
   "execution_count": 8,
   "metadata": {
    "id": "qh1zti-xbYiq"
   },
   "outputs": [],
   "source": [
    "\n",
    "dataset = dataset.rename_column(\"labels\", \"old_labels\")"
   ]
  },
  {
   "cell_type": "code",
   "execution_count": 9,
   "metadata": {
    "colab": {
     "base_uri": "https://localhost:8080/"
    },
    "id": "gBDCKGHmVq0T",
    "outputId": "8734b307-2eb5-44d4-d362-7394e742ec78"
   },
   "outputs": [
    {
     "data": {
      "text/plain": [
       "DatasetDict({\n",
       "    train: Dataset({\n",
       "        features: ['celex_id', 'text', 'old_labels'],\n",
       "        num_rows: 52785\n",
       "    })\n",
       "    test: Dataset({\n",
       "        features: ['celex_id', 'text', 'old_labels'],\n",
       "        num_rows: 5000\n",
       "    })\n",
       "    validation: Dataset({\n",
       "        features: ['celex_id', 'text', 'old_labels'],\n",
       "        num_rows: 5000\n",
       "    })\n",
       "})"
      ]
     },
     "execution_count": 9,
     "metadata": {},
     "output_type": "execute_result"
    }
   ],
   "source": [
    "\n",
    "dataset"
   ]
  },
  {
   "cell_type": "markdown",
   "metadata": {
    "id": "PgS0wMWExcqP"
   },
   "source": [
    "Let's check the first example of the training split:"
   ]
  },
  {
   "cell_type": "code",
   "execution_count": 10,
   "metadata": {
    "colab": {
     "base_uri": "https://localhost:8080/"
    },
    "id": "unjuTtKUjZI3",
    "outputId": "dbba328e-10fb-438d-9e32-42856734ebfe"
   },
   "outputs": [
    {
     "data": {
      "text/plain": [
       "{'celex_id': '32006D0213',\n",
       " 'text': 'DECISIÓN DE LA COMISIÓN\\nde 6 de marzo de 2006\\npor la que se establecen las clases de reacción al fuego para determinados productos de construcción en lo que respecta a los suelos de madera y los paneles y revestimientos murales de madera maciza\\n[notificada con el número C(2006) 655]\\n(Texto pertinente a efectos del EEE)\\n(2006/213/CE)\\nLA COMISIÓN DE LAS COMUNIDADES EUROPEAS,\\nVisto el Tratado constitutivo de la Comunidad Europea,\\nVista la Directiva 89/106/CEE del Consejo, de 21 de diciembre de 1988, relativa a la aproximación de las disposiciones legales, reglamentarias y administrativas de los Estados miembros sobre los productos de construcción (1), y, en particular, su artículo 20, apartado 2,\\nConsiderando lo siguiente:\\n(1)\\nEn la Directiva 89/106/CEE se establece que, con el fin de tener en cuenta los distintos niveles de protección para las obras de construcción a escala nacional, regional o local, puede ser necesario establecer, en los documentos interpretativos, clases correspondientes al comportamiento de los productos en relación con cada uno de los requisitos esenciales. Dichos documentos se han publicado bajo el título «Comunicación de la Comisión relativa a los documentos interpretativos de la Directiva 89/106/CEE del Consejo (2)».\\n(2)\\nEn cuanto al requisito esencial de seguridad en caso de incendio, en el documento interpretativo no 2 se enumeran algunas medidas interrelacionadas que, juntas, definen la estrategia de seguridad en caso de incendio que se aplicará de modos distintos en los Estados miembros.\\n(3)\\nEn el documento interpretativo no 2 se define una de estas medidas como la limitación de la generación y propagación del fuego y del humo dentro de un área dada mediante la limitación del potencial de contribución de los productos de construcción al pleno desarrollo del incendio.\\n(4)\\nEl alcance de dicha limitación puede expresarse únicamente en niveles distintos de reacción al fuego de los productos en su aplicación final.\\n(5)\\nA modo de solución armonizada, se ha adoptado un sistema de clases en la Decisión 2000/147/CE de la Comisión, de 8 de febrero de 2000, por la que se aplica la Directiva 89/106/CEE del Consejo en lo que respecta a la clasificación de las propiedades de reacción al fuego de los productos de construcción (3).\\n(6)\\nEn el caso de los suelos de madera y los paneles y revestimientos murales de madera maciza, es necesario utilizar la clasificación establecida en la Decisión 2000/147/CE.\\n(7)\\nEn la clasificación establecida en la Decisión 2000/147/CE, la reacción al fuego de muchos productos de construcción y materiales está bien definida y es lo suficientemente conocida por los legisladores en materia de incendios de los Estados miembros como para que dichos productos y materiales no tengan que someterse a ensayo en relación con esta característica en concreto.\\n(8)\\nLas medidas previstas en la presente Decisión se ajustan al dictamen del Comité permanente de la construcción.\\nHA ADOPTADO LA PRESENTE DECISIÓN:\\nArtículo 1\\nEn el anexo se establecen los productos de construcción y materiales que cumplen todos los requisitos relativos a la característica «reacción al fuego» sin necesidad de someterse a nuevos ensayos.\\nArtículo 2\\nEn el anexo de la presente Decisión se establecen las clases específicas que se aplicarán a los diferentes productos de construcción y materiales en el marco de la clasificación sobre reacción al fuego adoptada en la Decisión 2000/147/CE.\\nArtículo 3\\nLos productos serán considerados en relación con su aplicación final, cuando sea pertinente.\\nArtículo 4\\nLos destinatarios de la presente Decisión serán los Estados miembros.\\nHecho en Bruselas, el 6 de marzo de 2006.',\n",
       " 'old_labels': [1, 20, 7, 3, 0]}"
      ]
     },
     "execution_count": 10,
     "metadata": {},
     "output_type": "execute_result"
    }
   ],
   "source": [
    "example = dataset['train'][0]\n",
    "example"
   ]
  },
  {
   "cell_type": "markdown",
   "metadata": {
    "id": "6DV0Rtetxgd4"
   },
   "source": [
    "The dataset consists of tweets, labeled with one or more emotions. \n",
    "\n",
    "Let's create a list that contains the labels, as well as 2 dictionaries that map labels to integers and back."
   ]
  },
  {
   "cell_type": "code",
   "execution_count": 11,
   "metadata": {
    "colab": {
     "base_uri": "https://localhost:8080/"
    },
    "id": "e5vZhQpvkE8s",
    "outputId": "f7278c2b-a522-497f-a3bc-ffd7da9ec376"
   },
   "outputs": [
    {
     "data": {
      "text/plain": [
       "['social questions',\n",
       " 'industry',\n",
       " 'finance',\n",
       " 'trade',\n",
       " 'business and competition',\n",
       " 'international relations',\n",
       " 'agriculture, forestry and fisheries',\n",
       " 'production, technology and research',\n",
       " 'transport',\n",
       " 'employment and working conditions',\n",
       " 'politics',\n",
       " 'law',\n",
       " 'education and communications',\n",
       " 'international organisations',\n",
       " 'energy',\n",
       " 'EUROPEAN UNION',\n",
       " 'science',\n",
       " 'agri-foodstuffs',\n",
       " 'geography',\n",
       " 'economics',\n",
       " 'environment']"
      ]
     },
     "execution_count": 11,
     "metadata": {},
     "output_type": "execute_result"
    }
   ],
   "source": [
    "labels = ['social questions',\n",
    " 'industry',\n",
    " 'finance',\n",
    " 'trade',\n",
    " 'business and competition',\n",
    " 'international relations',\n",
    " 'agriculture, forestry and fisheries',\n",
    " 'production, technology and research',\n",
    " 'transport',\n",
    " 'employment and working conditions',\n",
    " 'politics',\n",
    " 'law',\n",
    " 'education and communications',\n",
    " 'international organisations',\n",
    " 'energy',\n",
    " 'EUROPEAN UNION',\n",
    " 'science',\n",
    " 'agri-foodstuffs',\n",
    " 'geography',\n",
    " 'economics',\n",
    " 'environment']\n",
    "id2label = {0: 'social questions',\n",
    " 1: 'industry',\n",
    " 2: 'finance',\n",
    " 3: 'trade',\n",
    " 4: 'business and competition',\n",
    " 5: 'international relations',\n",
    " 6: 'agriculture, forestry and fisheries',\n",
    " 7: 'production, technology and research',\n",
    " 8: 'transport',\n",
    " 9: 'employment and working conditions',\n",
    " 10: 'politics',\n",
    " 11: 'law',\n",
    " 12: 'education and communications',\n",
    " 13: 'international organisations',\n",
    " 14: 'energy',\n",
    " 15: 'EUROPEAN UNION',\n",
    " 16: 'science',\n",
    " 17: 'agri-foodstuffs',\n",
    " 18: 'geography',\n",
    " 19: 'economics',\n",
    " 20: 'environment'}\n",
    "label2id = {'social questions': 0,\n",
    " 'industry': 1,\n",
    " 'finance': 2,\n",
    " 'trade': 3,\n",
    " 'business and competition': 4,\n",
    " 'international relations': 5,\n",
    " 'agriculture, forestry and fisheries': 6,\n",
    " 'production, technology and research': 7,\n",
    " 'transport': 8,\n",
    " 'employment and working conditions': 9,\n",
    " 'politics': 10,\n",
    " 'law': 11,\n",
    " 'education and communications': 12,\n",
    " 'international organisations': 13,\n",
    " 'energy': 14,\n",
    " 'EUROPEAN UNION': 15,\n",
    " 'science': 16,\n",
    " 'agri-foodstuffs': 17,\n",
    " 'geography': 18,\n",
    " 'economics': 19,\n",
    " 'environment': 20}\n",
    "labels"
   ]
  },
  {
   "cell_type": "markdown",
   "metadata": {
    "id": "nJ3Teyjmank2"
   },
   "source": [
    "## Preprocess data\n",
    "\n",
    "As models like BERT don't expect text as direct input, but rather `input_ids`, etc., we tokenize the text using the tokenizer. Here I'm using the `AutoTokenizer` API, which will automatically load the appropriate tokenizer based on the checkpoint on the hub.\n",
    "\n",
    "What's a bit tricky is that we also need to provide labels to the model. For multi-label text classification, this is a matrix of shape (batch_size, num_labels). Also important: this should be a tensor of floats rather than integers, otherwise PyTorch' `BCEWithLogitsLoss` (which the model will use) will complain, as explained [here](https://discuss.pytorch.org/t/multi-label-binary-classification-result-type-float-cant-be-cast-to-the-desired-output-type-long/117915/3)."
   ]
  },
  {
   "cell_type": "code",
   "execution_count": 12,
   "metadata": {
    "id": "TEQebh4p22NB"
   },
   "outputs": [],
   "source": [
    "def numbers_to_classes(l=[0,10,20]):\n",
    "  zero_cl = [0.0] * 21\n",
    "  for i in l:\n",
    "    zero_cl[i] = 1.0\n",
    "  \n",
    "  return np.array(zero_cl, dtype=np.float)"
   ]
  },
  {
   "cell_type": "code",
   "execution_count": 13,
   "metadata": {
    "colab": {
     "base_uri": "https://localhost:8080/"
    },
    "id": "qPmxZtbb31EY",
    "outputId": "3aefa237-2631-4547-9e32-1b759ecaaf1a"
   },
   "outputs": [
    {
     "data": {
      "text/plain": [
       "array([1., 0., 0., 0., 0., 0., 0., 0., 0., 0., 1., 0., 0., 0., 0., 0., 0.,\n",
       "       0., 0., 0., 1.])"
      ]
     },
     "execution_count": 13,
     "metadata": {},
     "output_type": "execute_result"
    }
   ],
   "source": [
    "numbers_to_classes(l=[0,10,20])"
   ]
  },
  {
   "cell_type": "code",
   "execution_count": 14,
   "metadata": {
    "id": "AFWlSsbZaRLc"
   },
   "outputs": [],
   "source": [
    "from transformers import AutoTokenizer\n",
    "import numpy as np\n",
    "import pandas as pd\n",
    "\n",
    "tokenizer = AutoTokenizer.from_pretrained(\"bert-base-multilingual-uncased\")\n",
    "\n",
    "def preprocess_data(examples):\n",
    "  # take a batch of texts\n",
    "  text = examples[\"text\"]\n",
    "  # encode them\n",
    "  encoding = tokenizer(text, padding=\"max_length\", truncation=True, max_length=300)\n",
    "  # add labels\n",
    "  labels_matrix = []\n",
    "  for r in examples[\"old_labels\"]:\n",
    "    labels_matrix.append(np.array(numbers_to_classes(r), dtype=float))\n",
    "  # print(labels_matrix)\n",
    "  encoding[\"labels\"] = np.array(labels_matrix, dtype=float)\n",
    "  \n",
    "  return encoding"
   ]
  },
  {
   "cell_type": "code",
   "execution_count": 15,
   "metadata": {
    "colab": {
     "base_uri": "https://localhost:8080/",
     "height": 88,
     "referenced_widgets": [
      "afccdd194fec4ede9c65846cb0781d68",
      "45746650248241e1942e8809c94b06a4",
      "8901c5d6493f42fcb90992f2db6e402b",
      "bca5bf694e1e44ce8be4e273f1c53ce2",
      "68abbd466ba64e8088b80c65bc0adb63",
      "c4f502d0988648d7996e1a55108a0fbe",
      "669f35f7f8fc4ad3b510972b19c69a3c",
      "d8f166d45b1c41d4b29e6cf63f5ed29d",
      "439053c658424b2f93a3f383b8d0af95",
      "3ab9eb89743744a9aa717dd82a129201",
      "73faac60485a45ef9234d3464b0b1c74",
      "b4a289a28e694652b8e8d6d518314f63",
      "d9d01b97af884a198cfea00559c1f199",
      "431cea2a52604dd4910542e1fac2d045",
      "66f61081b48d4f7785e1d150c3cb9a07",
      "91ae61f382f14883b9337f17dc8e7267",
      "c2582028d3ed41b9a32bc31df53a16dd",
      "df37c400a9014907a887fce2a5fc7042",
      "985db658d3614f1aabb57d173732f678",
      "ec1f581ed92148b5bee7ce0441f8d883",
      "686b34d4d82d4a5691fc6d4dfc51d0bb",
      "0571ec3060ae43b3811de5ccc85c9385",
      "4082b8176278445997a2453706b7b101",
      "d0b9d1bfa51546f8a775488417d3a684",
      "6c8eabd8b41f4cc4934c9c1f060026c6",
      "ca0cf0adf2bb4653b04cd85c25d14a3e",
      "1c66085d538641d28d132d723c053fa2",
      "adeb54cc7fa44b1f948595fb1e887926",
      "b3ff5b01b690434b8763f056165078c0",
      "9e9849e134bd42cba950405613d6cee6",
      "890e461de2bb4d2e902ca483b9c7b203",
      "fb31a2d5e23b465bb6abbdda03a17f02",
      "fe78160e25464f1589b6e09917c0f3f5"
     ]
    },
    "id": "i4ENBTdulBEI",
    "outputId": "a3266c2d-2dcc-4269-975d-9684cf05e941"
   },
   "outputs": [
    {
     "name": "stderr",
     "output_type": "stream",
     "text": [
      "Parameter 'function'=<function preprocess_data at 0x7fed8f7fd8c0> of the transform datasets.arrow_dataset.Dataset._map_single couldn't be hashed properly, a random hash was used instead. Make sure your transforms and parameters are serializable with pickle or dill for the dataset fingerprinting and caching to work. If you reuse this transform, the caching mechanism will consider it to be different from the previous calls and recompute everything. This warning is only showed once. Subsequent hashing failures won't be showed.\n"
     ]
    },
    {
     "data": {
      "application/vnd.jupyter.widget-view+json": {
       "model_id": "696f745833934071bcbe3bae39f7248b",
       "version_major": 2,
       "version_minor": 0
      },
      "text/plain": [
       "  0%|          | 0/53 [00:00<?, ?ba/s]"
      ]
     },
     "metadata": {},
     "output_type": "display_data"
    },
    {
     "data": {
      "application/vnd.jupyter.widget-view+json": {
       "model_id": "9941252186594a3b944365e151d21e40",
       "version_major": 2,
       "version_minor": 0
      },
      "text/plain": [
       "  0%|          | 0/5 [00:00<?, ?ba/s]"
      ]
     },
     "metadata": {},
     "output_type": "display_data"
    },
    {
     "data": {
      "application/vnd.jupyter.widget-view+json": {
       "model_id": "95455f0b06f14160bb4a71189b7419ed",
       "version_major": 2,
       "version_minor": 0
      },
      "text/plain": [
       "  0%|          | 0/5 [00:00<?, ?ba/s]"
      ]
     },
     "metadata": {},
     "output_type": "display_data"
    }
   ],
   "source": [
    "encoded_dataset = dataset.map(preprocess_data, batched=True)"
   ]
  },
  {
   "cell_type": "code",
   "execution_count": 16,
   "metadata": {
    "colab": {
     "base_uri": "https://localhost:8080/"
    },
    "id": "0enAb0W9o25W",
    "outputId": "840d2ddc-18f9-44a9-a2e9-fe2ea77d7d3c"
   },
   "outputs": [
    {
     "name": "stdout",
     "output_type": "stream",
     "text": [
      "dict_keys(['celex_id', 'text', 'old_labels', 'input_ids', 'token_type_ids', 'attention_mask', 'labels'])\n"
     ]
    }
   ],
   "source": [
    "example = encoded_dataset['train'][0]\n",
    "print(example.keys())"
   ]
  },
  {
   "cell_type": "code",
   "execution_count": 17,
   "metadata": {
    "colab": {
     "base_uri": "https://localhost:8080/",
     "height": 103
    },
    "id": "D0McCtJ8HRJY",
    "outputId": "b9068821-7e2c-44db-c962-2e4a717b5534"
   },
   "outputs": [
    {
     "data": {
      "text/plain": [
       "'[CLS] decision de la comision de 6 de marzo de 2006 por la que se establecen las clases de reaccion al fuego para determinados productos de construccion en lo que respecta a los suelos de madera y los paneles y revestimientos murales de madera maciza [ notificada con el numero c ( 2006 ) 655 ] ( texto pertinente a efectos del eee ) ( 2006 / 213 / ce ) la comision de las comunidades europeas, visto el tratado constitutivo de la comunidad europea, vista la directiva 89 / 106 / cee del consejo, de 21 de diciembre de 1988, relativa a la aproximacion de las disposiciones legales, reglamentarias y administrativas de los estados miembros sobre los productos de construccion ( 1 ), y, en particular, su articulo 20, apartado 2, considerando lo siguiente : ( 1 ) en la directiva 89 / 106 / cee se establece que, con el fin de tener en cuenta los distintos niveles de proteccion para las obras de construccion a escala nacional, regional o local, puede ser necesario establecer, en los documentos interpretativos, clases correspondientes al comportamiento de los productos en relacion con cada uno de los requisitos esenciales. dichos documentos se han publicado bajo el titulo « comunicacion de la comision relativa a los documentos interpretativos de la directiva 89 / 106 / cee del consejo ( 2 ) ». ( 2 ) en cuanto al requisito esencial de seguridad en caso de incendio, en [SEP]'"
      ]
     },
     "execution_count": 17,
     "metadata": {},
     "output_type": "execute_result"
    }
   ],
   "source": [
    "tokenizer.decode(example['input_ids'])"
   ]
  },
  {
   "cell_type": "code",
   "execution_count": 18,
   "metadata": {
    "colab": {
     "base_uri": "https://localhost:8080/"
    },
    "id": "q4Dx95t2o6N9",
    "outputId": "d70411e3-29fe-4e72-d156-e39367abe460"
   },
   "outputs": [
    {
     "data": {
      "text/plain": [
       "['social questions',\n",
       " 'industry',\n",
       " 'trade',\n",
       " 'production, technology and research',\n",
       " 'environment']"
      ]
     },
     "execution_count": 18,
     "metadata": {},
     "output_type": "execute_result"
    }
   ],
   "source": [
    "[id2label[idx] for idx, label in enumerate(example['labels']) if label == 1.0]"
   ]
  },
  {
   "cell_type": "markdown",
   "metadata": {
    "id": "HgpKXDfvKBxn"
   },
   "source": [
    "Finally, we set the format of our data to PyTorch tensors. This will turn the training, validation and test sets into standard PyTorch [datasets](https://pytorch.org/docs/stable/data.html). "
   ]
  },
  {
   "cell_type": "code",
   "execution_count": 19,
   "metadata": {
    "id": "Lk6Cq9duKBkA"
   },
   "outputs": [],
   "source": [
    "encoded_dataset.set_format(\"torch\")"
   ]
  },
  {
   "cell_type": "markdown",
   "metadata": {
    "id": "w5qSmCgWefWs"
   },
   "source": [
    "## Define model\n",
    "\n",
    "Here we define a model that includes a pre-trained base (i.e. the weights from bert-base-multilingual-uncased) are loaded, with a random initialized classification head (linear layer) on top. One should fine-tune this head, together with the pre-trained base on a labeled dataset.\n",
    "\n",
    "This is also printed by the warning.\n",
    "\n",
    "We set the `problem_type` to be \"multi_label_classification\", as this will make sure the appropriate loss function is used (namely [`BCEWithLogitsLoss`](https://pytorch.org/docs/stable/generated/torch.nn.BCEWithLogitsLoss.html)). We also make sure the output layer has `len(labels)` output neurons, and we set the id2label and label2id mappings."
   ]
  },
  {
   "cell_type": "code",
   "execution_count": 20,
   "metadata": {
    "colab": {
     "base_uri": "https://localhost:8080/"
    },
    "id": "6XPL1Z_RegBF",
    "outputId": "5e2f251f-82b9-4f0e-a90d-8054bd860044"
   },
   "outputs": [
    {
     "name": "stderr",
     "output_type": "stream",
     "text": [
      "Some weights of the model checkpoint at bert-base-multilingual-uncased were not used when initializing BertForSequenceClassification: ['cls.predictions.transform.LayerNorm.weight', 'cls.seq_relationship.weight', 'cls.predictions.transform.dense.bias', 'cls.predictions.transform.dense.weight', 'cls.predictions.decoder.weight', 'cls.seq_relationship.bias', 'cls.predictions.transform.LayerNorm.bias', 'cls.predictions.bias']\n",
      "- This IS expected if you are initializing BertForSequenceClassification from the checkpoint of a model trained on another task or with another architecture (e.g. initializing a BertForSequenceClassification model from a BertForPreTraining model).\n",
      "- This IS NOT expected if you are initializing BertForSequenceClassification from the checkpoint of a model that you expect to be exactly identical (initializing a BertForSequenceClassification model from a BertForSequenceClassification model).\n",
      "Some weights of BertForSequenceClassification were not initialized from the model checkpoint at bert-base-multilingual-uncased and are newly initialized: ['classifier.weight', 'classifier.bias']\n",
      "You should probably TRAIN this model on a down-stream task to be able to use it for predictions and inference.\n"
     ]
    }
   ],
   "source": [
    "from transformers import AutoModelForSequenceClassification\n",
    "\n",
    "model = AutoModelForSequenceClassification.from_pretrained(\"bert-base-multilingual-uncased\", \n",
    "                                                           problem_type=\"multi_label_classification\", \n",
    "                                                           num_labels=len(labels),\n",
    "                                                           id2label=id2label,\n",
    "                                                           label2id=label2id)"
   ]
  },
  {
   "cell_type": "markdown",
   "metadata": {
    "id": "mjJGEXShp7te"
   },
   "source": [
    "## Train the model!\n",
    "\n",
    "We are going to train the model using HuggingFace's Trainer API. This requires us to define 2 things: \n",
    "\n",
    "* `TrainingArguments`, which specify training hyperparameters. All options can be found in the [docs](https://huggingface.co/transformers/main_classes/trainer.html#trainingarguments). Below, we for example specify that we want to evaluate after every epoch of training, we would like to save the model every epoch, we set the learning rate, the batch size to use for training/evaluation, how many epochs to train for, and so on.\n",
    "* a `Trainer` object (docs can be found [here](https://huggingface.co/transformers/main_classes/trainer.html#id1))."
   ]
  },
  {
   "cell_type": "code",
   "execution_count": 21,
   "metadata": {
    "id": "K5a8_vIKqr7P"
   },
   "outputs": [],
   "source": [
    "batch_size = 16\n",
    "metric_name = \"f1\""
   ]
  },
  {
   "cell_type": "code",
   "execution_count": 28,
   "metadata": {
    "id": "dR2GmpvDqbuZ"
   },
   "outputs": [],
   "source": [
    "from transformers import TrainingArguments, Trainer\n",
    "\n",
    "args = TrainingArguments(\n",
    "    f\"bert-finetuned-sem_eval-french\",\n",
    "    evaluation_strategy = \"epoch\",\n",
    "    save_strategy = \"epoch\",\n",
    "    learning_rate=2e-5,\n",
    "    per_device_train_batch_size=batch_size,\n",
    "    per_device_eval_batch_size=batch_size,\n",
    "    num_train_epochs=10,\n",
    "    weight_decay=0.01,\n",
    "    load_best_model_at_end=True,\n",
    "    metric_for_best_model=metric_name,\n",
    "    #push_to_hub=True,\n",
    ")"
   ]
  },
  {
   "cell_type": "markdown",
   "metadata": {
    "id": "1_v2fPFFJ3-v"
   },
   "source": [
    "We are also going to compute metrics while training. For this, we need to define a `compute_metrics` function, that returns a dictionary with the desired metric values."
   ]
  },
  {
   "cell_type": "code",
   "execution_count": 29,
   "metadata": {
    "id": "797b2WHJqUgZ"
   },
   "outputs": [],
   "source": [
    "from sklearn.metrics import f1_score, roc_auc_score, accuracy_score\n",
    "from transformers import EvalPrediction\n",
    "import torch\n",
    "    \n",
    "# source: https://jesusleal.io/2021/04/21/Longformer-multilabel-classification/\n",
    "def multi_label_metrics(predictions, labels, threshold=0.5):\n",
    "    # first, apply sigmoid on predictions which are of shape (batch_size, num_labels)\n",
    "    sigmoid = torch.nn.Sigmoid()\n",
    "    probs = sigmoid(torch.Tensor(predictions))\n",
    "    # next, use threshold to turn them into integer predictions\n",
    "    y_pred = np.zeros(probs.shape)\n",
    "    y_pred[np.where(probs >= threshold)] = 1\n",
    "    # finally, compute metrics\n",
    "    y_true = labels\n",
    "    f1_micro_average = f1_score(y_true=y_true, y_pred=y_pred, average='micro')\n",
    "    roc_auc = roc_auc_score(y_true, y_pred, average = 'micro')\n",
    "    accuracy = accuracy_score(y_true, y_pred)\n",
    "    # return as dictionary\n",
    "    metrics = {'f1': f1_micro_average,\n",
    "               'roc_auc': roc_auc,\n",
    "               'accuracy': accuracy}\n",
    "    return metrics\n",
    "\n",
    "def compute_metrics(p: EvalPrediction):\n",
    "    preds = p.predictions[0] if isinstance(p.predictions, \n",
    "            tuple) else p.predictions\n",
    "    result = multi_label_metrics(\n",
    "        predictions=preds, \n",
    "        labels=p.label_ids)\n",
    "    return result"
   ]
  },
  {
   "cell_type": "markdown",
   "metadata": {
    "id": "fxNo4_TsvzDm"
   },
   "source": [
    "Let's verify a batch as well as a forward pass:"
   ]
  },
  {
   "cell_type": "code",
   "execution_count": 30,
   "metadata": {
    "colab": {
     "base_uri": "https://localhost:8080/",
     "height": 35
    },
    "id": "IlOgGiojuWwG",
    "outputId": "b458483e-0d83-462c-fb34-39e5cc70c1f8"
   },
   "outputs": [
    {
     "data": {
      "text/plain": [
       "tensor([1., 1., 0., 1., 0., 0., 0., 1., 0., 0., 0., 0., 0., 0., 0., 0., 0., 0.,\n",
       "        0., 0., 1.])"
      ]
     },
     "execution_count": 30,
     "metadata": {},
     "output_type": "execute_result"
    }
   ],
   "source": [
    "encoded_dataset['train']['labels'][0]"
   ]
  },
  {
   "cell_type": "code",
   "execution_count": 31,
   "metadata": {
    "colab": {
     "base_uri": "https://localhost:8080/"
    },
    "id": "V9wPaLZ7AXnV",
    "outputId": "9c79f006-3391-447d-e3d2-42456356486c"
   },
   "outputs": [
    {
     "data": {
      "text/plain": [
       "tensor([[1., 1., 0.,  ..., 0., 0., 1.],\n",
       "        [0., 0., 1.,  ..., 0., 0., 0.],\n",
       "        [0., 0., 0.,  ..., 0., 1., 0.],\n",
       "        ...,\n",
       "        [0., 0., 1.,  ..., 0., 0., 0.],\n",
       "        [0., 0., 1.,  ..., 0., 0., 0.],\n",
       "        [0., 0., 0.,  ..., 0., 0., 0.]])"
      ]
     },
     "execution_count": 31,
     "metadata": {},
     "output_type": "execute_result"
    }
   ],
   "source": [
    "\n",
    "encoded_dataset['train']['labels']"
   ]
  },
  {
   "cell_type": "code",
   "execution_count": 32,
   "metadata": {},
   "outputs": [
    {
     "data": {
      "text/plain": [
       "tensor([  101, 15308, 10102, 10106, 28284, 10102,   127, 10102, 12620, 10102,\n",
       "        10231, 10190, 10106, 10126, 10128, 74125, 10115, 10265, 38018, 10102,\n",
       "        49483, 10161, 33928, 10239, 15752, 10107, 32746, 10102, 19184, 10109,\n",
       "        10387, 10126, 26497, 10112,   143, 10175, 45134, 10107, 10102, 33017,\n",
       "          167, 10175, 29223, 10165,   167, 90353, 60560, 72104, 76640, 10165,\n",
       "        10102, 33017, 13501, 26543,   138, 69327, 41707, 10173, 10117, 11855,\n",
       "          145,   113, 10231,   114, 49168,   140,   113, 26081, 10174, 50067,\n",
       "        10111,   143, 34489, 10134, 23329, 10111,   114,   113, 10231,   120,\n",
       "        21232,   120, 10630,   114, 10106, 28284, 10102, 10265, 41136, 89022,\n",
       "          117, 21963, 10117, 26833, 10173, 12054, 44309, 14635, 10102, 10106,\n",
       "        24073, 20343,   117, 14681, 10106, 80658, 12844,   120, 16141,   120,\n",
       "        10630, 10111, 10134, 25042,   117, 10102, 10259, 10102, 16409, 10102,\n",
       "        10632,   117, 40840,   143, 10106, 54206, 42134, 12611, 10985, 10102,\n",
       "        10265, 69335, 10165, 25046,   117, 75774, 53593, 14997,   167, 23747,\n",
       "        10107, 10102, 10175, 11103, 19611, 10751, 10175, 32746, 10102, 19184,\n",
       "          113,   122,   114,   117,   167,   117, 10109, 15278,   117, 10192,\n",
       "        34264, 10200,   117, 29976, 11511,   123,   117, 60182, 10387, 17500,\n",
       "          131,   113,   122,   114, 10109, 10106, 80658, 12844,   120, 16141,\n",
       "          120, 10630, 10111, 10128, 74125, 10126,   117, 10173, 10117, 11907,\n",
       "        10102, 18959, 10109, 14789, 10175, 27663, 45771, 10102, 35593, 10239,\n",
       "        10265, 15105, 10102, 19184,   143, 27137, 11275,   117, 12536,   157,\n",
       "        11467,   117, 13139, 10542, 47540, 51718,   117, 10109, 10175, 36528,\n",
       "        38306, 31003,   117, 38018, 66565, 10107, 10161, 77679, 10102, 10175,\n",
       "        32746, 10109, 18755, 10173, 11822, 11446, 10102, 10175, 11449, 52820,\n",
       "        27976, 14572, 81893, 10165,   119, 87475, 36528, 10128, 10210, 20262,\n",
       "        14039, 10117, 14580,   183, 28803, 10102, 10106, 28284, 40840,   143,\n",
       "        10175, 36528, 38306, 31003, 10102, 10106, 80658, 12844,   120, 16141,\n",
       "          120, 10630, 10111, 10134, 25042,   113,   123,   114,   196,   119,\n",
       "          113,   123,   114, 10109, 36987, 10161, 11449, 52820, 12875, 14572,\n",
       "        81893, 10102, 31105, 10109, 12887, 10102, 48398,   117, 10109,   102])"
      ]
     },
     "execution_count": 32,
     "metadata": {},
     "output_type": "execute_result"
    }
   ],
   "source": [
    "encoded_dataset['train']['input_ids'][0]"
   ]
  },
  {
   "cell_type": "code",
   "execution_count": 33,
   "metadata": {
    "colab": {
     "base_uri": "https://localhost:8080/"
    },
    "id": "sxWcnZ8ku12V",
    "outputId": "909a444f-ae12-4402-fdc4-925f5bcdeb67"
   },
   "outputs": [
    {
     "data": {
      "text/plain": [
       "SequenceClassifierOutput(loss=tensor(0.7053, grad_fn=<BinaryCrossEntropyWithLogitsBackward>), logits=tensor([[-0.0353,  0.1318,  0.0647,  0.2442,  0.1971,  0.1151,  0.0311, -0.0358,\n",
       "         -0.0739, -0.0315, -0.1204,  0.0748, -0.1109, -0.2053, -0.0148, -0.0814,\n",
       "          0.2163,  0.2505,  0.1540,  0.2158, -0.0332]],\n",
       "       grad_fn=<AddmmBackward>), hidden_states=None, attentions=None)"
      ]
     },
     "execution_count": 33,
     "metadata": {},
     "output_type": "execute_result"
    }
   ],
   "source": [
    "#forward pass\n",
    "outputs = model(input_ids=encoded_dataset['train']['input_ids'][0].unsqueeze(0), labels=encoded_dataset['train']['labels'][0].unsqueeze(0))\n",
    "outputs"
   ]
  },
  {
   "cell_type": "markdown",
   "metadata": {
    "id": "f-X2brZcv0X6"
   },
   "source": [
    "Let's start training!"
   ]
  },
  {
   "cell_type": "code",
   "execution_count": 34,
   "metadata": {
    "id": "chq_3nUz73ib"
   },
   "outputs": [
    {
     "name": "stderr",
     "output_type": "stream",
     "text": [
      "/home/davo/anaconda3/lib/python3.7/importlib/_bootstrap.py:219: RuntimeWarning: greenlet.greenlet size changed, may indicate binary incompatibility. Expected 144 from C header, got 152 from PyObject\n",
      "  return f(*args, **kwds)\n",
      "/home/davo/anaconda3/lib/python3.7/importlib/_bootstrap.py:219: RuntimeWarning: greenlet.greenlet size changed, may indicate binary incompatibility. Expected 144 from C header, got 152 from PyObject\n",
      "  return f(*args, **kwds)\n",
      "/home/davo/anaconda3/lib/python3.7/importlib/_bootstrap.py:219: RuntimeWarning: greenlet.greenlet size changed, may indicate binary incompatibility. Expected 144 from C header, got 152 from PyObject\n",
      "  return f(*args, **kwds)\n",
      "/home/davo/anaconda3/lib/python3.7/importlib/_bootstrap.py:219: RuntimeWarning: greenlet.greenlet size changed, may indicate binary incompatibility. Expected 144 from C header, got 152 from PyObject\n",
      "  return f(*args, **kwds)\n"
     ]
    }
   ],
   "source": [
    "trainer = Trainer(\n",
    "    model,\n",
    "    args,\n",
    "    train_dataset=encoded_dataset[\"train\"],\n",
    "    eval_dataset=encoded_dataset[\"validation\"],\n",
    "    tokenizer=tokenizer,\n",
    "    compute_metrics=compute_metrics\n",
    ")"
   ]
  },
  {
   "cell_type": "code",
   "execution_count": 35,
   "metadata": {
    "colab": {
     "base_uri": "https://localhost:8080/",
     "height": 239
    },
    "id": "KXmFds8js6P8",
    "outputId": "06ea76ea-8c6b-4ab1-abcc-26991cd26aab"
   },
   "outputs": [
    {
     "name": "stderr",
     "output_type": "stream",
     "text": [
      "The following columns in the training set  don't have a corresponding argument in `BertForSequenceClassification.forward` and have been ignored: text, celex_id, old_labels. If text, celex_id, old_labels are not expected by `BertForSequenceClassification.forward`,  you can safely ignore this message.\n",
      "/home/davo/anaconda3/lib/python3.7/site-packages/transformers/optimization.py:309: FutureWarning: This implementation of AdamW is deprecated and will be removed in a future version. Use the PyTorch implementation torch.optim.AdamW instead, or set `no_deprecation_warning=True` to disable this warning\n",
      "  FutureWarning,\n",
      "***** Running training *****\n",
      "  Num examples = 52785\n",
      "  Num Epochs = 10\n",
      "  Instantaneous batch size per device = 16\n",
      "  Total train batch size (w. parallel, distributed & accumulation) = 16\n",
      "  Gradient Accumulation steps = 1\n",
      "  Total optimization steps = 33000\n",
      "Automatic Weights & Biases logging enabled, to disable set os.environ[\"WANDB_DISABLED\"] = \"true\"\n",
      "\u001b[34m\u001b[1mwandb\u001b[0m: Currently logged in as: \u001b[33mdyada\u001b[0m. Use \u001b[1m`wandb login --relogin`\u001b[0m to force relogin\n"
     ]
    },
    {
     "data": {
      "text/html": [
       "wandb version 0.14.0 is available!  To upgrade, please run:\n",
       " $ pip install wandb --upgrade"
      ],
      "text/plain": [
       "<IPython.core.display.HTML object>"
      ]
     },
     "metadata": {},
     "output_type": "display_data"
    },
    {
     "data": {
      "text/html": [
       "Tracking run with wandb version 0.12.18"
      ],
      "text/plain": [
       "<IPython.core.display.HTML object>"
      ]
     },
     "metadata": {},
     "output_type": "display_data"
    },
    {
     "data": {
      "text/html": [
       "Run data is saved locally in <code>/home/davo/Desktop/wandb/run-20230331_020645-6st9evwl</code>"
      ],
      "text/plain": [
       "<IPython.core.display.HTML object>"
      ]
     },
     "metadata": {},
     "output_type": "display_data"
    },
    {
     "data": {
      "text/html": [
       "Syncing run <strong><a href=\"https://wandb.ai/dyada/huggingface/runs/6st9evwl\" target=\"_blank\">bert-finetuned-sem_eval-french</a></strong> to <a href=\"https://wandb.ai/dyada/huggingface\" target=\"_blank\">Weights & Biases</a> (<a href=\"https://wandb.me/run\" target=\"_blank\">docs</a>)<br/>"
      ],
      "text/plain": [
       "<IPython.core.display.HTML object>"
      ]
     },
     "metadata": {},
     "output_type": "display_data"
    },
    {
     "data": {
      "text/html": [
       "\n",
       "    <div>\n",
       "      \n",
       "      <progress value='33000' max='33000' style='width:300px; height:20px; vertical-align: middle;'></progress>\n",
       "      [33000/33000 3:40:05, Epoch 10/10]\n",
       "    </div>\n",
       "    <table border=\"1\" class=\"dataframe\">\n",
       "  <thead>\n",
       " <tr style=\"text-align: left;\">\n",
       "      <th>Epoch</th>\n",
       "      <th>Training Loss</th>\n",
       "      <th>Validation Loss</th>\n",
       "      <th>F1</th>\n",
       "      <th>Roc Auc</th>\n",
       "      <th>Accuracy</th>\n",
       "    </tr>\n",
       "  </thead>\n",
       "  <tbody>\n",
       "    <tr>\n",
       "      <td>1</td>\n",
       "      <td>0.150100</td>\n",
       "      <td>0.176955</td>\n",
       "      <td>0.798811</td>\n",
       "      <td>0.855899</td>\n",
       "      <td>0.242000</td>\n",
       "    </tr>\n",
       "    <tr>\n",
       "      <td>2</td>\n",
       "      <td>0.125500</td>\n",
       "      <td>0.166279</td>\n",
       "      <td>0.821560</td>\n",
       "      <td>0.875524</td>\n",
       "      <td>0.291000</td>\n",
       "    </tr>\n",
       "    <tr>\n",
       "      <td>3</td>\n",
       "      <td>0.109800</td>\n",
       "      <td>0.165537</td>\n",
       "      <td>0.830239</td>\n",
       "      <td>0.886043</td>\n",
       "      <td>0.315200</td>\n",
       "    </tr>\n",
       "    <tr>\n",
       "      <td>4</td>\n",
       "      <td>0.097700</td>\n",
       "      <td>0.169398</td>\n",
       "      <td>0.828400</td>\n",
       "      <td>0.885860</td>\n",
       "      <td>0.309400</td>\n",
       "    </tr>\n",
       "    <tr>\n",
       "      <td>5</td>\n",
       "      <td>0.087000</td>\n",
       "      <td>0.173899</td>\n",
       "      <td>0.827146</td>\n",
       "      <td>0.885800</td>\n",
       "      <td>0.307400</td>\n",
       "    </tr>\n",
       "    <tr>\n",
       "      <td>6</td>\n",
       "      <td>0.076100</td>\n",
       "      <td>0.177948</td>\n",
       "      <td>0.828656</td>\n",
       "      <td>0.887494</td>\n",
       "      <td>0.320400</td>\n",
       "    </tr>\n",
       "    <tr>\n",
       "      <td>7</td>\n",
       "      <td>0.069000</td>\n",
       "      <td>0.181404</td>\n",
       "      <td>0.827658</td>\n",
       "      <td>0.887668</td>\n",
       "      <td>0.318800</td>\n",
       "    </tr>\n",
       "    <tr>\n",
       "      <td>8</td>\n",
       "      <td>0.059900</td>\n",
       "      <td>0.187455</td>\n",
       "      <td>0.825819</td>\n",
       "      <td>0.886064</td>\n",
       "      <td>0.313800</td>\n",
       "    </tr>\n",
       "    <tr>\n",
       "      <td>9</td>\n",
       "      <td>0.055500</td>\n",
       "      <td>0.190041</td>\n",
       "      <td>0.827078</td>\n",
       "      <td>0.886931</td>\n",
       "      <td>0.321000</td>\n",
       "    </tr>\n",
       "    <tr>\n",
       "      <td>10</td>\n",
       "      <td>0.050100</td>\n",
       "      <td>0.191350</td>\n",
       "      <td>0.826848</td>\n",
       "      <td>0.887791</td>\n",
       "      <td>0.319600</td>\n",
       "    </tr>\n",
       "  </tbody>\n",
       "</table><p>"
      ],
      "text/plain": [
       "<IPython.core.display.HTML object>"
      ]
     },
     "metadata": {},
     "output_type": "display_data"
    },
    {
     "name": "stderr",
     "output_type": "stream",
     "text": [
      "The following columns in the evaluation set  don't have a corresponding argument in `BertForSequenceClassification.forward` and have been ignored: text, celex_id, old_labels. If text, celex_id, old_labels are not expected by `BertForSequenceClassification.forward`,  you can safely ignore this message.\n",
      "***** Running Evaluation *****\n",
      "  Num examples = 5000\n",
      "  Batch size = 16\n",
      "Saving model checkpoint to bert-finetuned-sem_eval-french/checkpoint-3300\n",
      "Configuration saved in bert-finetuned-sem_eval-french/checkpoint-3300/config.json\n",
      "Model weights saved in bert-finetuned-sem_eval-french/checkpoint-3300/pytorch_model.bin\n",
      "tokenizer config file saved in bert-finetuned-sem_eval-french/checkpoint-3300/tokenizer_config.json\n",
      "Special tokens file saved in bert-finetuned-sem_eval-french/checkpoint-3300/special_tokens_map.json\n",
      "The following columns in the evaluation set  don't have a corresponding argument in `BertForSequenceClassification.forward` and have been ignored: text, celex_id, old_labels. If text, celex_id, old_labels are not expected by `BertForSequenceClassification.forward`,  you can safely ignore this message.\n",
      "***** Running Evaluation *****\n",
      "  Num examples = 5000\n",
      "  Batch size = 16\n",
      "Saving model checkpoint to bert-finetuned-sem_eval-french/checkpoint-6600\n",
      "Configuration saved in bert-finetuned-sem_eval-french/checkpoint-6600/config.json\n",
      "Model weights saved in bert-finetuned-sem_eval-french/checkpoint-6600/pytorch_model.bin\n",
      "tokenizer config file saved in bert-finetuned-sem_eval-french/checkpoint-6600/tokenizer_config.json\n",
      "Special tokens file saved in bert-finetuned-sem_eval-french/checkpoint-6600/special_tokens_map.json\n",
      "The following columns in the evaluation set  don't have a corresponding argument in `BertForSequenceClassification.forward` and have been ignored: text, celex_id, old_labels. If text, celex_id, old_labels are not expected by `BertForSequenceClassification.forward`,  you can safely ignore this message.\n",
      "***** Running Evaluation *****\n",
      "  Num examples = 5000\n",
      "  Batch size = 16\n",
      "Saving model checkpoint to bert-finetuned-sem_eval-french/checkpoint-9900\n",
      "Configuration saved in bert-finetuned-sem_eval-french/checkpoint-9900/config.json\n",
      "Model weights saved in bert-finetuned-sem_eval-french/checkpoint-9900/pytorch_model.bin\n",
      "tokenizer config file saved in bert-finetuned-sem_eval-french/checkpoint-9900/tokenizer_config.json\n",
      "Special tokens file saved in bert-finetuned-sem_eval-french/checkpoint-9900/special_tokens_map.json\n",
      "The following columns in the evaluation set  don't have a corresponding argument in `BertForSequenceClassification.forward` and have been ignored: text, celex_id, old_labels. If text, celex_id, old_labels are not expected by `BertForSequenceClassification.forward`,  you can safely ignore this message.\n",
      "***** Running Evaluation *****\n",
      "  Num examples = 5000\n",
      "  Batch size = 16\n",
      "Saving model checkpoint to bert-finetuned-sem_eval-french/checkpoint-13200\n",
      "Configuration saved in bert-finetuned-sem_eval-french/checkpoint-13200/config.json\n",
      "Model weights saved in bert-finetuned-sem_eval-french/checkpoint-13200/pytorch_model.bin\n",
      "tokenizer config file saved in bert-finetuned-sem_eval-french/checkpoint-13200/tokenizer_config.json\n",
      "Special tokens file saved in bert-finetuned-sem_eval-french/checkpoint-13200/special_tokens_map.json\n",
      "The following columns in the evaluation set  don't have a corresponding argument in `BertForSequenceClassification.forward` and have been ignored: text, celex_id, old_labels. If text, celex_id, old_labels are not expected by `BertForSequenceClassification.forward`,  you can safely ignore this message.\n",
      "***** Running Evaluation *****\n",
      "  Num examples = 5000\n",
      "  Batch size = 16\n",
      "Saving model checkpoint to bert-finetuned-sem_eval-french/checkpoint-16500\n",
      "Configuration saved in bert-finetuned-sem_eval-french/checkpoint-16500/config.json\n",
      "Model weights saved in bert-finetuned-sem_eval-french/checkpoint-16500/pytorch_model.bin\n",
      "tokenizer config file saved in bert-finetuned-sem_eval-french/checkpoint-16500/tokenizer_config.json\n",
      "Special tokens file saved in bert-finetuned-sem_eval-french/checkpoint-16500/special_tokens_map.json\n",
      "The following columns in the evaluation set  don't have a corresponding argument in `BertForSequenceClassification.forward` and have been ignored: text, celex_id, old_labels. If text, celex_id, old_labels are not expected by `BertForSequenceClassification.forward`,  you can safely ignore this message.\n",
      "***** Running Evaluation *****\n",
      "  Num examples = 5000\n",
      "  Batch size = 16\n",
      "Saving model checkpoint to bert-finetuned-sem_eval-french/checkpoint-19800\n",
      "Configuration saved in bert-finetuned-sem_eval-french/checkpoint-19800/config.json\n",
      "Model weights saved in bert-finetuned-sem_eval-french/checkpoint-19800/pytorch_model.bin\n",
      "tokenizer config file saved in bert-finetuned-sem_eval-french/checkpoint-19800/tokenizer_config.json\n",
      "Special tokens file saved in bert-finetuned-sem_eval-french/checkpoint-19800/special_tokens_map.json\n",
      "The following columns in the evaluation set  don't have a corresponding argument in `BertForSequenceClassification.forward` and have been ignored: text, celex_id, old_labels. If text, celex_id, old_labels are not expected by `BertForSequenceClassification.forward`,  you can safely ignore this message.\n",
      "***** Running Evaluation *****\n",
      "  Num examples = 5000\n",
      "  Batch size = 16\n",
      "Saving model checkpoint to bert-finetuned-sem_eval-french/checkpoint-23100\n",
      "Configuration saved in bert-finetuned-sem_eval-french/checkpoint-23100/config.json\n",
      "Model weights saved in bert-finetuned-sem_eval-french/checkpoint-23100/pytorch_model.bin\n",
      "tokenizer config file saved in bert-finetuned-sem_eval-french/checkpoint-23100/tokenizer_config.json\n",
      "Special tokens file saved in bert-finetuned-sem_eval-french/checkpoint-23100/special_tokens_map.json\n",
      "The following columns in the evaluation set  don't have a corresponding argument in `BertForSequenceClassification.forward` and have been ignored: text, celex_id, old_labels. If text, celex_id, old_labels are not expected by `BertForSequenceClassification.forward`,  you can safely ignore this message.\n",
      "***** Running Evaluation *****\n",
      "  Num examples = 5000\n",
      "  Batch size = 16\n",
      "Saving model checkpoint to bert-finetuned-sem_eval-french/checkpoint-26400\n",
      "Configuration saved in bert-finetuned-sem_eval-french/checkpoint-26400/config.json\n",
      "Model weights saved in bert-finetuned-sem_eval-french/checkpoint-26400/pytorch_model.bin\n",
      "tokenizer config file saved in bert-finetuned-sem_eval-french/checkpoint-26400/tokenizer_config.json\n",
      "Special tokens file saved in bert-finetuned-sem_eval-french/checkpoint-26400/special_tokens_map.json\n",
      "The following columns in the evaluation set  don't have a corresponding argument in `BertForSequenceClassification.forward` and have been ignored: text, celex_id, old_labels. If text, celex_id, old_labels are not expected by `BertForSequenceClassification.forward`,  you can safely ignore this message.\n",
      "***** Running Evaluation *****\n",
      "  Num examples = 5000\n",
      "  Batch size = 16\n",
      "Saving model checkpoint to bert-finetuned-sem_eval-french/checkpoint-29700\n",
      "Configuration saved in bert-finetuned-sem_eval-french/checkpoint-29700/config.json\n",
      "Model weights saved in bert-finetuned-sem_eval-french/checkpoint-29700/pytorch_model.bin\n",
      "tokenizer config file saved in bert-finetuned-sem_eval-french/checkpoint-29700/tokenizer_config.json\n",
      "Special tokens file saved in bert-finetuned-sem_eval-french/checkpoint-29700/special_tokens_map.json\n",
      "The following columns in the evaluation set  don't have a corresponding argument in `BertForSequenceClassification.forward` and have been ignored: text, celex_id, old_labels. If text, celex_id, old_labels are not expected by `BertForSequenceClassification.forward`,  you can safely ignore this message.\n",
      "***** Running Evaluation *****\n",
      "  Num examples = 5000\n",
      "  Batch size = 16\n",
      "Saving model checkpoint to bert-finetuned-sem_eval-french/checkpoint-33000\n",
      "Configuration saved in bert-finetuned-sem_eval-french/checkpoint-33000/config.json\n",
      "Model weights saved in bert-finetuned-sem_eval-french/checkpoint-33000/pytorch_model.bin\n",
      "tokenizer config file saved in bert-finetuned-sem_eval-french/checkpoint-33000/tokenizer_config.json\n",
      "Special tokens file saved in bert-finetuned-sem_eval-french/checkpoint-33000/special_tokens_map.json\n"
     ]
    },
    {
     "name": "stderr",
     "output_type": "stream",
     "text": [
      "\n",
      "\n",
      "Training completed. Do not forget to share your model on huggingface.co/models =)\n",
      "\n",
      "\n",
      "Loading best model from bert-finetuned-sem_eval-french/checkpoint-9900 (score: 0.8302390279906887).\n"
     ]
    },
    {
     "data": {
      "text/plain": [
       "TrainOutput(global_step=33000, training_loss=0.092083921548092, metrics={'train_runtime': 13214.8913, 'train_samples_per_second': 39.944, 'train_steps_per_second': 2.497, 'total_flos': 8.139074010632998e+16, 'train_loss': 0.092083921548092, 'epoch': 10.0})"
      ]
     },
     "execution_count": 35,
     "metadata": {},
     "output_type": "execute_result"
    }
   ],
   "source": [
    "trainer.train()"
   ]
  },
  {
   "cell_type": "markdown",
   "metadata": {
    "id": "hiloh9eMK91o"
   },
   "source": [
    "## Evaluate\n",
    "\n",
    "After training, we evaluate our model on the validation set."
   ]
  },
  {
   "cell_type": "code",
   "execution_count": 36,
   "metadata": {
    "colab": {
     "base_uri": "https://localhost:8080/",
     "height": 224
    },
    "id": "cMlebJ83LRYG",
    "outputId": "b18102e7-2198-4beb-c874-d39636f740ed"
   },
   "outputs": [
    {
     "name": "stderr",
     "output_type": "stream",
     "text": [
      "The following columns in the evaluation set  don't have a corresponding argument in `BertForSequenceClassification.forward` and have been ignored: text, celex_id, old_labels. If text, celex_id, old_labels are not expected by `BertForSequenceClassification.forward`,  you can safely ignore this message.\n",
      "***** Running Evaluation *****\n",
      "  Num examples = 5000\n",
      "  Batch size = 16\n"
     ]
    },
    {
     "data": {
      "text/html": [
       "\n",
       "    <div>\n",
       "      \n",
       "      <progress value='313' max='313' style='width:300px; height:20px; vertical-align: middle;'></progress>\n",
       "      [313/313 00:35]\n",
       "    </div>\n",
       "    "
      ],
      "text/plain": [
       "<IPython.core.display.HTML object>"
      ]
     },
     "metadata": {},
     "output_type": "display_data"
    },
    {
     "data": {
      "text/plain": [
       "{'eval_loss': 0.16553713381290436,\n",
       " 'eval_f1': 0.8302390279906887,\n",
       " 'eval_roc_auc': 0.8860434580006998,\n",
       " 'eval_accuracy': 0.3152,\n",
       " 'eval_runtime': 36.0575,\n",
       " 'eval_samples_per_second': 138.668,\n",
       " 'eval_steps_per_second': 8.681,\n",
       " 'epoch': 10.0}"
      ]
     },
     "execution_count": 36,
     "metadata": {},
     "output_type": "execute_result"
    }
   ],
   "source": [
    "trainer.evaluate()"
   ]
  },
  {
   "cell_type": "markdown",
   "metadata": {
    "id": "3nmvJp0pLq-3"
   },
   "source": [
    "## Inference\n",
    "\n",
    "Let's test the model on a new sentence:"
   ]
  },
  {
   "cell_type": "code",
   "execution_count": 37,
   "metadata": {},
   "outputs": [
    {
     "data": {
      "text/plain": [
       "'REGLAMENTO (UE) No 1390/2013 DEL CONSEJO\\nde 16 de diciembre de 2013\\nrelativo al reparto de las posibilidades de pesca en virtud del Protocolo entre la Unión Europea y la Unión de las Comoras por el que se fijan las posibilidades de pesca y la contrapartida financiera establecidas en el Acuerdo de Colaboración en el sector pesquero en vigor entre ambas Partes\\nEL CONSEJO DE LA UNIÓN EUROPEA,\\nVisto el Tratado de Funcionamiento de la Unión Europea, y en particular su artículo 43, apartado 3,\\nVista la propuesta de la Comisión Europea,\\nConsiderando lo siguiente:\\n(1)\\nEl 5 de octubre de 2006, el Consejo aprobó el Acuerdo de Colaboración en el sector pesquero entre la Comunidad Europea y la Unión de las Comoras («Acuerdo de Colaboración»), mediante la adopción del Reglamento (CE) no 1563/2006 (1).\\n(2)\\nLa Unión Europea negoció con la Unión de las Comoras un nuevo Protocolo del Acuerdo de Colaboración, por el que se conceden a los buques de la Unión Europea posibilidades de pesca en aguas de las Comoras. Al término de las negociaciones se rubricó un nuevo Protocolo el 5 de julio de 2013.\\n(3)\\nEl 16 de diciembre de 2013, el Consejo adoptó la Decisión 2013/786/UE (2) relativa a la firma y a la aplicación provisional del nuevo Protocolo.\\n(4)\\nEs preciso determinar el reparto de las posibilidades de pesca entre los Estados miembros para el período de aplicación del nuevo Protocolo.\\n(5)\\nDe conformidad con el Reglamento (CE) no 1006/2008 del Consejo (3), si resultase que las posibilidades de pesca asignadas a la Unión Europea en virtud del nuevo Protocolo no se aprovechan plenamente, la Comisión informará al respecto a los Estados miembros interesados. La falta de respuesta dentro del plazo que haya determinado el Consejo, debe considerarse una confirmación de que los buques del Estado miembro en cuestión no utilizan plenamente sus posibilidades de pesca durante el período de que se trate. Procede fijar dicho plazo.\\n(6)\\nA fin de garantizar la continuidad de las actividades pesqueras de los buques de la Unión Europea, el nuevo Protocolo prevé la posibilidad de que se produzca su aplicación de forma provisional por cada una de las Partes a partir del 1 de enero de 2014. Por lo tanto, conviene que el presente Reglamento se aplique a partir de la fecha de aplicación provisional del nuevo Protocolo.\\nHA ADOPTADO EL PRESENTE REGLAMENTO:\\nArtículo 1\\n1. Las posibilidades de pesca fijadas en el Protocolo entre la Unión Europea y la Unión de las Comoras por el que se fijan las posibilidades de pesca y la contrapartida financiera previstas en el Acuerdo de Colaboración en el sector pesquero en vigor entre ambas Partes («Protocolo») se reparten entre los Estados miembros del siguiente modo:\\na)\\n42 atuneros cerqueros:\\n-\\nEspaña: 21 buques\\n-\\nFrancia: 21 buques\\nb)\\n20 palangreros de superficie:\\n-\\nEspaña: 8 buques\\n-\\nFrancia: 9 buques\\n-\\nPortugal: 3 buques\\n2. El Reglamento (CE) no 1006/2008 se aplica sin perjuicio del Protocolo y del Acuerdo de Colaboración.\\n3. El plazo en el que los Estados miembros deben confirmar que no utilizan plenamente las posibilidades de pesca concedidas en virtud del Acuerdo de Colaboración, contemplado en el artículo 10, apartado 1, del Reglamento (CE) no 1006/2008, se fija en diez días hábiles a partir de la fecha en la que la Comisión les informe de que no se han utilizado plenamente las posibilidades de pesca.\\nArtículo 2\\nEl presente Reglamento entrará en vigor al día siguiente de su publicación en el Diario Oficial de la Unión Europea.\\nSerá aplicable a partir del 1 de enero de 2014.\\nEl presente Reglamento será obligatorio en todos sus elementos y directamente aplicable en cada Estado miembro.\\nHecho en Bruselas, el 16 de diciembre de 2013.'"
      ]
     },
     "execution_count": 37,
     "metadata": {},
     "output_type": "execute_result"
    }
   ],
   "source": [
    "dataset['test']['text'][0]"
   ]
  },
  {
   "cell_type": "markdown",
   "metadata": {},
   "source": [
    "### Below you can observe a few examples with their predicted outputs for Bert model and what actually was true label"
   ]
  },
  {
   "cell_type": "code",
   "execution_count": 38,
   "metadata": {},
   "outputs": [],
   "source": [
    "def predict_labels(text, thres_prob=0.5):\n",
    "    encoding = tokenizer(text, return_tensors=\"pt\")\n",
    "    encoding = {k: v.to(trainer.model.device) for k,v in encoding.items()}\n",
    "\n",
    "    outputs = trainer.model(**encoding)\n",
    "    logits = outputs.logits\n",
    "    # apply sigmoid + threshold\n",
    "    sigmoid = torch.nn.Sigmoid()\n",
    "    probs = sigmoid(logits.squeeze().cpu())\n",
    "    predictions = np.zeros(probs.shape)\n",
    "    predictions[np.where(probs >= thres_prob)] = 1\n",
    "    # turn predicted id's into actual label names\n",
    "    predicted_labels = [id2label[idx] for idx, label in enumerate(predictions) if label == 1.0]\n",
    "\n",
    "    return predicted_labels"
   ]
  },
  {
   "cell_type": "code",
   "execution_count": 39,
   "metadata": {},
   "outputs": [],
   "source": [
    "predicted_labels = predict_labels(text=dataset['test']['text'][0][:512])"
   ]
  },
  {
   "cell_type": "code",
   "execution_count": 40,
   "metadata": {},
   "outputs": [
    {
     "name": "stdout",
     "output_type": "stream",
     "text": [
      "predicted_labels>>> ['international relations', 'agriculture, forestry and fisheries', 'geography']\n"
     ]
    }
   ],
   "source": [
    "print('predicted_labels>>>', predicted_labels)"
   ]
  },
  {
   "cell_type": "code",
   "execution_count": 41,
   "metadata": {},
   "outputs": [
    {
     "name": "stdout",
     "output_type": "stream",
     "text": [
      "true labels>>> ['international relations', 'agriculture, forestry and fisheries', 'EUROPEAN UNION', 'geography']\n"
     ]
    }
   ],
   "source": [
    "print('true labels>>>', [id2label[idx] for idx, label in enumerate(numbers_to_classes(dataset['test']['old_labels'][0])) if label == 1.0])"
   ]
  },
  {
   "cell_type": "markdown",
   "metadata": {},
   "source": [
    "### In the case above Bert model was able to pick up all true categories but missed 'EUROPEAN UNION'  category"
   ]
  },
  {
   "cell_type": "code",
   "execution_count": 42,
   "metadata": {},
   "outputs": [],
   "source": [
    "predicted_labels = predict_labels(text=dataset['test']['text'][100][:512])"
   ]
  },
  {
   "cell_type": "code",
   "execution_count": 43,
   "metadata": {},
   "outputs": [
    {
     "name": "stdout",
     "output_type": "stream",
     "text": [
      "predicted_labels>>> ['trade', 'agriculture, forestry and fisheries', 'agri-foodstuffs', 'geography']\n"
     ]
    }
   ],
   "source": [
    "print('predicted_labels>>>', predicted_labels)"
   ]
  },
  {
   "cell_type": "code",
   "execution_count": 44,
   "metadata": {},
   "outputs": [
    {
     "name": "stdout",
     "output_type": "stream",
     "text": [
      "true labels>>> ['trade', 'agriculture, forestry and fisheries', 'production, technology and research', 'agri-foodstuffs', 'geography']\n"
     ]
    }
   ],
   "source": [
    "print('true labels>>>', [id2label[idx] for idx, label in enumerate(numbers_to_classes(dataset['test']['old_labels'][100])) if label == 1.0])"
   ]
  },
  {
   "cell_type": "markdown",
   "metadata": {},
   "source": [
    "### In the case above Bert model was able to pick up all true categories but missed 'production, technology and research'  category"
   ]
  },
  {
   "cell_type": "code",
   "execution_count": 45,
   "metadata": {},
   "outputs": [],
   "source": [
    "predicted_labels = predict_labels(text=dataset['test']['text'][1000][:512])"
   ]
  },
  {
   "cell_type": "code",
   "execution_count": 46,
   "metadata": {},
   "outputs": [
    {
     "name": "stdout",
     "output_type": "stream",
     "text": [
      "predicted_labels>>> ['international relations', 'EUROPEAN UNION', 'geography']\n"
     ]
    }
   ],
   "source": [
    "print('predicted_labels>>>', predicted_labels)"
   ]
  },
  {
   "cell_type": "code",
   "execution_count": 47,
   "metadata": {},
   "outputs": [
    {
     "name": "stdout",
     "output_type": "stream",
     "text": [
      "true labels>>> ['trade', 'international relations', 'EUROPEAN UNION', 'geography']\n"
     ]
    }
   ],
   "source": [
    "print('true labels>>>', [id2label[idx] for idx, label in enumerate(numbers_to_classes(dataset['test']['old_labels'][1000])) if label == 1.0])"
   ]
  },
  {
   "cell_type": "markdown",
   "metadata": {},
   "source": [
    "### In the case above Bert model was able to pick up all true categories but also missed 'trade' category"
   ]
  },
  {
   "cell_type": "code",
   "execution_count": 53,
   "metadata": {},
   "outputs": [],
   "source": [
    "predicted_labels = predict_labels(text=dataset['test']['text'][1000][:512], thres_prob=0.2)"
   ]
  },
  {
   "cell_type": "code",
   "execution_count": 54,
   "metadata": {},
   "outputs": [
    {
     "name": "stdout",
     "output_type": "stream",
     "text": [
      "predicted_labels>>> ['trade', 'international relations', 'EUROPEAN UNION', 'geography']\n"
     ]
    }
   ],
   "source": [
    "print('predicted_labels>>>', predicted_labels)"
   ]
  },
  {
   "cell_type": "code",
   "execution_count": 55,
   "metadata": {},
   "outputs": [
    {
     "name": "stdout",
     "output_type": "stream",
     "text": [
      "true labels>>> ['trade', 'international relations', 'EUROPEAN UNION', 'geography']\n"
     ]
    }
   ],
   "source": [
    "print('true labels>>>', [id2label[idx] for idx, label in enumerate(numbers_to_classes(dataset['test']['old_labels'][1000])) if label == 1.0])"
   ]
  },
  {
   "cell_type": "markdown",
   "metadata": {},
   "source": [
    "### if we reduce threshold to 20% for accepting  a label as related to the class then we capture all categories correctly"
   ]
  },
  {
   "cell_type": "code",
   "execution_count": 56,
   "metadata": {},
   "outputs": [],
   "source": [
    "predicted_labels = predict_labels(text=dataset['test']['text'][1111][:512])"
   ]
  },
  {
   "cell_type": "code",
   "execution_count": 57,
   "metadata": {},
   "outputs": [
    {
     "name": "stdout",
     "output_type": "stream",
     "text": [
      "predicted_labels>>> ['social questions', 'trade', 'agriculture, forestry and fisheries', 'agri-foodstuffs']\n"
     ]
    }
   ],
   "source": [
    "print('predicted_labels>>>', predicted_labels)"
   ]
  },
  {
   "cell_type": "code",
   "execution_count": 58,
   "metadata": {},
   "outputs": [
    {
     "name": "stdout",
     "output_type": "stream",
     "text": [
      "true labels>>> ['trade', 'agri-foodstuffs']\n"
     ]
    }
   ],
   "source": [
    "print('true labels>>>', [id2label[idx] for idx, label in enumerate(numbers_to_classes(dataset['test']['old_labels'][1111])) if label == 1.0])"
   ]
  },
  {
   "cell_type": "markdown",
   "metadata": {},
   "source": [
    "## we capture trade and agri-foodstuffs but mislabel social questions category and 'agriculture, forestry and fisheries'"
   ]
  },
  {
   "cell_type": "code",
   "execution_count": 59,
   "metadata": {},
   "outputs": [],
   "source": [
    "predicted_labels = predict_labels(text=dataset['test']['text'][2230][:512])"
   ]
  },
  {
   "cell_type": "code",
   "execution_count": 60,
   "metadata": {},
   "outputs": [
    {
     "name": "stdout",
     "output_type": "stream",
     "text": [
      "predicted_labels>>> ['trade', 'agri-foodstuffs']\n"
     ]
    }
   ],
   "source": [
    "print('predicted_labels>>>', predicted_labels)"
   ]
  },
  {
   "cell_type": "code",
   "execution_count": 61,
   "metadata": {},
   "outputs": [
    {
     "name": "stdout",
     "output_type": "stream",
     "text": [
      "true labels>>> ['trade', 'agri-foodstuffs']\n"
     ]
    }
   ],
   "source": [
    "print('true labels>>>', [id2label[idx] for idx, label in enumerate(numbers_to_classes(dataset['test']['old_labels'][2230])) if label == 1.0])"
   ]
  },
  {
   "cell_type": "markdown",
   "metadata": {},
   "source": [
    "### Based on output above we can observe that Bert returns also fully correct list of labels as well."
   ]
  },
  {
   "cell_type": "markdown",
   "metadata": {},
   "source": [
    "### Based on examples above it is clear thta BERT model learned to pick up majority of the categories but very often missed one category from the true category list.  Good part Bert picks up majority of the classes, bad it often misses one class"
   ]
  },
  {
   "cell_type": "markdown",
   "metadata": {},
   "source": [
    "## Metrics that would be useful for multilabel classification are F1 score and AUC/ROC curve. We will stick to F1"
   ]
  },
  {
   "cell_type": "code",
   "execution_count": 62,
   "metadata": {},
   "outputs": [
    {
     "data": {
      "text/plain": [
       "{'eval_loss': 0.16553713381290436,\n",
       " 'eval_f1': 0.8302390279906887,\n",
       " 'eval_roc_auc': 0.8860434580006998,\n",
       " 'eval_accuracy': 0.3152,\n",
       " 'eval_runtime': 36.0575,\n",
       " 'eval_samples_per_second': 138.668,\n",
       " 'eval_steps_per_second': 8.681,\n",
       " 'epoch': 10.0}"
      ]
     },
     "execution_count": 62,
     "metadata": {},
     "output_type": "execute_result"
    }
   ],
   "source": [
    "{'eval_loss': 0.16553713381290436,\n",
    " 'eval_f1': 0.8302390279906887,\n",
    " 'eval_roc_auc': 0.8860434580006998,\n",
    " 'eval_accuracy': 0.3152,\n",
    " 'eval_runtime': 36.0575,\n",
    " 'eval_samples_per_second': 138.668,\n",
    " 'eval_steps_per_second': 8.681,\n",
    " 'epoch': 10.0}"
   ]
  },
  {
   "cell_type": "markdown",
   "metadata": {},
   "source": [
    "## above we can observe performance measures of BERT model trained with 50 epochs for the test set with f1 score around 80%"
   ]
  },
  {
   "cell_type": "code",
   "execution_count": 63,
   "metadata": {},
   "outputs": [
    {
     "data": {
      "text/plain": [
       "0.047619047619047616"
      ]
     },
     "execution_count": 63,
     "metadata": {},
     "output_type": "execute_result"
    }
   ],
   "source": [
    "1/21"
   ]
  },
  {
   "cell_type": "markdown",
   "metadata": {},
   "source": [
    "## To compare with random classifier we have 21 categories so random classifier which always predicts same category should be able to obtain around 5% (equal distribution of categoris in datasets) accuracy while our model has 31.5% on test set."
   ]
  },
  {
   "cell_type": "code",
   "execution_count": null,
   "metadata": {},
   "outputs": [],
   "source": []
  }
 ],
 "metadata": {
  "accelerator": "GPU",
  "colab": {
   "provenance": []
  },
  "gpuClass": "standard",
  "kernelspec": {
   "display_name": "Python 3",
   "language": "python",
   "name": "python3"
  },
  "language_info": {
   "codemirror_mode": {
    "name": "ipython",
    "version": 3
   },
   "file_extension": ".py",
   "mimetype": "text/x-python",
   "name": "python",
   "nbconvert_exporter": "python",
   "pygments_lexer": "ipython3",
   "version": "3.7.4"
  },
  "widgets": {
   "application/vnd.jupyter.widget-state+json": {
    "0571ec3060ae43b3811de5ccc85c9385": {
     "model_module": "@jupyter-widgets/controls",
     "model_module_version": "1.5.0",
     "model_name": "DescriptionStyleModel",
     "state": {
      "_model_module": "@jupyter-widgets/controls",
      "_model_module_version": "1.5.0",
      "_model_name": "DescriptionStyleModel",
      "_view_count": null,
      "_view_module": "@jupyter-widgets/base",
      "_view_module_version": "1.2.0",
      "_view_name": "StyleView",
      "description_width": ""
     }
    },
    "16538a192cb7482aabbaae4b633802e5": {
     "model_module": "@jupyter-widgets/controls",
     "model_module_version": "1.5.0",
     "model_name": "HTMLModel",
     "state": {
      "_dom_classes": [],
      "_model_module": "@jupyter-widgets/controls",
      "_model_module_version": "1.5.0",
      "_model_name": "HTMLModel",
      "_view_count": null,
      "_view_module": "@jupyter-widgets/controls",
      "_view_module_version": "1.5.0",
      "_view_name": "HTMLView",
      "description": "",
      "description_tooltip": null,
      "layout": "IPY_MODEL_a4d8b4662a5b4feba472c590f19a0f46",
      "placeholder": "​",
      "style": "IPY_MODEL_5c4a113498a0434c905c86ff73b2abea",
      "value": "100%"
     }
    },
    "1c66085d538641d28d132d723c053fa2": {
     "model_module": "@jupyter-widgets/base",
     "model_module_version": "1.2.0",
     "model_name": "LayoutModel",
     "state": {
      "_model_module": "@jupyter-widgets/base",
      "_model_module_version": "1.2.0",
      "_model_name": "LayoutModel",
      "_view_count": null,
      "_view_module": "@jupyter-widgets/base",
      "_view_module_version": "1.2.0",
      "_view_name": "LayoutView",
      "align_content": null,
      "align_items": null,
      "align_self": null,
      "border": null,
      "bottom": null,
      "display": null,
      "flex": null,
      "flex_flow": null,
      "grid_area": null,
      "grid_auto_columns": null,
      "grid_auto_flow": null,
      "grid_auto_rows": null,
      "grid_column": null,
      "grid_gap": null,
      "grid_row": null,
      "grid_template_areas": null,
      "grid_template_columns": null,
      "grid_template_rows": null,
      "height": null,
      "justify_content": null,
      "justify_items": null,
      "left": null,
      "margin": null,
      "max_height": null,
      "max_width": null,
      "min_height": null,
      "min_width": null,
      "object_fit": null,
      "object_position": null,
      "order": null,
      "overflow": null,
      "overflow_x": null,
      "overflow_y": null,
      "padding": null,
      "right": null,
      "top": null,
      "visibility": "hidden",
      "width": null
     }
    },
    "1cd0041bd03f4028b421f7a44fc3c05e": {
     "model_module": "@jupyter-widgets/base",
     "model_module_version": "1.2.0",
     "model_name": "LayoutModel",
     "state": {
      "_model_module": "@jupyter-widgets/base",
      "_model_module_version": "1.2.0",
      "_model_name": "LayoutModel",
      "_view_count": null,
      "_view_module": "@jupyter-widgets/base",
      "_view_module_version": "1.2.0",
      "_view_name": "LayoutView",
      "align_content": null,
      "align_items": null,
      "align_self": null,
      "border": null,
      "bottom": null,
      "display": null,
      "flex": null,
      "flex_flow": null,
      "grid_area": null,
      "grid_auto_columns": null,
      "grid_auto_flow": null,
      "grid_auto_rows": null,
      "grid_column": null,
      "grid_gap": null,
      "grid_row": null,
      "grid_template_areas": null,
      "grid_template_columns": null,
      "grid_template_rows": null,
      "height": null,
      "justify_content": null,
      "justify_items": null,
      "left": null,
      "margin": null,
      "max_height": null,
      "max_width": null,
      "min_height": null,
      "min_width": null,
      "object_fit": null,
      "object_position": null,
      "order": null,
      "overflow": null,
      "overflow_x": null,
      "overflow_y": null,
      "padding": null,
      "right": null,
      "top": null,
      "visibility": null,
      "width": null
     }
    },
    "3ab9eb89743744a9aa717dd82a129201": {
     "model_module": "@jupyter-widgets/base",
     "model_module_version": "1.2.0",
     "model_name": "LayoutModel",
     "state": {
      "_model_module": "@jupyter-widgets/base",
      "_model_module_version": "1.2.0",
      "_model_name": "LayoutModel",
      "_view_count": null,
      "_view_module": "@jupyter-widgets/base",
      "_view_module_version": "1.2.0",
      "_view_name": "LayoutView",
      "align_content": null,
      "align_items": null,
      "align_self": null,
      "border": null,
      "bottom": null,
      "display": null,
      "flex": null,
      "flex_flow": null,
      "grid_area": null,
      "grid_auto_columns": null,
      "grid_auto_flow": null,
      "grid_auto_rows": null,
      "grid_column": null,
      "grid_gap": null,
      "grid_row": null,
      "grid_template_areas": null,
      "grid_template_columns": null,
      "grid_template_rows": null,
      "height": null,
      "justify_content": null,
      "justify_items": null,
      "left": null,
      "margin": null,
      "max_height": null,
      "max_width": null,
      "min_height": null,
      "min_width": null,
      "object_fit": null,
      "object_position": null,
      "order": null,
      "overflow": null,
      "overflow_x": null,
      "overflow_y": null,
      "padding": null,
      "right": null,
      "top": null,
      "visibility": null,
      "width": null
     }
    },
    "3fba3a22993c4aedb1cf3bf745291cf7": {
     "model_module": "@jupyter-widgets/base",
     "model_module_version": "1.2.0",
     "model_name": "LayoutModel",
     "state": {
      "_model_module": "@jupyter-widgets/base",
      "_model_module_version": "1.2.0",
      "_model_name": "LayoutModel",
      "_view_count": null,
      "_view_module": "@jupyter-widgets/base",
      "_view_module_version": "1.2.0",
      "_view_name": "LayoutView",
      "align_content": null,
      "align_items": null,
      "align_self": null,
      "border": null,
      "bottom": null,
      "display": null,
      "flex": null,
      "flex_flow": null,
      "grid_area": null,
      "grid_auto_columns": null,
      "grid_auto_flow": null,
      "grid_auto_rows": null,
      "grid_column": null,
      "grid_gap": null,
      "grid_row": null,
      "grid_template_areas": null,
      "grid_template_columns": null,
      "grid_template_rows": null,
      "height": null,
      "justify_content": null,
      "justify_items": null,
      "left": null,
      "margin": null,
      "max_height": null,
      "max_width": null,
      "min_height": null,
      "min_width": null,
      "object_fit": null,
      "object_position": null,
      "order": null,
      "overflow": null,
      "overflow_x": null,
      "overflow_y": null,
      "padding": null,
      "right": null,
      "top": null,
      "visibility": null,
      "width": null
     }
    },
    "4082b8176278445997a2453706b7b101": {
     "model_module": "@jupyter-widgets/controls",
     "model_module_version": "1.5.0",
     "model_name": "HBoxModel",
     "state": {
      "_dom_classes": [],
      "_model_module": "@jupyter-widgets/controls",
      "_model_module_version": "1.5.0",
      "_model_name": "HBoxModel",
      "_view_count": null,
      "_view_module": "@jupyter-widgets/controls",
      "_view_module_version": "1.5.0",
      "_view_name": "HBoxView",
      "box_style": "",
      "children": [
       "IPY_MODEL_d0b9d1bfa51546f8a775488417d3a684",
       "IPY_MODEL_6c8eabd8b41f4cc4934c9c1f060026c6",
       "IPY_MODEL_ca0cf0adf2bb4653b04cd85c25d14a3e"
      ],
      "layout": "IPY_MODEL_1c66085d538641d28d132d723c053fa2"
     }
    },
    "431cea2a52604dd4910542e1fac2d045": {
     "model_module": "@jupyter-widgets/controls",
     "model_module_version": "1.5.0",
     "model_name": "FloatProgressModel",
     "state": {
      "_dom_classes": [],
      "_model_module": "@jupyter-widgets/controls",
      "_model_module_version": "1.5.0",
      "_model_name": "FloatProgressModel",
      "_view_count": null,
      "_view_module": "@jupyter-widgets/controls",
      "_view_module_version": "1.5.0",
      "_view_name": "ProgressView",
      "bar_style": "",
      "description": "",
      "description_tooltip": null,
      "layout": "IPY_MODEL_985db658d3614f1aabb57d173732f678",
      "max": 5000,
      "min": 0,
      "orientation": "horizontal",
      "style": "IPY_MODEL_ec1f581ed92148b5bee7ce0441f8d883",
      "value": 5000
     }
    },
    "439053c658424b2f93a3f383b8d0af95": {
     "model_module": "@jupyter-widgets/controls",
     "model_module_version": "1.5.0",
     "model_name": "ProgressStyleModel",
     "state": {
      "_model_module": "@jupyter-widgets/controls",
      "_model_module_version": "1.5.0",
      "_model_name": "ProgressStyleModel",
      "_view_count": null,
      "_view_module": "@jupyter-widgets/base",
      "_view_module_version": "1.2.0",
      "_view_name": "StyleView",
      "bar_color": null,
      "description_width": ""
     }
    },
    "45746650248241e1942e8809c94b06a4": {
     "model_module": "@jupyter-widgets/controls",
     "model_module_version": "1.5.0",
     "model_name": "HTMLModel",
     "state": {
      "_dom_classes": [],
      "_model_module": "@jupyter-widgets/controls",
      "_model_module_version": "1.5.0",
      "_model_name": "HTMLModel",
      "_view_count": null,
      "_view_module": "@jupyter-widgets/controls",
      "_view_module_version": "1.5.0",
      "_view_name": "HTMLView",
      "description": "",
      "description_tooltip": null,
      "layout": "IPY_MODEL_c4f502d0988648d7996e1a55108a0fbe",
      "placeholder": "​",
      "style": "IPY_MODEL_669f35f7f8fc4ad3b510972b19c69a3c",
      "value": "Map: 100%"
     }
    },
    "4a372b0842fa4a3e9aaf869bc2250cfc": {
     "model_module": "@jupyter-widgets/controls",
     "model_module_version": "1.5.0",
     "model_name": "DescriptionStyleModel",
     "state": {
      "_model_module": "@jupyter-widgets/controls",
      "_model_module_version": "1.5.0",
      "_model_name": "DescriptionStyleModel",
      "_view_count": null,
      "_view_module": "@jupyter-widgets/base",
      "_view_module_version": "1.2.0",
      "_view_name": "StyleView",
      "description_width": ""
     }
    },
    "5c4a113498a0434c905c86ff73b2abea": {
     "model_module": "@jupyter-widgets/controls",
     "model_module_version": "1.5.0",
     "model_name": "DescriptionStyleModel",
     "state": {
      "_model_module": "@jupyter-widgets/controls",
      "_model_module_version": "1.5.0",
      "_model_name": "DescriptionStyleModel",
      "_view_count": null,
      "_view_module": "@jupyter-widgets/base",
      "_view_module_version": "1.2.0",
      "_view_name": "StyleView",
      "description_width": ""
     }
    },
    "62471587c0c44a5182c4cb3033a78e19": {
     "model_module": "@jupyter-widgets/controls",
     "model_module_version": "1.5.0",
     "model_name": "ProgressStyleModel",
     "state": {
      "_model_module": "@jupyter-widgets/controls",
      "_model_module_version": "1.5.0",
      "_model_name": "ProgressStyleModel",
      "_view_count": null,
      "_view_module": "@jupyter-widgets/base",
      "_view_module_version": "1.2.0",
      "_view_name": "StyleView",
      "bar_color": null,
      "description_width": ""
     }
    },
    "669f35f7f8fc4ad3b510972b19c69a3c": {
     "model_module": "@jupyter-widgets/controls",
     "model_module_version": "1.5.0",
     "model_name": "DescriptionStyleModel",
     "state": {
      "_model_module": "@jupyter-widgets/controls",
      "_model_module_version": "1.5.0",
      "_model_name": "DescriptionStyleModel",
      "_view_count": null,
      "_view_module": "@jupyter-widgets/base",
      "_view_module_version": "1.2.0",
      "_view_name": "StyleView",
      "description_width": ""
     }
    },
    "66f61081b48d4f7785e1d150c3cb9a07": {
     "model_module": "@jupyter-widgets/controls",
     "model_module_version": "1.5.0",
     "model_name": "HTMLModel",
     "state": {
      "_dom_classes": [],
      "_model_module": "@jupyter-widgets/controls",
      "_model_module_version": "1.5.0",
      "_model_name": "HTMLModel",
      "_view_count": null,
      "_view_module": "@jupyter-widgets/controls",
      "_view_module_version": "1.5.0",
      "_view_name": "HTMLView",
      "description": "",
      "description_tooltip": null,
      "layout": "IPY_MODEL_686b34d4d82d4a5691fc6d4dfc51d0bb",
      "placeholder": "​",
      "style": "IPY_MODEL_0571ec3060ae43b3811de5ccc85c9385",
      "value": " 5000/5000 [00:33&lt;00:00, 151.38 examples/s]"
     }
    },
    "686b34d4d82d4a5691fc6d4dfc51d0bb": {
     "model_module": "@jupyter-widgets/base",
     "model_module_version": "1.2.0",
     "model_name": "LayoutModel",
     "state": {
      "_model_module": "@jupyter-widgets/base",
      "_model_module_version": "1.2.0",
      "_model_name": "LayoutModel",
      "_view_count": null,
      "_view_module": "@jupyter-widgets/base",
      "_view_module_version": "1.2.0",
      "_view_name": "LayoutView",
      "align_content": null,
      "align_items": null,
      "align_self": null,
      "border": null,
      "bottom": null,
      "display": null,
      "flex": null,
      "flex_flow": null,
      "grid_area": null,
      "grid_auto_columns": null,
      "grid_auto_flow": null,
      "grid_auto_rows": null,
      "grid_column": null,
      "grid_gap": null,
      "grid_row": null,
      "grid_template_areas": null,
      "grid_template_columns": null,
      "grid_template_rows": null,
      "height": null,
      "justify_content": null,
      "justify_items": null,
      "left": null,
      "margin": null,
      "max_height": null,
      "max_width": null,
      "min_height": null,
      "min_width": null,
      "object_fit": null,
      "object_position": null,
      "order": null,
      "overflow": null,
      "overflow_x": null,
      "overflow_y": null,
      "padding": null,
      "right": null,
      "top": null,
      "visibility": null,
      "width": null
     }
    },
    "68abbd466ba64e8088b80c65bc0adb63": {
     "model_module": "@jupyter-widgets/base",
     "model_module_version": "1.2.0",
     "model_name": "LayoutModel",
     "state": {
      "_model_module": "@jupyter-widgets/base",
      "_model_module_version": "1.2.0",
      "_model_name": "LayoutModel",
      "_view_count": null,
      "_view_module": "@jupyter-widgets/base",
      "_view_module_version": "1.2.0",
      "_view_name": "LayoutView",
      "align_content": null,
      "align_items": null,
      "align_self": null,
      "border": null,
      "bottom": null,
      "display": null,
      "flex": null,
      "flex_flow": null,
      "grid_area": null,
      "grid_auto_columns": null,
      "grid_auto_flow": null,
      "grid_auto_rows": null,
      "grid_column": null,
      "grid_gap": null,
      "grid_row": null,
      "grid_template_areas": null,
      "grid_template_columns": null,
      "grid_template_rows": null,
      "height": null,
      "justify_content": null,
      "justify_items": null,
      "left": null,
      "margin": null,
      "max_height": null,
      "max_width": null,
      "min_height": null,
      "min_width": null,
      "object_fit": null,
      "object_position": null,
      "order": null,
      "overflow": null,
      "overflow_x": null,
      "overflow_y": null,
      "padding": null,
      "right": null,
      "top": null,
      "visibility": "hidden",
      "width": null
     }
    },
    "6c8eabd8b41f4cc4934c9c1f060026c6": {
     "model_module": "@jupyter-widgets/controls",
     "model_module_version": "1.5.0",
     "model_name": "FloatProgressModel",
     "state": {
      "_dom_classes": [],
      "_model_module": "@jupyter-widgets/controls",
      "_model_module_version": "1.5.0",
      "_model_name": "FloatProgressModel",
      "_view_count": null,
      "_view_module": "@jupyter-widgets/controls",
      "_view_module_version": "1.5.0",
      "_view_name": "ProgressView",
      "bar_style": "",
      "description": "",
      "description_tooltip": null,
      "layout": "IPY_MODEL_9e9849e134bd42cba950405613d6cee6",
      "max": 1000,
      "min": 0,
      "orientation": "horizontal",
      "style": "IPY_MODEL_890e461de2bb4d2e902ca483b9c7b203",
      "value": 1000
     }
    },
    "73faac60485a45ef9234d3464b0b1c74": {
     "model_module": "@jupyter-widgets/controls",
     "model_module_version": "1.5.0",
     "model_name": "DescriptionStyleModel",
     "state": {
      "_model_module": "@jupyter-widgets/controls",
      "_model_module_version": "1.5.0",
      "_model_name": "DescriptionStyleModel",
      "_view_count": null,
      "_view_module": "@jupyter-widgets/base",
      "_view_module_version": "1.2.0",
      "_view_name": "StyleView",
      "description_width": ""
     }
    },
    "8901c5d6493f42fcb90992f2db6e402b": {
     "model_module": "@jupyter-widgets/controls",
     "model_module_version": "1.5.0",
     "model_name": "FloatProgressModel",
     "state": {
      "_dom_classes": [],
      "_model_module": "@jupyter-widgets/controls",
      "_model_module_version": "1.5.0",
      "_model_name": "FloatProgressModel",
      "_view_count": null,
      "_view_module": "@jupyter-widgets/controls",
      "_view_module_version": "1.5.0",
      "_view_name": "ProgressView",
      "bar_style": "",
      "description": "",
      "description_tooltip": null,
      "layout": "IPY_MODEL_d8f166d45b1c41d4b29e6cf63f5ed29d",
      "max": 11000,
      "min": 0,
      "orientation": "horizontal",
      "style": "IPY_MODEL_439053c658424b2f93a3f383b8d0af95",
      "value": 11000
     }
    },
    "890e461de2bb4d2e902ca483b9c7b203": {
     "model_module": "@jupyter-widgets/controls",
     "model_module_version": "1.5.0",
     "model_name": "ProgressStyleModel",
     "state": {
      "_model_module": "@jupyter-widgets/controls",
      "_model_module_version": "1.5.0",
      "_model_name": "ProgressStyleModel",
      "_view_count": null,
      "_view_module": "@jupyter-widgets/base",
      "_view_module_version": "1.2.0",
      "_view_name": "StyleView",
      "bar_color": null,
      "description_width": ""
     }
    },
    "91ae61f382f14883b9337f17dc8e7267": {
     "model_module": "@jupyter-widgets/base",
     "model_module_version": "1.2.0",
     "model_name": "LayoutModel",
     "state": {
      "_model_module": "@jupyter-widgets/base",
      "_model_module_version": "1.2.0",
      "_model_name": "LayoutModel",
      "_view_count": null,
      "_view_module": "@jupyter-widgets/base",
      "_view_module_version": "1.2.0",
      "_view_name": "LayoutView",
      "align_content": null,
      "align_items": null,
      "align_self": null,
      "border": null,
      "bottom": null,
      "display": null,
      "flex": null,
      "flex_flow": null,
      "grid_area": null,
      "grid_auto_columns": null,
      "grid_auto_flow": null,
      "grid_auto_rows": null,
      "grid_column": null,
      "grid_gap": null,
      "grid_row": null,
      "grid_template_areas": null,
      "grid_template_columns": null,
      "grid_template_rows": null,
      "height": null,
      "justify_content": null,
      "justify_items": null,
      "left": null,
      "margin": null,
      "max_height": null,
      "max_width": null,
      "min_height": null,
      "min_width": null,
      "object_fit": null,
      "object_position": null,
      "order": null,
      "overflow": null,
      "overflow_x": null,
      "overflow_y": null,
      "padding": null,
      "right": null,
      "top": null,
      "visibility": "hidden",
      "width": null
     }
    },
    "985db658d3614f1aabb57d173732f678": {
     "model_module": "@jupyter-widgets/base",
     "model_module_version": "1.2.0",
     "model_name": "LayoutModel",
     "state": {
      "_model_module": "@jupyter-widgets/base",
      "_model_module_version": "1.2.0",
      "_model_name": "LayoutModel",
      "_view_count": null,
      "_view_module": "@jupyter-widgets/base",
      "_view_module_version": "1.2.0",
      "_view_name": "LayoutView",
      "align_content": null,
      "align_items": null,
      "align_self": null,
      "border": null,
      "bottom": null,
      "display": null,
      "flex": null,
      "flex_flow": null,
      "grid_area": null,
      "grid_auto_columns": null,
      "grid_auto_flow": null,
      "grid_auto_rows": null,
      "grid_column": null,
      "grid_gap": null,
      "grid_row": null,
      "grid_template_areas": null,
      "grid_template_columns": null,
      "grid_template_rows": null,
      "height": null,
      "justify_content": null,
      "justify_items": null,
      "left": null,
      "margin": null,
      "max_height": null,
      "max_width": null,
      "min_height": null,
      "min_width": null,
      "object_fit": null,
      "object_position": null,
      "order": null,
      "overflow": null,
      "overflow_x": null,
      "overflow_y": null,
      "padding": null,
      "right": null,
      "top": null,
      "visibility": null,
      "width": null
     }
    },
    "9e9849e134bd42cba950405613d6cee6": {
     "model_module": "@jupyter-widgets/base",
     "model_module_version": "1.2.0",
     "model_name": "LayoutModel",
     "state": {
      "_model_module": "@jupyter-widgets/base",
      "_model_module_version": "1.2.0",
      "_model_name": "LayoutModel",
      "_view_count": null,
      "_view_module": "@jupyter-widgets/base",
      "_view_module_version": "1.2.0",
      "_view_name": "LayoutView",
      "align_content": null,
      "align_items": null,
      "align_self": null,
      "border": null,
      "bottom": null,
      "display": null,
      "flex": null,
      "flex_flow": null,
      "grid_area": null,
      "grid_auto_columns": null,
      "grid_auto_flow": null,
      "grid_auto_rows": null,
      "grid_column": null,
      "grid_gap": null,
      "grid_row": null,
      "grid_template_areas": null,
      "grid_template_columns": null,
      "grid_template_rows": null,
      "height": null,
      "justify_content": null,
      "justify_items": null,
      "left": null,
      "margin": null,
      "max_height": null,
      "max_width": null,
      "min_height": null,
      "min_width": null,
      "object_fit": null,
      "object_position": null,
      "order": null,
      "overflow": null,
      "overflow_x": null,
      "overflow_y": null,
      "padding": null,
      "right": null,
      "top": null,
      "visibility": null,
      "width": null
     }
    },
    "a1460512c5f1452e90bc943d2dbe1f1b": {
     "model_module": "@jupyter-widgets/controls",
     "model_module_version": "1.5.0",
     "model_name": "HBoxModel",
     "state": {
      "_dom_classes": [],
      "_model_module": "@jupyter-widgets/controls",
      "_model_module_version": "1.5.0",
      "_model_name": "HBoxModel",
      "_view_count": null,
      "_view_module": "@jupyter-widgets/controls",
      "_view_module_version": "1.5.0",
      "_view_name": "HBoxView",
      "box_style": "",
      "children": [
       "IPY_MODEL_16538a192cb7482aabbaae4b633802e5",
       "IPY_MODEL_c5d1139ec488496bb5ed2add54bbbbc3",
       "IPY_MODEL_b340d400a5a54da394eb030a89db63cd"
      ],
      "layout": "IPY_MODEL_3fba3a22993c4aedb1cf3bf745291cf7"
     }
    },
    "a4d8b4662a5b4feba472c590f19a0f46": {
     "model_module": "@jupyter-widgets/base",
     "model_module_version": "1.2.0",
     "model_name": "LayoutModel",
     "state": {
      "_model_module": "@jupyter-widgets/base",
      "_model_module_version": "1.2.0",
      "_model_name": "LayoutModel",
      "_view_count": null,
      "_view_module": "@jupyter-widgets/base",
      "_view_module_version": "1.2.0",
      "_view_name": "LayoutView",
      "align_content": null,
      "align_items": null,
      "align_self": null,
      "border": null,
      "bottom": null,
      "display": null,
      "flex": null,
      "flex_flow": null,
      "grid_area": null,
      "grid_auto_columns": null,
      "grid_auto_flow": null,
      "grid_auto_rows": null,
      "grid_column": null,
      "grid_gap": null,
      "grid_row": null,
      "grid_template_areas": null,
      "grid_template_columns": null,
      "grid_template_rows": null,
      "height": null,
      "justify_content": null,
      "justify_items": null,
      "left": null,
      "margin": null,
      "max_height": null,
      "max_width": null,
      "min_height": null,
      "min_width": null,
      "object_fit": null,
      "object_position": null,
      "order": null,
      "overflow": null,
      "overflow_x": null,
      "overflow_y": null,
      "padding": null,
      "right": null,
      "top": null,
      "visibility": null,
      "width": null
     }
    },
    "adeb54cc7fa44b1f948595fb1e887926": {
     "model_module": "@jupyter-widgets/base",
     "model_module_version": "1.2.0",
     "model_name": "LayoutModel",
     "state": {
      "_model_module": "@jupyter-widgets/base",
      "_model_module_version": "1.2.0",
      "_model_name": "LayoutModel",
      "_view_count": null,
      "_view_module": "@jupyter-widgets/base",
      "_view_module_version": "1.2.0",
      "_view_name": "LayoutView",
      "align_content": null,
      "align_items": null,
      "align_self": null,
      "border": null,
      "bottom": null,
      "display": null,
      "flex": null,
      "flex_flow": null,
      "grid_area": null,
      "grid_auto_columns": null,
      "grid_auto_flow": null,
      "grid_auto_rows": null,
      "grid_column": null,
      "grid_gap": null,
      "grid_row": null,
      "grid_template_areas": null,
      "grid_template_columns": null,
      "grid_template_rows": null,
      "height": null,
      "justify_content": null,
      "justify_items": null,
      "left": null,
      "margin": null,
      "max_height": null,
      "max_width": null,
      "min_height": null,
      "min_width": null,
      "object_fit": null,
      "object_position": null,
      "order": null,
      "overflow": null,
      "overflow_x": null,
      "overflow_y": null,
      "padding": null,
      "right": null,
      "top": null,
      "visibility": null,
      "width": null
     }
    },
    "afccdd194fec4ede9c65846cb0781d68": {
     "model_module": "@jupyter-widgets/controls",
     "model_module_version": "1.5.0",
     "model_name": "HBoxModel",
     "state": {
      "_dom_classes": [],
      "_model_module": "@jupyter-widgets/controls",
      "_model_module_version": "1.5.0",
      "_model_name": "HBoxModel",
      "_view_count": null,
      "_view_module": "@jupyter-widgets/controls",
      "_view_module_version": "1.5.0",
      "_view_name": "HBoxView",
      "box_style": "",
      "children": [
       "IPY_MODEL_45746650248241e1942e8809c94b06a4",
       "IPY_MODEL_8901c5d6493f42fcb90992f2db6e402b",
       "IPY_MODEL_bca5bf694e1e44ce8be4e273f1c53ce2"
      ],
      "layout": "IPY_MODEL_68abbd466ba64e8088b80c65bc0adb63"
     }
    },
    "b340d400a5a54da394eb030a89db63cd": {
     "model_module": "@jupyter-widgets/controls",
     "model_module_version": "1.5.0",
     "model_name": "HTMLModel",
     "state": {
      "_dom_classes": [],
      "_model_module": "@jupyter-widgets/controls",
      "_model_module_version": "1.5.0",
      "_model_name": "HTMLModel",
      "_view_count": null,
      "_view_module": "@jupyter-widgets/controls",
      "_view_module_version": "1.5.0",
      "_view_name": "HTMLView",
      "description": "",
      "description_tooltip": null,
      "layout": "IPY_MODEL_c986f7a7cc7547adbc76007edc044c2c",
      "placeholder": "​",
      "style": "IPY_MODEL_4a372b0842fa4a3e9aaf869bc2250cfc",
      "value": " 3/3 [00:00&lt;00:00, 91.72it/s]"
     }
    },
    "b3ff5b01b690434b8763f056165078c0": {
     "model_module": "@jupyter-widgets/controls",
     "model_module_version": "1.5.0",
     "model_name": "DescriptionStyleModel",
     "state": {
      "_model_module": "@jupyter-widgets/controls",
      "_model_module_version": "1.5.0",
      "_model_name": "DescriptionStyleModel",
      "_view_count": null,
      "_view_module": "@jupyter-widgets/base",
      "_view_module_version": "1.2.0",
      "_view_name": "StyleView",
      "description_width": ""
     }
    },
    "b4a289a28e694652b8e8d6d518314f63": {
     "model_module": "@jupyter-widgets/controls",
     "model_module_version": "1.5.0",
     "model_name": "HBoxModel",
     "state": {
      "_dom_classes": [],
      "_model_module": "@jupyter-widgets/controls",
      "_model_module_version": "1.5.0",
      "_model_name": "HBoxModel",
      "_view_count": null,
      "_view_module": "@jupyter-widgets/controls",
      "_view_module_version": "1.5.0",
      "_view_name": "HBoxView",
      "box_style": "",
      "children": [
       "IPY_MODEL_d9d01b97af884a198cfea00559c1f199",
       "IPY_MODEL_431cea2a52604dd4910542e1fac2d045",
       "IPY_MODEL_66f61081b48d4f7785e1d150c3cb9a07"
      ],
      "layout": "IPY_MODEL_91ae61f382f14883b9337f17dc8e7267"
     }
    },
    "bca5bf694e1e44ce8be4e273f1c53ce2": {
     "model_module": "@jupyter-widgets/controls",
     "model_module_version": "1.5.0",
     "model_name": "HTMLModel",
     "state": {
      "_dom_classes": [],
      "_model_module": "@jupyter-widgets/controls",
      "_model_module_version": "1.5.0",
      "_model_name": "HTMLModel",
      "_view_count": null,
      "_view_module": "@jupyter-widgets/controls",
      "_view_module_version": "1.5.0",
      "_view_name": "HTMLView",
      "description": "",
      "description_tooltip": null,
      "layout": "IPY_MODEL_3ab9eb89743744a9aa717dd82a129201",
      "placeholder": "​",
      "style": "IPY_MODEL_73faac60485a45ef9234d3464b0b1c74",
      "value": " 11000/11000 [00:48&lt;00:00, 223.68 examples/s]"
     }
    },
    "c2582028d3ed41b9a32bc31df53a16dd": {
     "model_module": "@jupyter-widgets/base",
     "model_module_version": "1.2.0",
     "model_name": "LayoutModel",
     "state": {
      "_model_module": "@jupyter-widgets/base",
      "_model_module_version": "1.2.0",
      "_model_name": "LayoutModel",
      "_view_count": null,
      "_view_module": "@jupyter-widgets/base",
      "_view_module_version": "1.2.0",
      "_view_name": "LayoutView",
      "align_content": null,
      "align_items": null,
      "align_self": null,
      "border": null,
      "bottom": null,
      "display": null,
      "flex": null,
      "flex_flow": null,
      "grid_area": null,
      "grid_auto_columns": null,
      "grid_auto_flow": null,
      "grid_auto_rows": null,
      "grid_column": null,
      "grid_gap": null,
      "grid_row": null,
      "grid_template_areas": null,
      "grid_template_columns": null,
      "grid_template_rows": null,
      "height": null,
      "justify_content": null,
      "justify_items": null,
      "left": null,
      "margin": null,
      "max_height": null,
      "max_width": null,
      "min_height": null,
      "min_width": null,
      "object_fit": null,
      "object_position": null,
      "order": null,
      "overflow": null,
      "overflow_x": null,
      "overflow_y": null,
      "padding": null,
      "right": null,
      "top": null,
      "visibility": null,
      "width": null
     }
    },
    "c4f502d0988648d7996e1a55108a0fbe": {
     "model_module": "@jupyter-widgets/base",
     "model_module_version": "1.2.0",
     "model_name": "LayoutModel",
     "state": {
      "_model_module": "@jupyter-widgets/base",
      "_model_module_version": "1.2.0",
      "_model_name": "LayoutModel",
      "_view_count": null,
      "_view_module": "@jupyter-widgets/base",
      "_view_module_version": "1.2.0",
      "_view_name": "LayoutView",
      "align_content": null,
      "align_items": null,
      "align_self": null,
      "border": null,
      "bottom": null,
      "display": null,
      "flex": null,
      "flex_flow": null,
      "grid_area": null,
      "grid_auto_columns": null,
      "grid_auto_flow": null,
      "grid_auto_rows": null,
      "grid_column": null,
      "grid_gap": null,
      "grid_row": null,
      "grid_template_areas": null,
      "grid_template_columns": null,
      "grid_template_rows": null,
      "height": null,
      "justify_content": null,
      "justify_items": null,
      "left": null,
      "margin": null,
      "max_height": null,
      "max_width": null,
      "min_height": null,
      "min_width": null,
      "object_fit": null,
      "object_position": null,
      "order": null,
      "overflow": null,
      "overflow_x": null,
      "overflow_y": null,
      "padding": null,
      "right": null,
      "top": null,
      "visibility": null,
      "width": null
     }
    },
    "c5d1139ec488496bb5ed2add54bbbbc3": {
     "model_module": "@jupyter-widgets/controls",
     "model_module_version": "1.5.0",
     "model_name": "FloatProgressModel",
     "state": {
      "_dom_classes": [],
      "_model_module": "@jupyter-widgets/controls",
      "_model_module_version": "1.5.0",
      "_model_name": "FloatProgressModel",
      "_view_count": null,
      "_view_module": "@jupyter-widgets/controls",
      "_view_module_version": "1.5.0",
      "_view_name": "ProgressView",
      "bar_style": "success",
      "description": "",
      "description_tooltip": null,
      "layout": "IPY_MODEL_1cd0041bd03f4028b421f7a44fc3c05e",
      "max": 3,
      "min": 0,
      "orientation": "horizontal",
      "style": "IPY_MODEL_62471587c0c44a5182c4cb3033a78e19",
      "value": 3
     }
    },
    "c986f7a7cc7547adbc76007edc044c2c": {
     "model_module": "@jupyter-widgets/base",
     "model_module_version": "1.2.0",
     "model_name": "LayoutModel",
     "state": {
      "_model_module": "@jupyter-widgets/base",
      "_model_module_version": "1.2.0",
      "_model_name": "LayoutModel",
      "_view_count": null,
      "_view_module": "@jupyter-widgets/base",
      "_view_module_version": "1.2.0",
      "_view_name": "LayoutView",
      "align_content": null,
      "align_items": null,
      "align_self": null,
      "border": null,
      "bottom": null,
      "display": null,
      "flex": null,
      "flex_flow": null,
      "grid_area": null,
      "grid_auto_columns": null,
      "grid_auto_flow": null,
      "grid_auto_rows": null,
      "grid_column": null,
      "grid_gap": null,
      "grid_row": null,
      "grid_template_areas": null,
      "grid_template_columns": null,
      "grid_template_rows": null,
      "height": null,
      "justify_content": null,
      "justify_items": null,
      "left": null,
      "margin": null,
      "max_height": null,
      "max_width": null,
      "min_height": null,
      "min_width": null,
      "object_fit": null,
      "object_position": null,
      "order": null,
      "overflow": null,
      "overflow_x": null,
      "overflow_y": null,
      "padding": null,
      "right": null,
      "top": null,
      "visibility": null,
      "width": null
     }
    },
    "ca0cf0adf2bb4653b04cd85c25d14a3e": {
     "model_module": "@jupyter-widgets/controls",
     "model_module_version": "1.5.0",
     "model_name": "HTMLModel",
     "state": {
      "_dom_classes": [],
      "_model_module": "@jupyter-widgets/controls",
      "_model_module_version": "1.5.0",
      "_model_name": "HTMLModel",
      "_view_count": null,
      "_view_module": "@jupyter-widgets/controls",
      "_view_module_version": "1.5.0",
      "_view_name": "HTMLView",
      "description": "",
      "description_tooltip": null,
      "layout": "IPY_MODEL_fb31a2d5e23b465bb6abbdda03a17f02",
      "placeholder": "​",
      "style": "IPY_MODEL_fe78160e25464f1589b6e09917c0f3f5",
      "value": " 1000/1000 [00:05&lt;00:00, 172.50 examples/s]"
     }
    },
    "d0b9d1bfa51546f8a775488417d3a684": {
     "model_module": "@jupyter-widgets/controls",
     "model_module_version": "1.5.0",
     "model_name": "HTMLModel",
     "state": {
      "_dom_classes": [],
      "_model_module": "@jupyter-widgets/controls",
      "_model_module_version": "1.5.0",
      "_model_name": "HTMLModel",
      "_view_count": null,
      "_view_module": "@jupyter-widgets/controls",
      "_view_module_version": "1.5.0",
      "_view_name": "HTMLView",
      "description": "",
      "description_tooltip": null,
      "layout": "IPY_MODEL_adeb54cc7fa44b1f948595fb1e887926",
      "placeholder": "​",
      "style": "IPY_MODEL_b3ff5b01b690434b8763f056165078c0",
      "value": "Map: 100%"
     }
    },
    "d8f166d45b1c41d4b29e6cf63f5ed29d": {
     "model_module": "@jupyter-widgets/base",
     "model_module_version": "1.2.0",
     "model_name": "LayoutModel",
     "state": {
      "_model_module": "@jupyter-widgets/base",
      "_model_module_version": "1.2.0",
      "_model_name": "LayoutModel",
      "_view_count": null,
      "_view_module": "@jupyter-widgets/base",
      "_view_module_version": "1.2.0",
      "_view_name": "LayoutView",
      "align_content": null,
      "align_items": null,
      "align_self": null,
      "border": null,
      "bottom": null,
      "display": null,
      "flex": null,
      "flex_flow": null,
      "grid_area": null,
      "grid_auto_columns": null,
      "grid_auto_flow": null,
      "grid_auto_rows": null,
      "grid_column": null,
      "grid_gap": null,
      "grid_row": null,
      "grid_template_areas": null,
      "grid_template_columns": null,
      "grid_template_rows": null,
      "height": null,
      "justify_content": null,
      "justify_items": null,
      "left": null,
      "margin": null,
      "max_height": null,
      "max_width": null,
      "min_height": null,
      "min_width": null,
      "object_fit": null,
      "object_position": null,
      "order": null,
      "overflow": null,
      "overflow_x": null,
      "overflow_y": null,
      "padding": null,
      "right": null,
      "top": null,
      "visibility": null,
      "width": null
     }
    },
    "d9d01b97af884a198cfea00559c1f199": {
     "model_module": "@jupyter-widgets/controls",
     "model_module_version": "1.5.0",
     "model_name": "HTMLModel",
     "state": {
      "_dom_classes": [],
      "_model_module": "@jupyter-widgets/controls",
      "_model_module_version": "1.5.0",
      "_model_name": "HTMLModel",
      "_view_count": null,
      "_view_module": "@jupyter-widgets/controls",
      "_view_module_version": "1.5.0",
      "_view_name": "HTMLView",
      "description": "",
      "description_tooltip": null,
      "layout": "IPY_MODEL_c2582028d3ed41b9a32bc31df53a16dd",
      "placeholder": "​",
      "style": "IPY_MODEL_df37c400a9014907a887fce2a5fc7042",
      "value": "Map: 100%"
     }
    },
    "df37c400a9014907a887fce2a5fc7042": {
     "model_module": "@jupyter-widgets/controls",
     "model_module_version": "1.5.0",
     "model_name": "DescriptionStyleModel",
     "state": {
      "_model_module": "@jupyter-widgets/controls",
      "_model_module_version": "1.5.0",
      "_model_name": "DescriptionStyleModel",
      "_view_count": null,
      "_view_module": "@jupyter-widgets/base",
      "_view_module_version": "1.2.0",
      "_view_name": "StyleView",
      "description_width": ""
     }
    },
    "ec1f581ed92148b5bee7ce0441f8d883": {
     "model_module": "@jupyter-widgets/controls",
     "model_module_version": "1.5.0",
     "model_name": "ProgressStyleModel",
     "state": {
      "_model_module": "@jupyter-widgets/controls",
      "_model_module_version": "1.5.0",
      "_model_name": "ProgressStyleModel",
      "_view_count": null,
      "_view_module": "@jupyter-widgets/base",
      "_view_module_version": "1.2.0",
      "_view_name": "StyleView",
      "bar_color": null,
      "description_width": ""
     }
    },
    "fb31a2d5e23b465bb6abbdda03a17f02": {
     "model_module": "@jupyter-widgets/base",
     "model_module_version": "1.2.0",
     "model_name": "LayoutModel",
     "state": {
      "_model_module": "@jupyter-widgets/base",
      "_model_module_version": "1.2.0",
      "_model_name": "LayoutModel",
      "_view_count": null,
      "_view_module": "@jupyter-widgets/base",
      "_view_module_version": "1.2.0",
      "_view_name": "LayoutView",
      "align_content": null,
      "align_items": null,
      "align_self": null,
      "border": null,
      "bottom": null,
      "display": null,
      "flex": null,
      "flex_flow": null,
      "grid_area": null,
      "grid_auto_columns": null,
      "grid_auto_flow": null,
      "grid_auto_rows": null,
      "grid_column": null,
      "grid_gap": null,
      "grid_row": null,
      "grid_template_areas": null,
      "grid_template_columns": null,
      "grid_template_rows": null,
      "height": null,
      "justify_content": null,
      "justify_items": null,
      "left": null,
      "margin": null,
      "max_height": null,
      "max_width": null,
      "min_height": null,
      "min_width": null,
      "object_fit": null,
      "object_position": null,
      "order": null,
      "overflow": null,
      "overflow_x": null,
      "overflow_y": null,
      "padding": null,
      "right": null,
      "top": null,
      "visibility": null,
      "width": null
     }
    },
    "fe78160e25464f1589b6e09917c0f3f5": {
     "model_module": "@jupyter-widgets/controls",
     "model_module_version": "1.5.0",
     "model_name": "DescriptionStyleModel",
     "state": {
      "_model_module": "@jupyter-widgets/controls",
      "_model_module_version": "1.5.0",
      "_model_name": "DescriptionStyleModel",
      "_view_count": null,
      "_view_module": "@jupyter-widgets/base",
      "_view_module_version": "1.2.0",
      "_view_name": "StyleView",
      "description_width": ""
     }
    }
   }
  }
 },
 "nbformat": 4,
 "nbformat_minor": 1
}
