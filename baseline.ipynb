{
 "cells": [
  {
   "cell_type": "code",
   "execution_count": 1,
   "id": "ebe12771",
   "metadata": {},
   "outputs": [
    {
     "name": "stderr",
     "output_type": "stream",
     "text": [
      "/Users/jon/miniconda3/envs/nlp-final/lib/python3.8/site-packages/tqdm/auto.py:22: TqdmWarning: IProgress not found. Please update jupyter and ipywidgets. See https://ipywidgets.readthedocs.io/en/stable/user_install.html\n",
      "  from .autonotebook import tqdm as notebook_tqdm\n"
     ]
    }
   ],
   "source": [
    "import json\n",
    "from datasets import load_dataset\n",
    "import plotly.express as px\n",
    "#visualize\n",
    "import matplotlib.pyplot as plt\n",
    "import os\n",
    "import pandas as pd\n",
    "\n",
    "%matplotlib inline\n",
    "\n",
    "os.chdir('/Users/jon/Documents/DSDM/term_2/adv_meth_nlp/nlp-final/')"
   ]
  },
  {
   "attachments": {},
   "cell_type": "markdown",
   "id": "2cf458c7",
   "metadata": {},
   "source": [
    "# Data exploration"
   ]
  },
  {
   "attachments": {},
   "cell_type": "markdown",
   "id": "7fb6c11d",
   "metadata": {},
   "source": [
    "First load the dataset."
   ]
  },
  {
   "cell_type": "code",
   "execution_count": 2,
   "id": "481e612c",
   "metadata": {},
   "outputs": [
    {
     "name": "stderr",
     "output_type": "stream",
     "text": [
      "Found cached dataset multi_eurlex (/Users/jon/.cache/huggingface/datasets/nlpaueb___multi_eurlex/en/1.0.0/1addee7110a20c2b01cc3de89456786482e4eea1d2ead0bea3d5383b16cc9fce)\n"
     ]
    }
   ],
   "source": [
    "import json\n",
    "from datasets import load_dataset\n",
    "\n",
    "# Load the English part of the dataset\n",
    "train_dataset = load_dataset('nlpaueb/multi_eurlex', 'en', split='train')\n",
    "test_dataset = load_dataset('nlpaueb/multi_eurlex', 'en', split='test')\n",
    "dev_dataset = load_dataset('nlpaueb/multi_eurlex', 'en', split='dev')"
   ]
  },
  {
   "cell_type": "code",
   "execution_count": 4,
   "id": "76dd5a88",
   "metadata": {},
   "outputs": [],
   "source": [
    "# Load (label_id, descriptor) mapping \n",
    "with open('./data/eurovoc_descriptors.json') as jsonl_file:\n",
    "    eurovoc_descriptors =  json.load(jsonl_file)\n",
    "\n",
    "# Get feature map info\n",
    "train_classlabel = train_dataset.features[\"labels\"].feature\n",
    "test_classlabel = test_dataset.features[\"labels\"].feature\n",
    "\n",
    "# Load (label_id, descriptor) mapping \n",
    "with open('./data/eurovoc_concepts.json') as jsonl_file:\n",
    "    eurovoc_concepts =  json.load(jsonl_file)\n"
   ]
  },
  {
   "cell_type": "code",
   "execution_count": 10,
   "id": "3cbc0137",
   "metadata": {},
   "outputs": [
    {
     "data": {
      "text/html": [
       "<div>\n",
       "<style scoped>\n",
       "    .dataframe tbody tr th:only-of-type {\n",
       "        vertical-align: middle;\n",
       "    }\n",
       "\n",
       "    .dataframe tbody tr th {\n",
       "        vertical-align: top;\n",
       "    }\n",
       "\n",
       "    .dataframe thead th {\n",
       "        text-align: right;\n",
       "    }\n",
       "</style>\n",
       "<table border=\"1\" class=\"dataframe\">\n",
       "  <thead>\n",
       "    <tr style=\"text-align: right;\">\n",
       "      <th></th>\n",
       "      <th>celex_id</th>\n",
       "      <th>label_id</th>\n",
       "      <th>eurovoc_id</th>\n",
       "      <th>eurovoc_desc</th>\n",
       "      <th>eurovoc_level</th>\n",
       "    </tr>\n",
       "  </thead>\n",
       "  <tbody>\n",
       "    <tr>\n",
       "      <th>0</th>\n",
       "      <td>32003R1012</td>\n",
       "      <td>2</td>\n",
       "      <td>100148</td>\n",
       "      <td>finance</td>\n",
       "      <td>level_1</td>\n",
       "    </tr>\n",
       "    <tr>\n",
       "      <th>1</th>\n",
       "      <td>32003R1012</td>\n",
       "      <td>5</td>\n",
       "      <td>100143</td>\n",
       "      <td>international relations</td>\n",
       "      <td>level_1</td>\n",
       "    </tr>\n",
       "    <tr>\n",
       "      <th>2</th>\n",
       "      <td>32003R1012</td>\n",
       "      <td>10</td>\n",
       "      <td>100142</td>\n",
       "      <td>politics</td>\n",
       "      <td>level_1</td>\n",
       "    </tr>\n",
       "    <tr>\n",
       "      <th>3</th>\n",
       "      <td>32003R1012</td>\n",
       "      <td>8</td>\n",
       "      <td>100154</td>\n",
       "      <td>transport</td>\n",
       "      <td>level_1</td>\n",
       "    </tr>\n",
       "    <tr>\n",
       "      <th>4</th>\n",
       "      <td>32003R1012</td>\n",
       "      <td>3</td>\n",
       "      <td>100147</td>\n",
       "      <td>trade</td>\n",
       "      <td>level_1</td>\n",
       "    </tr>\n",
       "  </tbody>\n",
       "</table>\n",
       "</div>"
      ],
      "text/plain": [
       "     celex_id  label_id eurovoc_id             eurovoc_desc eurovoc_level\n",
       "0  32003R1012         2     100148                  finance       level_1\n",
       "1  32003R1012         5     100143  international relations       level_1\n",
       "2  32003R1012        10     100142                 politics       level_1\n",
       "3  32003R1012         8     100154                transport       level_1\n",
       "4  32003R1012         3     100147                    trade       level_1"
      ]
     },
     "execution_count": 10,
     "metadata": {},
     "output_type": "execute_result"
    }
   ],
   "source": [
    "\n",
    "# Retrieve IDs and descriptors from dataset\n",
    "train_agg_df = []\n",
    "def get_agg_df(dataset:pd.DataFrame):\n",
    "\n",
    "    for i, sample in enumerate(dataset):    \n",
    "        for label_id in sample['labels']:\n",
    "            result = {}\n",
    "            result['celex_id'] = sample['celex_id']\n",
    "            result['label_id'] = label_id\n",
    "            result['eurovoc_id'] = classlabel.int2str(label_id)\n",
    "            result['eurovoc_desc'] = eurovoc_descriptors[classlabel.int2str(label_id)]['en']\n",
    "            df_agg.append(result)\n",
    "            # Get the EuroVoc level for the current label ID\n",
    "            for level, ids in eurovoc_concepts.items():\n",
    "                if classlabel.int2str(label_id) in ids:\n",
    "                    result['eurovoc_level'] = level\n",
    "                    break\n",
    "    df_agg = pd.DataFrame(df_agg)\n",
    "    return(df_agg)\n",
    "df_agg.head()\n",
    "\n"
   ]
  },
  {
   "cell_type": "code",
   "execution_count": 19,
   "id": "5d9323ca",
   "metadata": {},
   "outputs": [
    {
     "data": {
      "text/plain": [
       "level_1    35286\n",
       "Name: eurovoc_level, dtype: int64"
      ]
     },
     "execution_count": 19,
     "metadata": {},
     "output_type": "execute_result"
    }
   ],
   "source": [
    "df_agg['eurovoc_level'].value_counts()"
   ]
  },
  {
   "cell_type": "code",
   "execution_count": 24,
   "id": "e3c92921",
   "metadata": {},
   "outputs": [
    {
     "data": {
      "text/html": [
       "<div>\n",
       "<style scoped>\n",
       "    .dataframe tbody tr th:only-of-type {\n",
       "        vertical-align: middle;\n",
       "    }\n",
       "\n",
       "    .dataframe tbody tr th {\n",
       "        vertical-align: top;\n",
       "    }\n",
       "\n",
       "    .dataframe thead th {\n",
       "        text-align: right;\n",
       "    }\n",
       "</style>\n",
       "<table border=\"1\" class=\"dataframe\">\n",
       "  <thead>\n",
       "    <tr style=\"text-align: right;\">\n",
       "      <th></th>\n",
       "      <th>eurovoc_desc</th>\n",
       "      <th>count</th>\n",
       "    </tr>\n",
       "  </thead>\n",
       "  <tbody>\n",
       "    <tr>\n",
       "      <th>19</th>\n",
       "      <td>trade</td>\n",
       "      <td>6121</td>\n",
       "    </tr>\n",
       "    <tr>\n",
       "      <th>1</th>\n",
       "      <td>agri-foodstuffs</td>\n",
       "      <td>5439</td>\n",
       "    </tr>\n",
       "    <tr>\n",
       "      <th>10</th>\n",
       "      <td>geography</td>\n",
       "      <td>4821</td>\n",
       "    </tr>\n",
       "    <tr>\n",
       "      <th>2</th>\n",
       "      <td>agriculture, forestry and fisheries</td>\n",
       "      <td>3805</td>\n",
       "    </tr>\n",
       "    <tr>\n",
       "      <th>0</th>\n",
       "      <td>EUROPEAN UNION</td>\n",
       "      <td>2556</td>\n",
       "    </tr>\n",
       "    <tr>\n",
       "      <th>9</th>\n",
       "      <td>finance</td>\n",
       "      <td>1728</td>\n",
       "    </tr>\n",
       "    <tr>\n",
       "      <th>13</th>\n",
       "      <td>international relations</td>\n",
       "      <td>1709</td>\n",
       "    </tr>\n",
       "    <tr>\n",
       "      <th>4</th>\n",
       "      <td>economics</td>\n",
       "      <td>1492</td>\n",
       "    </tr>\n",
       "    <tr>\n",
       "      <th>11</th>\n",
       "      <td>industry</td>\n",
       "      <td>1279</td>\n",
       "    </tr>\n",
       "    <tr>\n",
       "      <th>18</th>\n",
       "      <td>social questions</td>\n",
       "      <td>1077</td>\n",
       "    </tr>\n",
       "    <tr>\n",
       "      <th>3</th>\n",
       "      <td>business and competition</td>\n",
       "      <td>1014</td>\n",
       "    </tr>\n",
       "    <tr>\n",
       "      <th>16</th>\n",
       "      <td>production, technology and research</td>\n",
       "      <td>780</td>\n",
       "    </tr>\n",
       "    <tr>\n",
       "      <th>5</th>\n",
       "      <td>education and communications</td>\n",
       "      <td>682</td>\n",
       "    </tr>\n",
       "    <tr>\n",
       "      <th>20</th>\n",
       "      <td>transport</td>\n",
       "      <td>582</td>\n",
       "    </tr>\n",
       "    <tr>\n",
       "      <th>8</th>\n",
       "      <td>environment</td>\n",
       "      <td>552</td>\n",
       "    </tr>\n",
       "    <tr>\n",
       "      <th>15</th>\n",
       "      <td>politics</td>\n",
       "      <td>408</td>\n",
       "    </tr>\n",
       "    <tr>\n",
       "      <th>14</th>\n",
       "      <td>law</td>\n",
       "      <td>391</td>\n",
       "    </tr>\n",
       "    <tr>\n",
       "      <th>6</th>\n",
       "      <td>employment and working conditions</td>\n",
       "      <td>341</td>\n",
       "    </tr>\n",
       "    <tr>\n",
       "      <th>7</th>\n",
       "      <td>energy</td>\n",
       "      <td>221</td>\n",
       "    </tr>\n",
       "    <tr>\n",
       "      <th>17</th>\n",
       "      <td>science</td>\n",
       "      <td>180</td>\n",
       "    </tr>\n",
       "    <tr>\n",
       "      <th>12</th>\n",
       "      <td>international organisations</td>\n",
       "      <td>108</td>\n",
       "    </tr>\n",
       "  </tbody>\n",
       "</table>\n",
       "</div>"
      ],
      "text/plain": [
       "                           eurovoc_desc  count\n",
       "19                                trade   6121\n",
       "1                       agri-foodstuffs   5439\n",
       "10                            geography   4821\n",
       "2   agriculture, forestry and fisheries   3805\n",
       "0                        EUROPEAN UNION   2556\n",
       "9                               finance   1728\n",
       "13              international relations   1709\n",
       "4                             economics   1492\n",
       "11                             industry   1279\n",
       "18                     social questions   1077\n",
       "3              business and competition   1014\n",
       "16  production, technology and research    780\n",
       "5          education and communications    682\n",
       "20                            transport    582\n",
       "8                           environment    552\n",
       "15                             politics    408\n",
       "14                                  law    391\n",
       "6     employment and working conditions    341\n",
       "7                                energy    221\n",
       "17                              science    180\n",
       "12          international organisations    108"
      ]
     },
     "execution_count": 24,
     "metadata": {},
     "output_type": "execute_result"
    }
   ],
   "source": [
    "# Group by eurovoc_level and eurovoc_desc and count occurrences\n",
    "df_grouped = df_agg\\\n",
    "    .groupby(['eurovoc_desc'])\\\n",
    "    .size()\\\n",
    "    .reset_index(name='count')\\\n",
    "    .sort_values(by='count', ascending=False)\n",
    "\n",
    "\n",
    "df_grouped"
   ]
  },
  {
   "cell_type": "code",
   "execution_count": 20,
   "id": "c42a3950",
   "metadata": {},
   "outputs": [
    {
     "name": "stderr",
     "output_type": "stream",
     "text": [
      "Found cached dataset multi_eurlex (/Users/jon/.cache/huggingface/datasets/nlpaueb___multi_eurlex/en/1.0.0/1addee7110a20c2b01cc3de89456786482e4eea1d2ead0bea3d5383b16cc9fce)\n",
      "Found cached dataset multi_eurlex (/Users/jon/.cache/huggingface/datasets/nlpaueb___multi_eurlex/en/1.0.0/1addee7110a20c2b01cc3de89456786482e4eea1d2ead0bea3d5383b16cc9fce)\n",
      "Found cached dataset multi_eurlex (/Users/jon/.cache/huggingface/datasets/nlpaueb___multi_eurlex/en/1.0.0/1addee7110a20c2b01cc3de89456786482e4eea1d2ead0bea3d5383b16cc9fce)\n"
     ]
    }
   ],
   "source": [
    "train = load_dataset('nlpaueb/multi_eurlex', 'en', split=\"train\").to_pandas()\n",
    "validation = load_dataset('nlpaueb/multi_eurlex', 'en', split=\"validation\").to_pandas()\n",
    "test = load_dataset('nlpaueb/multi_eurlex', 'en', split=\"test\").to_pandas()"
   ]
  },
  {
   "cell_type": "code",
   "execution_count": 21,
   "id": "756a2d6d",
   "metadata": {},
   "outputs": [
    {
     "data": {
      "text/html": [
       "<div>\n",
       "<style scoped>\n",
       "    .dataframe tbody tr th:only-of-type {\n",
       "        vertical-align: middle;\n",
       "    }\n",
       "\n",
       "    .dataframe tbody tr th {\n",
       "        vertical-align: top;\n",
       "    }\n",
       "\n",
       "    .dataframe thead th {\n",
       "        text-align: right;\n",
       "    }\n",
       "</style>\n",
       "<table border=\"1\" class=\"dataframe\">\n",
       "  <thead>\n",
       "    <tr style=\"text-align: right;\">\n",
       "      <th></th>\n",
       "      <th>celex_id</th>\n",
       "      <th>text</th>\n",
       "      <th>labels</th>\n",
       "    </tr>\n",
       "  </thead>\n",
       "  <tbody>\n",
       "    <tr>\n",
       "      <th>0</th>\n",
       "      <td>32003R1012</td>\n",
       "      <td>Commission Regulation (EC) No 1012/2003\\nof 12...</td>\n",
       "      <td>[2, 5, 10, 8, 3, 18, 15]</td>\n",
       "    </tr>\n",
       "    <tr>\n",
       "      <th>1</th>\n",
       "      <td>32008R0284</td>\n",
       "      <td>COMMISSION REGULATION (EC) No 284/2008\\nof 27 ...</td>\n",
       "      <td>[3, 18, 17, 6]</td>\n",
       "    </tr>\n",
       "    <tr>\n",
       "      <th>2</th>\n",
       "      <td>32004D0761</td>\n",
       "      <td>COMMISSION DECISION\\nof 26 October 2004\\nlayin...</td>\n",
       "      <td>[17, 19, 10, 6, 15]</td>\n",
       "    </tr>\n",
       "    <tr>\n",
       "      <th>3</th>\n",
       "      <td>31992R2310</td>\n",
       "      <td>COMMISSION REGULATION (EEC) No 2310/92 of 31 J...</td>\n",
       "      <td>[7, 3, 17, 6]</td>\n",
       "    </tr>\n",
       "    <tr>\n",
       "      <th>4</th>\n",
       "      <td>31995R0423</td>\n",
       "      <td>COUNCIL REGULATION (EC) No 423/95 of 20 Februa...</td>\n",
       "      <td>[17, 19, 6]</td>\n",
       "    </tr>\n",
       "  </tbody>\n",
       "</table>\n",
       "</div>"
      ],
      "text/plain": [
       "     celex_id                                               text  \\\n",
       "0  32003R1012  Commission Regulation (EC) No 1012/2003\\nof 12...   \n",
       "1  32008R0284  COMMISSION REGULATION (EC) No 284/2008\\nof 27 ...   \n",
       "2  32004D0761  COMMISSION DECISION\\nof 26 October 2004\\nlayin...   \n",
       "3  31992R2310  COMMISSION REGULATION (EEC) No 2310/92 of 31 J...   \n",
       "4  31995R0423  COUNCIL REGULATION (EC) No 423/95 of 20 Februa...   \n",
       "\n",
       "                     labels  \n",
       "0  [2, 5, 10, 8, 3, 18, 15]  \n",
       "1            [3, 18, 17, 6]  \n",
       "2       [17, 19, 10, 6, 15]  \n",
       "3             [7, 3, 17, 6]  \n",
       "4               [17, 19, 6]  "
      ]
     },
     "execution_count": 21,
     "metadata": {},
     "output_type": "execute_result"
    }
   ],
   "source": [
    "train.head()"
   ]
  },
  {
   "attachments": {},
   "cell_type": "markdown",
   "id": "c7562ff3",
   "metadata": {},
   "source": [
    "## Data and labels"
   ]
  },
  {
   "attachments": {},
   "cell_type": "markdown",
   "id": "1379a55f",
   "metadata": {},
   "source": [
    "### Eurovoc concepts"
   ]
  },
  {
   "attachments": {},
   "cell_type": "markdown",
   "id": "3e3b1669",
   "metadata": {},
   "source": [
    "`eurovoc_id` is the ID of a certain area of government activity.\n",
    "\n",
    "`level` refers to the specificity of a certain topic. For example, european parliament is level 0, quantum computing is level 7."
   ]
  },
  {
   "cell_type": "code",
   "execution_count": 22,
   "id": "02bd1c26",
   "metadata": {},
   "outputs": [
    {
     "data": {
      "text/html": [
       "<div>\n",
       "<style scoped>\n",
       "    .dataframe tbody tr th:only-of-type {\n",
       "        vertical-align: middle;\n",
       "    }\n",
       "\n",
       "    .dataframe tbody tr th {\n",
       "        vertical-align: top;\n",
       "    }\n",
       "\n",
       "    .dataframe thead th {\n",
       "        text-align: right;\n",
       "    }\n",
       "</style>\n",
       "<table border=\"1\" class=\"dataframe\">\n",
       "  <thead>\n",
       "    <tr style=\"text-align: right;\">\n",
       "      <th></th>\n",
       "      <th>eurovoc_id</th>\n",
       "      <th>level</th>\n",
       "    </tr>\n",
       "  </thead>\n",
       "  <tbody>\n",
       "    <tr>\n",
       "      <th>0</th>\n",
       "      <td>100149</td>\n",
       "      <td>level_1</td>\n",
       "    </tr>\n",
       "    <tr>\n",
       "      <th>1</th>\n",
       "      <td>100160</td>\n",
       "      <td>level_1</td>\n",
       "    </tr>\n",
       "    <tr>\n",
       "      <th>2</th>\n",
       "      <td>100148</td>\n",
       "      <td>level_1</td>\n",
       "    </tr>\n",
       "    <tr>\n",
       "      <th>3</th>\n",
       "      <td>100147</td>\n",
       "      <td>level_1</td>\n",
       "    </tr>\n",
       "    <tr>\n",
       "      <th>4</th>\n",
       "      <td>100152</td>\n",
       "      <td>level_1</td>\n",
       "    </tr>\n",
       "  </tbody>\n",
       "</table>\n",
       "</div>"
      ],
      "text/plain": [
       "  eurovoc_id    level\n",
       "0     100149  level_1\n",
       "1     100160  level_1\n",
       "2     100148  level_1\n",
       "3     100147  level_1\n",
       "4     100152  level_1"
      ]
     },
     "execution_count": 22,
     "metadata": {},
     "output_type": "execute_result"
    }
   ],
   "source": [
    "# Load (label_id, descriptor) mapping \n",
    "with open('./data/eurovoc_concepts.json') as jsonl_file:\n",
    "    eurovoc_concepts =  json.load(jsonl_file)\n",
    "\n",
    "df_concepts = []\n",
    "\n",
    "for level, ids in eurovoc_concepts.items():\n",
    "    for id in ids:\n",
    "        results = {'eurovoc_id': id, 'level' : level}\n",
    "        df_concepts.append(results)\n",
    "df_concepts = pd.DataFrame(df_concepts)\n",
    "\n",
    "df_concepts.head()"
   ]
  },
  {
   "attachments": {},
   "cell_type": "markdown",
   "id": "486e51b1",
   "metadata": {},
   "source": [
    "### Eurovoc descriptors"
   ]
  },
  {
   "cell_type": "code",
   "execution_count": 23,
   "id": "44f9d657",
   "metadata": {},
   "outputs": [
    {
     "data": {
      "text/html": [
       "<div>\n",
       "<style scoped>\n",
       "    .dataframe tbody tr th:only-of-type {\n",
       "        vertical-align: middle;\n",
       "    }\n",
       "\n",
       "    .dataframe tbody tr th {\n",
       "        vertical-align: top;\n",
       "    }\n",
       "\n",
       "    .dataframe thead th {\n",
       "        text-align: right;\n",
       "    }\n",
       "</style>\n",
       "<table border=\"1\" class=\"dataframe\">\n",
       "  <thead>\n",
       "    <tr style=\"text-align: right;\">\n",
       "      <th></th>\n",
       "      <th>eurovoc_id</th>\n",
       "      <th>descriptor</th>\n",
       "    </tr>\n",
       "  </thead>\n",
       "  <tbody>\n",
       "    <tr>\n",
       "      <th>0</th>\n",
       "      <td>100149</td>\n",
       "      <td>social questions</td>\n",
       "    </tr>\n",
       "    <tr>\n",
       "      <th>1</th>\n",
       "      <td>100160</td>\n",
       "      <td>industry</td>\n",
       "    </tr>\n",
       "    <tr>\n",
       "      <th>2</th>\n",
       "      <td>100148</td>\n",
       "      <td>finance</td>\n",
       "    </tr>\n",
       "    <tr>\n",
       "      <th>3</th>\n",
       "      <td>100147</td>\n",
       "      <td>trade</td>\n",
       "    </tr>\n",
       "    <tr>\n",
       "      <th>4</th>\n",
       "      <td>100152</td>\n",
       "      <td>business and competition</td>\n",
       "    </tr>\n",
       "    <tr>\n",
       "      <th>...</th>\n",
       "      <td>...</td>\n",
       "      <td>...</td>\n",
       "    </tr>\n",
       "    <tr>\n",
       "      <th>7385</th>\n",
       "      <td>199</td>\n",
       "      <td>second Lomé Convention</td>\n",
       "    </tr>\n",
       "    <tr>\n",
       "      <th>7386</th>\n",
       "      <td>4053</td>\n",
       "      <td>third Lomé Convention</td>\n",
       "    </tr>\n",
       "    <tr>\n",
       "      <th>7387</th>\n",
       "      <td>198</td>\n",
       "      <td>first Lomé Convention</td>\n",
       "    </tr>\n",
       "    <tr>\n",
       "      <th>7388</th>\n",
       "      <td>4355</td>\n",
       "      <td>Sysmin</td>\n",
       "    </tr>\n",
       "    <tr>\n",
       "      <th>7389</th>\n",
       "      <td>5318</td>\n",
       "      <td>fourth Lomé Convention</td>\n",
       "    </tr>\n",
       "  </tbody>\n",
       "</table>\n",
       "<p>7390 rows × 2 columns</p>\n",
       "</div>"
      ],
      "text/plain": [
       "     eurovoc_id                descriptor\n",
       "0        100149          social questions\n",
       "1        100160                  industry\n",
       "2        100148                   finance\n",
       "3        100147                     trade\n",
       "4        100152  business and competition\n",
       "...         ...                       ...\n",
       "7385        199    second Lomé Convention\n",
       "7386       4053     third Lomé Convention\n",
       "7387        198     first Lomé Convention\n",
       "7388       4355                    Sysmin\n",
       "7389       5318    fourth Lomé Convention\n",
       "\n",
       "[7390 rows x 2 columns]"
      ]
     },
     "execution_count": 23,
     "metadata": {},
     "output_type": "execute_result"
    }
   ],
   "source": [
    "\n",
    "with open('./data/eurovoc_descriptors.json') as jsonl_file:\n",
    "    eurovoc_descriptors =  json.load(jsonl_file)\n",
    "\n",
    "df_descriptors = []\n",
    "for id, label in eurovoc_descriptors.items():\n",
    "    results = {'eurovoc_id':id, 'descriptor':label['en']}\n",
    "    df_descriptors.append(results)\n",
    "df_descriptors = pd.DataFrame(df_descriptors)\n",
    "df_descriptors"
   ]
  },
  {
   "attachments": {},
   "cell_type": "markdown",
   "id": "493da133",
   "metadata": {},
   "source": [
    "As we can observe lables are not equally distributed over documents. Top three categories are EUROVOC concepts 3 (adhesive), 18 (parliamentary committee), 6 (wholesale trade)"
   ]
  },
  {
   "cell_type": "code",
   "execution_count": 27,
   "id": "3a38448c",
   "metadata": {},
   "outputs": [
    {
     "ename": "AttributeError",
     "evalue": "'DataFrame' object has no attribute 'features'",
     "output_type": "error",
     "traceback": [
      "\u001b[0;31m---------------------------------------------------------------------------\u001b[0m",
      "\u001b[0;31mAttributeError\u001b[0m                            Traceback (most recent call last)",
      "Cell \u001b[0;32mIn[27], line 6\u001b[0m\n\u001b[1;32m      3\u001b[0m     eurovoc_concepts \u001b[39m=\u001b[39m  json\u001b[39m.\u001b[39mload(jsonl_file)\n\u001b[1;32m      5\u001b[0m \u001b[39m# Get feature map info\u001b[39;00m\n\u001b[0;32m----> 6\u001b[0m classlabel \u001b[39m=\u001b[39m train\u001b[39m.\u001b[39;49mfeatures[\u001b[39m\"\u001b[39m\u001b[39mlabels\u001b[39m\u001b[39m\"\u001b[39m]\u001b[39m.\u001b[39mfeature\n\u001b[1;32m      8\u001b[0m \u001b[39m# Retrieve IDs and descriptors from dataset\u001b[39;00m\n\u001b[1;32m      9\u001b[0m \u001b[39mfor\u001b[39;00m sample \u001b[39min\u001b[39;00m train:\n",
      "File \u001b[0;32m~/miniconda3/envs/nlp-final/lib/python3.8/site-packages/pandas/core/generic.py:5902\u001b[0m, in \u001b[0;36mNDFrame.__getattr__\u001b[0;34m(self, name)\u001b[0m\n\u001b[1;32m   5895\u001b[0m \u001b[39mif\u001b[39;00m (\n\u001b[1;32m   5896\u001b[0m     name \u001b[39mnot\u001b[39;00m \u001b[39min\u001b[39;00m \u001b[39mself\u001b[39m\u001b[39m.\u001b[39m_internal_names_set\n\u001b[1;32m   5897\u001b[0m     \u001b[39mand\u001b[39;00m name \u001b[39mnot\u001b[39;00m \u001b[39min\u001b[39;00m \u001b[39mself\u001b[39m\u001b[39m.\u001b[39m_metadata\n\u001b[1;32m   5898\u001b[0m     \u001b[39mand\u001b[39;00m name \u001b[39mnot\u001b[39;00m \u001b[39min\u001b[39;00m \u001b[39mself\u001b[39m\u001b[39m.\u001b[39m_accessors\n\u001b[1;32m   5899\u001b[0m     \u001b[39mand\u001b[39;00m \u001b[39mself\u001b[39m\u001b[39m.\u001b[39m_info_axis\u001b[39m.\u001b[39m_can_hold_identifiers_and_holds_name(name)\n\u001b[1;32m   5900\u001b[0m ):\n\u001b[1;32m   5901\u001b[0m     \u001b[39mreturn\u001b[39;00m \u001b[39mself\u001b[39m[name]\n\u001b[0;32m-> 5902\u001b[0m \u001b[39mreturn\u001b[39;00m \u001b[39mobject\u001b[39;49m\u001b[39m.\u001b[39;49m\u001b[39m__getattribute__\u001b[39;49m(\u001b[39mself\u001b[39;49m, name)\n",
      "\u001b[0;31mAttributeError\u001b[0m: 'DataFrame' object has no attribute 'features'"
     ]
    }
   ],
   "source": [
    "# Load (label_id, descriptor) mapping \n",
    "with open('./data/eurovoc_descriptors.json') as jsonl_file:\n",
    "    eurovoc_concepts =  json.load(jsonl_file)\n",
    "\n",
    "# Get feature map info\n",
    "classlabel = train.features[\"labels\"].feature\n",
    "\n",
    "# Retrieve IDs and descriptors from dataset\n",
    "for sample in train:\n",
    "  print(f'DOCUMENT: {sample[\"celex_id\"]}')\n",
    "  # DOCUMENT: 32006D0213\n",
    "  for label_id in sample['labels']:\n",
    "    print(f'LABEL: id:{label_id}, eurovoc_id: {classlabel.int2str(label_id)}, \\\n",
    "            eurovoc_desc:{eurovoc_concepts[classlabel.int2str(label_id)]}')\n",
    "    # LABEL: id: 1, eurovoc_id: '100160', eurovoc_desc: 'industry'"
   ]
  },
  {
   "cell_type": "markdown",
   "id": "0b746b7c",
   "metadata": {},
   "source": [
    "## Baseline (ie non ML solution) + metrics on test set\n"
   ]
  },
  {
   "cell_type": "markdown",
   "id": "4ae1e1b8",
   "metadata": {},
   "source": [
    "As baseline we can take each sentence and get most common words used in the text and predict based on that."
   ]
  },
  {
   "cell_type": "code",
   "execution_count": 10,
   "id": "73e7d3e4",
   "metadata": {},
   "outputs": [],
   "source": [
    "text_only = train_exp.groupby('labels', group_keys=False)['text'].apply(lambda x: x.str.split())"
   ]
  },
  {
   "cell_type": "code",
   "execution_count": 11,
   "id": "0c7df2d4",
   "metadata": {},
   "outputs": [
    {
     "data": {
      "text/html": [
       "<div>\n",
       "<style scoped>\n",
       "    .dataframe tbody tr th:only-of-type {\n",
       "        vertical-align: middle;\n",
       "    }\n",
       "\n",
       "    .dataframe tbody tr th {\n",
       "        vertical-align: top;\n",
       "    }\n",
       "\n",
       "    .dataframe thead th {\n",
       "        text-align: right;\n",
       "    }\n",
       "</style>\n",
       "<table border=\"1\" class=\"dataframe\">\n",
       "  <thead>\n",
       "    <tr style=\"text-align: right;\">\n",
       "      <th></th>\n",
       "      <th>celex_id</th>\n",
       "      <th>text</th>\n",
       "      <th>labels</th>\n",
       "    </tr>\n",
       "  </thead>\n",
       "  <tbody>\n",
       "    <tr>\n",
       "      <th>0</th>\n",
       "      <td>32003R1012</td>\n",
       "      <td>Commission Regulation (EC) No 1012/2003\\nof 12...</td>\n",
       "      <td>2</td>\n",
       "    </tr>\n",
       "    <tr>\n",
       "      <th>0</th>\n",
       "      <td>32003R1012</td>\n",
       "      <td>Commission Regulation (EC) No 1012/2003\\nof 12...</td>\n",
       "      <td>5</td>\n",
       "    </tr>\n",
       "    <tr>\n",
       "      <th>0</th>\n",
       "      <td>32003R1012</td>\n",
       "      <td>Commission Regulation (EC) No 1012/2003\\nof 12...</td>\n",
       "      <td>10</td>\n",
       "    </tr>\n",
       "    <tr>\n",
       "      <th>0</th>\n",
       "      <td>32003R1012</td>\n",
       "      <td>Commission Regulation (EC) No 1012/2003\\nof 12...</td>\n",
       "      <td>8</td>\n",
       "    </tr>\n",
       "    <tr>\n",
       "      <th>0</th>\n",
       "      <td>32003R1012</td>\n",
       "      <td>Commission Regulation (EC) No 1012/2003\\nof 12...</td>\n",
       "      <td>3</td>\n",
       "    </tr>\n",
       "  </tbody>\n",
       "</table>\n",
       "</div>"
      ],
      "text/plain": [
       "     celex_id                                               text labels\n",
       "0  32003R1012  Commission Regulation (EC) No 1012/2003\\nof 12...      2\n",
       "0  32003R1012  Commission Regulation (EC) No 1012/2003\\nof 12...      5\n",
       "0  32003R1012  Commission Regulation (EC) No 1012/2003\\nof 12...     10\n",
       "0  32003R1012  Commission Regulation (EC) No 1012/2003\\nof 12...      8\n",
       "0  32003R1012  Commission Regulation (EC) No 1012/2003\\nof 12...      3"
      ]
     },
     "execution_count": 11,
     "metadata": {},
     "output_type": "execute_result"
    }
   ],
   "source": [
    "train_exp.head()"
   ]
  },
  {
   "cell_type": "code",
   "execution_count": 17,
   "id": "afed0631",
   "metadata": {},
   "outputs": [
    {
     "data": {
      "text/html": [
       "<div>\n",
       "<style scoped>\n",
       "    .dataframe tbody tr th:only-of-type {\n",
       "        vertical-align: middle;\n",
       "    }\n",
       "\n",
       "    .dataframe tbody tr th {\n",
       "        vertical-align: top;\n",
       "    }\n",
       "\n",
       "    .dataframe thead th {\n",
       "        text-align: right;\n",
       "    }\n",
       "</style>\n",
       "<table border=\"1\" class=\"dataframe\">\n",
       "  <thead>\n",
       "    <tr style=\"text-align: right;\">\n",
       "      <th></th>\n",
       "      <th>concept_id</th>\n",
       "      <th>label</th>\n",
       "    </tr>\n",
       "  </thead>\n",
       "  <tbody>\n",
       "    <tr>\n",
       "      <th>0</th>\n",
       "      <td>100149</td>\n",
       "      <td>social questions</td>\n",
       "    </tr>\n",
       "    <tr>\n",
       "      <th>1</th>\n",
       "      <td>100160</td>\n",
       "      <td>industry</td>\n",
       "    </tr>\n",
       "    <tr>\n",
       "      <th>2</th>\n",
       "      <td>100148</td>\n",
       "      <td>finance</td>\n",
       "    </tr>\n",
       "    <tr>\n",
       "      <th>3</th>\n",
       "      <td>100147</td>\n",
       "      <td>trade</td>\n",
       "    </tr>\n",
       "    <tr>\n",
       "      <th>4</th>\n",
       "      <td>100152</td>\n",
       "      <td>business and competition</td>\n",
       "    </tr>\n",
       "  </tbody>\n",
       "</table>\n",
       "</div>"
      ],
      "text/plain": [
       "  concept_id                     label\n",
       "0     100149          social questions\n",
       "1     100160                  industry\n",
       "2     100148                   finance\n",
       "3     100147                     trade\n",
       "4     100152  business and competition"
      ]
     },
     "execution_count": 17,
     "metadata": {},
     "output_type": "execute_result"
    }
   ],
   "source": [
    "concepts_df = []\n",
    "for i, v in eurovoc_concepts.items():\n",
    "    result = {'concept_id': i, 'label': v['en']}\n",
    "    concepts_df.append(result)\n",
    "concepts_df = pd.DataFrame(concepts_df)\n",
    "concepts_df.head()"
   ]
  },
  {
   "cell_type": "code",
   "execution_count": 18,
   "id": "b95201fc",
   "metadata": {},
   "outputs": [
    {
     "ename": "NameError",
     "evalue": "name 'concepts_df' is not defined",
     "output_type": "error",
     "traceback": [
      "\u001b[0;31m---------------------------------------------------------------------------\u001b[0m",
      "\u001b[0;31mNameError\u001b[0m                                 Traceback (most recent call last)",
      "Cell \u001b[0;32mIn[18], line 1\u001b[0m\n\u001b[0;32m----> 1\u001b[0m concepts_df[\u001b[39m'\u001b[39m\u001b[39mlabel\u001b[39m\u001b[39m'\u001b[39m]\n",
      "\u001b[0;31mNameError\u001b[0m: name 'concepts_df' is not defined"
     ]
    }
   ],
   "source": [
    "concepts_df['label']"
   ]
  },
  {
   "cell_type": "code",
   "execution_count": 17,
   "id": "b10c5d50",
   "metadata": {},
   "outputs": [
    {
     "ename": "AttributeError",
     "evalue": "'MultiEURLEX' object has no attribute 'languages'",
     "output_type": "error",
     "traceback": [
      "\u001b[0;31m---------------------------------------------------------------------------\u001b[0m",
      "\u001b[0;31mAttributeError\u001b[0m                            Traceback (most recent call last)",
      "Cell \u001b[0;32mIn[17], line 2\u001b[0m\n\u001b[1;32m      1\u001b[0m \u001b[39mfrom\u001b[39;00m \u001b[39mdatasets\u001b[39;00m \u001b[39mimport\u001b[39;00m load_dataset\n\u001b[0;32m----> 2\u001b[0m dataset \u001b[39m=\u001b[39m load_dataset(\u001b[39m'\u001b[39;49m\u001b[39mnlpaueb/multi_eurlex\u001b[39;49m\u001b[39m'\u001b[39;49m, \u001b[39m'\u001b[39;49m\u001b[39mall_languages\u001b[39;49m\u001b[39m'\u001b[39;49m)\n",
      "File \u001b[0;32m~/miniconda3/lib/python3.10/site-packages/datasets/load.py:1759\u001b[0m, in \u001b[0;36mload_dataset\u001b[0;34m(path, name, data_dir, data_files, split, cache_dir, features, download_config, download_mode, verification_mode, ignore_verifications, keep_in_memory, save_infos, revision, use_auth_token, task, streaming, num_proc, **config_kwargs)\u001b[0m\n\u001b[1;32m   1754\u001b[0m verification_mode \u001b[39m=\u001b[39m VerificationMode(\n\u001b[1;32m   1755\u001b[0m     (verification_mode \u001b[39mor\u001b[39;00m VerificationMode\u001b[39m.\u001b[39mBASIC_CHECKS) \u001b[39mif\u001b[39;00m \u001b[39mnot\u001b[39;00m save_infos \u001b[39melse\u001b[39;00m VerificationMode\u001b[39m.\u001b[39mALL_CHECKS\n\u001b[1;32m   1756\u001b[0m )\n\u001b[1;32m   1758\u001b[0m \u001b[39m# Create a dataset builder\u001b[39;00m\n\u001b[0;32m-> 1759\u001b[0m builder_instance \u001b[39m=\u001b[39m load_dataset_builder(\n\u001b[1;32m   1760\u001b[0m     path\u001b[39m=\u001b[39;49mpath,\n\u001b[1;32m   1761\u001b[0m     name\u001b[39m=\u001b[39;49mname,\n\u001b[1;32m   1762\u001b[0m     data_dir\u001b[39m=\u001b[39;49mdata_dir,\n\u001b[1;32m   1763\u001b[0m     data_files\u001b[39m=\u001b[39;49mdata_files,\n\u001b[1;32m   1764\u001b[0m     cache_dir\u001b[39m=\u001b[39;49mcache_dir,\n\u001b[1;32m   1765\u001b[0m     features\u001b[39m=\u001b[39;49mfeatures,\n\u001b[1;32m   1766\u001b[0m     download_config\u001b[39m=\u001b[39;49mdownload_config,\n\u001b[1;32m   1767\u001b[0m     download_mode\u001b[39m=\u001b[39;49mdownload_mode,\n\u001b[1;32m   1768\u001b[0m     revision\u001b[39m=\u001b[39;49mrevision,\n\u001b[1;32m   1769\u001b[0m     use_auth_token\u001b[39m=\u001b[39;49muse_auth_token,\n\u001b[1;32m   1770\u001b[0m     \u001b[39m*\u001b[39;49m\u001b[39m*\u001b[39;49mconfig_kwargs,\n\u001b[1;32m   1771\u001b[0m )\n\u001b[1;32m   1773\u001b[0m \u001b[39m# Return iterable dataset in case of streaming\u001b[39;00m\n\u001b[1;32m   1774\u001b[0m \u001b[39mif\u001b[39;00m streaming:\n",
      "File \u001b[0;32m~/miniconda3/lib/python3.10/site-packages/datasets/load.py:1522\u001b[0m, in \u001b[0;36mload_dataset_builder\u001b[0;34m(path, name, data_dir, data_files, cache_dir, features, download_config, download_mode, revision, use_auth_token, **config_kwargs)\u001b[0m\n\u001b[1;32m   1519\u001b[0m     \u001b[39mraise\u001b[39;00m \u001b[39mValueError\u001b[39;00m(error_msg)\n\u001b[1;32m   1521\u001b[0m \u001b[39m# Instantiate the dataset builder\u001b[39;00m\n\u001b[0;32m-> 1522\u001b[0m builder_instance: DatasetBuilder \u001b[39m=\u001b[39m builder_cls(\n\u001b[1;32m   1523\u001b[0m     cache_dir\u001b[39m=\u001b[39;49mcache_dir,\n\u001b[1;32m   1524\u001b[0m     config_name\u001b[39m=\u001b[39;49mconfig_name,\n\u001b[1;32m   1525\u001b[0m     data_dir\u001b[39m=\u001b[39;49mdata_dir,\n\u001b[1;32m   1526\u001b[0m     data_files\u001b[39m=\u001b[39;49mdata_files,\n\u001b[1;32m   1527\u001b[0m     \u001b[39mhash\u001b[39;49m\u001b[39m=\u001b[39;49m\u001b[39mhash\u001b[39;49m,\n\u001b[1;32m   1528\u001b[0m     features\u001b[39m=\u001b[39;49mfeatures,\n\u001b[1;32m   1529\u001b[0m     use_auth_token\u001b[39m=\u001b[39;49muse_auth_token,\n\u001b[1;32m   1530\u001b[0m     \u001b[39m*\u001b[39;49m\u001b[39m*\u001b[39;49mbuilder_kwargs,\n\u001b[1;32m   1531\u001b[0m     \u001b[39m*\u001b[39;49m\u001b[39m*\u001b[39;49mconfig_kwargs,\n\u001b[1;32m   1532\u001b[0m )\n\u001b[1;32m   1534\u001b[0m \u001b[39mreturn\u001b[39;00m builder_instance\n",
      "File \u001b[0;32m~/miniconda3/lib/python3.10/site-packages/datasets/builder.py:1396\u001b[0m, in \u001b[0;36mGeneratorBasedBuilder.__init__\u001b[0;34m(self, writer_batch_size, *args, **kwargs)\u001b[0m\n\u001b[1;32m   1395\u001b[0m \u001b[39mdef\u001b[39;00m \u001b[39m__init__\u001b[39m(\u001b[39mself\u001b[39m, \u001b[39m*\u001b[39margs, writer_batch_size\u001b[39m=\u001b[39m\u001b[39mNone\u001b[39;00m, \u001b[39m*\u001b[39m\u001b[39m*\u001b[39mkwargs):\n\u001b[0;32m-> 1396\u001b[0m     \u001b[39msuper\u001b[39;49m()\u001b[39m.\u001b[39;49m\u001b[39m__init__\u001b[39;49m(\u001b[39m*\u001b[39;49margs, \u001b[39m*\u001b[39;49m\u001b[39m*\u001b[39;49mkwargs)\n\u001b[1;32m   1397\u001b[0m     \u001b[39m# Batch size used by the ArrowWriter\u001b[39;00m\n\u001b[1;32m   1398\u001b[0m     \u001b[39m# It defines the number of samples that are kept in memory before writing them\u001b[39;00m\n\u001b[1;32m   1399\u001b[0m     \u001b[39m# and also the length of the arrow chunks\u001b[39;00m\n\u001b[1;32m   1400\u001b[0m     \u001b[39m# None means that the ArrowWriter will use its default value\u001b[39;00m\n\u001b[1;32m   1401\u001b[0m     \u001b[39mself\u001b[39m\u001b[39m.\u001b[39m_writer_batch_size \u001b[39m=\u001b[39m writer_batch_size \u001b[39mor\u001b[39;00m \u001b[39mself\u001b[39m\u001b[39m.\u001b[39mDEFAULT_WRITER_BATCH_SIZE\n",
      "File \u001b[0;32m~/miniconda3/lib/python3.10/site-packages/datasets/builder.py:329\u001b[0m, in \u001b[0;36mDatasetBuilder.__init__\u001b[0;34m(self, cache_dir, config_name, hash, base_path, info, features, use_auth_token, repo_id, data_files, data_dir, name, **config_kwargs)\u001b[0m\n\u001b[1;32m    327\u001b[0m \u001b[39mif\u001b[39;00m info \u001b[39mis\u001b[39;00m \u001b[39mNone\u001b[39;00m:\n\u001b[1;32m    328\u001b[0m     info \u001b[39m=\u001b[39m \u001b[39mself\u001b[39m\u001b[39m.\u001b[39mget_exported_dataset_info()\n\u001b[0;32m--> 329\u001b[0m     info\u001b[39m.\u001b[39mupdate(\u001b[39mself\u001b[39;49m\u001b[39m.\u001b[39;49m_info())\n\u001b[1;32m    330\u001b[0m     info\u001b[39m.\u001b[39mbuilder_name \u001b[39m=\u001b[39m \u001b[39mself\u001b[39m\u001b[39m.\u001b[39mname\n\u001b[1;32m    331\u001b[0m     info\u001b[39m.\u001b[39mconfig_name \u001b[39m=\u001b[39m \u001b[39mself\u001b[39m\u001b[39m.\u001b[39mconfig\u001b[39m.\u001b[39mname\n",
      "File \u001b[0;32m~/.cache/huggingface/modules/datasets_modules/datasets/nlpaueb--multi_eurlex/1addee7110a20c2b01cc3de89456786482e4eea1d2ead0bea3d5383b16cc9fce/multi_eurlex.py:8243\u001b[0m, in \u001b[0;36mMultiEURLEX._info\u001b[0;34m(self)\u001b[0m\n\u001b[1;32m   8237\u001b[0m \u001b[39mdef\u001b[39;00m \u001b[39m_info\u001b[39m(\u001b[39mself\u001b[39m):\n\u001b[1;32m   8238\u001b[0m     \u001b[39mif\u001b[39;00m \u001b[39mself\u001b[39m\u001b[39m.\u001b[39mconfig\u001b[39m.\u001b[39mlanguage \u001b[39m==\u001b[39m \u001b[39m\"\u001b[39m\u001b[39mall_languages\u001b[39m\u001b[39m\"\u001b[39m:\n\u001b[1;32m   8239\u001b[0m         features \u001b[39m=\u001b[39m datasets\u001b[39m.\u001b[39mFeatures(\n\u001b[1;32m   8240\u001b[0m             {\n\u001b[1;32m   8241\u001b[0m                 \u001b[39m\"\u001b[39m\u001b[39mcelex_id\u001b[39m\u001b[39m\"\u001b[39m: datasets\u001b[39m.\u001b[39mValue(\u001b[39m\"\u001b[39m\u001b[39mstring\u001b[39m\u001b[39m\"\u001b[39m),\n\u001b[1;32m   8242\u001b[0m                 \u001b[39m\"\u001b[39m\u001b[39mtext\u001b[39m\u001b[39m\"\u001b[39m: datasets\u001b[39m.\u001b[39mTranslation(\n\u001b[0;32m-> 8243\u001b[0m                     languages\u001b[39m=\u001b[39m\u001b[39mself\u001b[39;49m\u001b[39m.\u001b[39;49mlanguages,\n\u001b[1;32m   8244\u001b[0m                 ),\n\u001b[1;32m   8245\u001b[0m                 \u001b[39m\"\u001b[39m\u001b[39mlabels\u001b[39m\u001b[39m\"\u001b[39m: datasets\u001b[39m.\u001b[39mfeatures\u001b[39m.\u001b[39mSequence(\n\u001b[1;32m   8246\u001b[0m                     datasets\u001b[39m.\u001b[39mClassLabel(names\u001b[39m=\u001b[39m_CONCEPTS[\u001b[39mself\u001b[39m\u001b[39m.\u001b[39mconfig\u001b[39m.\u001b[39mlabel_level])\n\u001b[1;32m   8247\u001b[0m                 ),\n\u001b[1;32m   8248\u001b[0m             }\n\u001b[1;32m   8249\u001b[0m         )\n\u001b[1;32m   8250\u001b[0m     \u001b[39melse\u001b[39;00m:\n\u001b[1;32m   8251\u001b[0m         features \u001b[39m=\u001b[39m datasets\u001b[39m.\u001b[39mFeatures(\n\u001b[1;32m   8252\u001b[0m             {\n\u001b[1;32m   8253\u001b[0m                 \u001b[39m\"\u001b[39m\u001b[39mcelex_id\u001b[39m\u001b[39m\"\u001b[39m: datasets\u001b[39m.\u001b[39mValue(\u001b[39m\"\u001b[39m\u001b[39mstring\u001b[39m\u001b[39m\"\u001b[39m),\n\u001b[0;32m   (...)\u001b[0m\n\u001b[1;32m   8258\u001b[0m             }\n\u001b[1;32m   8259\u001b[0m         )\n",
      "\u001b[0;31mAttributeError\u001b[0m: 'MultiEURLEX' object has no attribute 'languages'"
     ]
    }
   ],
   "source": [
    "from datasets import load_dataset\n",
    "dataset = load_dataset('nlpaueb/multi_eurlex', 'all_languages')\n"
   ]
  },
  {
   "cell_type": "markdown",
   "id": "c1dfc1dc",
   "metadata": {},
   "source": [
    "## RNN solution + metrics on test set\n"
   ]
  },
  {
   "cell_type": "code",
   "execution_count": null,
   "id": "959794e3",
   "metadata": {},
   "outputs": [],
   "source": []
  },
  {
   "cell_type": "code",
   "execution_count": null,
   "id": "10473813",
   "metadata": {},
   "outputs": [],
   "source": []
  },
  {
   "cell_type": "code",
   "execution_count": null,
   "id": "6e58693f",
   "metadata": {},
   "outputs": [],
   "source": []
  },
  {
   "cell_type": "code",
   "execution_count": null,
   "id": "687fdb4f",
   "metadata": {},
   "outputs": [],
   "source": []
  },
  {
   "cell_type": "code",
   "execution_count": null,
   "id": "ef2207f0",
   "metadata": {},
   "outputs": [],
   "source": []
  },
  {
   "cell_type": "markdown",
   "id": "0601c0e2",
   "metadata": {},
   "source": [
    "## BERT model + metrics on test set"
   ]
  },
  {
   "cell_type": "code",
   "execution_count": null,
   "id": "ac0e20d9",
   "metadata": {},
   "outputs": [],
   "source": []
  }
 ],
 "metadata": {
  "kernelspec": {
   "display_name": "Python 3 (ipykernel)",
   "language": "python",
   "name": "python3"
  },
  "language_info": {
   "codemirror_mode": {
    "name": "ipython",
    "version": 3
   },
   "file_extension": ".py",
   "mimetype": "text/x-python",
   "name": "python",
   "nbconvert_exporter": "python",
   "pygments_lexer": "ipython3",
   "version": "3.8.16"
  }
 },
 "nbformat": 4,
 "nbformat_minor": 5
}
