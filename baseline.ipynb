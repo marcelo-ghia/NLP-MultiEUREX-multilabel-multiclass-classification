{
 "cells": [
  {
   "cell_type": "code",
   "execution_count": 71,
   "id": "ebe12771",
   "metadata": {},
   "outputs": [],
   "source": [
    "import json\n",
    "from datasets import load_dataset\n",
    "import plotly.express as px\n",
    "#visualize\n",
    "import matplotlib.pyplot as plt\n",
    "import os\n",
    "import pandas as pd\n",
    "import nltk\n",
    "from nltk.tokenize import word_tokenize\n",
    "from nltk.corpus import stopwords\n",
    "from nltk.stem import WordNetLemmatizer\n",
    "import string\n",
    "import pandas as pd\n",
    "\n",
    "%matplotlib inline\n",
    "\n",
    "os.chdir('/Users/jon/Documents/DSDM/term_2/adv_meth_nlp/nlp-final/')"
   ]
  },
  {
   "attachments": {},
   "cell_type": "markdown",
   "id": "2cf458c7",
   "metadata": {},
   "source": [
    "# Data exploration"
   ]
  },
  {
   "attachments": {},
   "cell_type": "markdown",
   "id": "7fb6c11d",
   "metadata": {},
   "source": [
    "First load the dataset."
   ]
  },
  {
   "cell_type": "code",
   "execution_count": 27,
   "id": "481e612c",
   "metadata": {},
   "outputs": [
    {
     "name": "stderr",
     "output_type": "stream",
     "text": [
      "Found cached dataset multi_eurlex (/Users/jon/.cache/huggingface/datasets/nlpaueb___multi_eurlex/en/1.0.0/1addee7110a20c2b01cc3de89456786482e4eea1d2ead0bea3d5383b16cc9fce)\n",
      "Found cached dataset multi_eurlex (/Users/jon/.cache/huggingface/datasets/nlpaueb___multi_eurlex/en/1.0.0/1addee7110a20c2b01cc3de89456786482e4eea1d2ead0bea3d5383b16cc9fce)\n",
      "Found cached dataset multi_eurlex (/Users/jon/.cache/huggingface/datasets/nlpaueb___multi_eurlex/en/1.0.0/1addee7110a20c2b01cc3de89456786482e4eea1d2ead0bea3d5383b16cc9fce)\n"
     ]
    }
   ],
   "source": [
    "import json\n",
    "from datasets import load_dataset\n",
    "\n",
    "# Load the English part of the dataset\n",
    "train_dataset = load_dataset('nlpaueb/multi_eurlex', 'en', split='train')\n",
    "test_dataset = load_dataset('nlpaueb/multi_eurlex', 'en', split='test')\n",
    "val_dataset = load_dataset('nlpaueb/multi_eurlex', 'en', split='validation')"
   ]
  },
  {
   "attachments": {},
   "cell_type": "markdown",
   "id": "37a3f341",
   "metadata": {},
   "source": [
    "`eurovoc_id` is the ID of a certain area of government activity.\n",
    "\n",
    "`level` refers to the specificity of a certain topic. For example, european parliament is level 0, quantum computing is level 7."
   ]
  },
  {
   "cell_type": "code",
   "execution_count": 30,
   "id": "76dd5a88",
   "metadata": {},
   "outputs": [],
   "source": [
    "# Load (label_id, descriptor) mapping \n",
    "with open('./data/eurovoc_descriptors.json') as jsonl_file:\n",
    "    eurovoc_descriptors =  json.load(jsonl_file)\n",
    "\n",
    "# Get feature map info\n",
    "train_classlabel = train_dataset.features[\"labels\"].feature\n",
    "test_classlabel = test_dataset.features[\"labels\"].feature\n",
    "val_classlabel = val_dataset.features[\"labels\"].feature\n",
    "\n",
    "# Load (label_id, descriptor) mapping \n",
    "with open('./data/eurovoc_concepts.json') as jsonl_file:\n",
    "    eurovoc_concepts =  json.load(jsonl_file)\n"
   ]
  },
  {
   "attachments": {},
   "cell_type": "markdown",
   "id": "cb341d28",
   "metadata": {},
   "source": [
    "Let's take a look at the distribution of labels. "
   ]
  },
  {
   "cell_type": "code",
   "execution_count": 64,
   "id": "3cbc0137",
   "metadata": {},
   "outputs": [],
   "source": [
    "def get_agg_df(dataset, classlabel):\n",
    "    df_agg = []\n",
    "    for i, sample in enumerate(dataset):    \n",
    "        for label_id in sample['labels']:\n",
    "            result = {}\n",
    "            result['celex_id'] = sample['celex_id']\n",
    "            result['label_id'] = label_id\n",
    "            result['eurovoc_id'] = classlabel.int2str(label_id)\n",
    "            result['eurovoc_desc'] = eurovoc_descriptors[classlabel.int2str(label_id)]['en']\n",
    "            df_agg.append(result)\n",
    "            # Get the EuroVoc level for the current label ID\n",
    "            for level, ids in eurovoc_concepts.items():\n",
    "                if classlabel.int2str(label_id) in ids:\n",
    "                    result['eurovoc_level'] = level\n",
    "                    break\n",
    "    df_agg = pd.DataFrame(df_agg)\n",
    "    return(df_agg)\n",
    "\n",
    "train_agg_df = get_agg_df(train_dataset, train_classlabel)\n",
    "test_agg_df = get_agg_df(test_dataset, test_classlabel)\n",
    "val_agg_df = get_agg_df(val_dataset, val_classlabel)\n",
    "df = pd.concat([train_agg_df, test_agg_df, val_agg_df], ignore_index=True)\n",
    "df['source'] = pd.Series(['train'] * len(train_agg_df) + ['test'] * len(test_agg_df) + ['val'] * len(val_agg_df), dtype='string')"
   ]
  },
  {
   "cell_type": "code",
   "execution_count": 70,
   "id": "dc67a8b9",
   "metadata": {},
   "outputs": [
    {
     "data": {
      "text/html": [
       "<div>\n",
       "<style scoped>\n",
       "    .dataframe tbody tr th:only-of-type {\n",
       "        vertical-align: middle;\n",
       "    }\n",
       "\n",
       "    .dataframe tbody tr th {\n",
       "        vertical-align: top;\n",
       "    }\n",
       "\n",
       "    .dataframe thead th {\n",
       "        text-align: right;\n",
       "    }\n",
       "</style>\n",
       "<table border=\"1\" class=\"dataframe\">\n",
       "  <thead>\n",
       "    <tr style=\"text-align: right;\">\n",
       "      <th></th>\n",
       "      <th>celex_id</th>\n",
       "      <th>label_id</th>\n",
       "      <th>eurovoc_id</th>\n",
       "      <th>eurovoc_desc</th>\n",
       "      <th>eurovoc_level</th>\n",
       "      <th>source</th>\n",
       "    </tr>\n",
       "  </thead>\n",
       "  <tbody>\n",
       "    <tr>\n",
       "      <th>0</th>\n",
       "      <td>32003R1012</td>\n",
       "      <td>2</td>\n",
       "      <td>100148</td>\n",
       "      <td>finance</td>\n",
       "      <td>level_1</td>\n",
       "      <td>train</td>\n",
       "    </tr>\n",
       "    <tr>\n",
       "      <th>1</th>\n",
       "      <td>32003R1012</td>\n",
       "      <td>5</td>\n",
       "      <td>100143</td>\n",
       "      <td>international relations</td>\n",
       "      <td>level_1</td>\n",
       "      <td>train</td>\n",
       "    </tr>\n",
       "    <tr>\n",
       "      <th>2</th>\n",
       "      <td>32003R1012</td>\n",
       "      <td>10</td>\n",
       "      <td>100142</td>\n",
       "      <td>politics</td>\n",
       "      <td>level_1</td>\n",
       "      <td>train</td>\n",
       "    </tr>\n",
       "    <tr>\n",
       "      <th>3</th>\n",
       "      <td>32003R1012</td>\n",
       "      <td>8</td>\n",
       "      <td>100154</td>\n",
       "      <td>transport</td>\n",
       "      <td>level_1</td>\n",
       "      <td>train</td>\n",
       "    </tr>\n",
       "    <tr>\n",
       "      <th>4</th>\n",
       "      <td>32003R1012</td>\n",
       "      <td>3</td>\n",
       "      <td>100147</td>\n",
       "      <td>trade</td>\n",
       "      <td>level_1</td>\n",
       "      <td>train</td>\n",
       "    </tr>\n",
       "  </tbody>\n",
       "</table>\n",
       "</div>"
      ],
      "text/plain": [
       "     celex_id  label_id eurovoc_id             eurovoc_desc eurovoc_level  \\\n",
       "0  32003R1012         2     100148                  finance       level_1   \n",
       "1  32003R1012         5     100143  international relations       level_1   \n",
       "2  32003R1012        10     100142                 politics       level_1   \n",
       "3  32003R1012         8     100154                transport       level_1   \n",
       "4  32003R1012         3     100147                    trade       level_1   \n",
       "\n",
       "  source  \n",
       "0  train  \n",
       "1  train  \n",
       "2  train  \n",
       "3  train  \n",
       "4  train  "
      ]
     },
     "execution_count": 70,
     "metadata": {},
     "output_type": "execute_result"
    }
   ],
   "source": [
    "df.head()"
   ]
  },
  {
   "cell_type": "code",
   "execution_count": 65,
   "id": "e3c92921",
   "metadata": {},
   "outputs": [
    {
     "data": {
      "image/png": "[encoded data removed]",
      "text/plain": [
       "<Figure size 1000x600 with 1 Axes>"
      ]
     },
     "metadata": {},
     "output_type": "display_data"
    }
   ],
   "source": [
    "\n",
    "# Group by eurovoc_desc and source, and count occurrences\n",
    "df_grouped = df.groupby(['eurovoc_desc', 'source']).size().reset_index(name='count')\n",
    "\n",
    "# Pivot the table to have source as columns and eurovoc_desc as index\n",
    "df_pivot = df_grouped.pivot_table(index='eurovoc_desc', columns='source', values='count')\n",
    "\n",
    "# Divide each column by the total count for that source\n",
    "df_pivot = df_pivot.divide(df_pivot.sum(axis=0), axis=1)\n",
    "\n",
    "# Sort the pivot table by the train column in descending order\n",
    "df_pivot = df_pivot.sort_values(by='train', ascending=False)\n",
    "\n",
    "# Plot a grouped bar chart\n",
    "fig, ax = plt.subplots(figsize=(10,6))\n",
    "\n",
    "x = np.arange(len(df_pivot))\n",
    "width = 0.2\n",
    "\n",
    "ax.bar(x - width, df_pivot['train'], width, label='train')\n",
    "ax.bar(x, df_pivot['test'], width, label='test')\n",
    "ax.bar(x + width, df_pivot['val'], width, label='val')\n",
    "\n",
    "# Set the plot title and axes labels\n",
    "ax.set_title('Occurrences of eurovoc_desc by source')\n",
    "ax.set_xlabel('eurovoc_desc')\n",
    "ax.set_ylabel('Percentage')\n",
    "\n",
    "# Add a legend to the plot\n",
    "ax.legend(title='Source', loc='upper right')\n",
    "\n",
    "# Set the x-axis tick positions and labels\n",
    "xticks = x - width / 2 + 0.5\n",
    "ax.set_xticks(xticks)\n",
    "ax.set_xticklabels(df_pivot.index, rotation=45, ha='right')\n",
    "\n",
    "# Show the plot\n",
    "plt.show()\n"
   ]
  },
  {
   "attachments": {},
   "cell_type": "markdown",
   "id": "337a69cb",
   "metadata": {},
   "source": [
    "## Preprocessing"
   ]
  },
  {
   "cell_type": "code",
   "execution_count": 69,
   "id": "5a5058ac",
   "metadata": {},
   "outputs": [
    {
     "data": {
      "text/html": [
       "<div>\n",
       "<style scoped>\n",
       "    .dataframe tbody tr th:only-of-type {\n",
       "        vertical-align: middle;\n",
       "    }\n",
       "\n",
       "    .dataframe tbody tr th {\n",
       "        vertical-align: top;\n",
       "    }\n",
       "\n",
       "    .dataframe thead th {\n",
       "        text-align: right;\n",
       "    }\n",
       "</style>\n",
       "<table border=\"1\" class=\"dataframe\">\n",
       "  <thead>\n",
       "    <tr style=\"text-align: right;\">\n",
       "      <th></th>\n",
       "      <th>celex_id</th>\n",
       "      <th>text</th>\n",
       "      <th>labels</th>\n",
       "    </tr>\n",
       "  </thead>\n",
       "  <tbody>\n",
       "    <tr>\n",
       "      <th>0</th>\n",
       "      <td>32003R1012</td>\n",
       "      <td>Commission Regulation (EC) No 1012/2003\\nof 12...</td>\n",
       "      <td>[2, 5, 10, 8, 3, 18, 15]</td>\n",
       "    </tr>\n",
       "    <tr>\n",
       "      <th>1</th>\n",
       "      <td>32008R0284</td>\n",
       "      <td>COMMISSION REGULATION (EC) No 284/2008\\nof 27 ...</td>\n",
       "      <td>[3, 18, 17, 6]</td>\n",
       "    </tr>\n",
       "    <tr>\n",
       "      <th>2</th>\n",
       "      <td>32004D0761</td>\n",
       "      <td>COMMISSION DECISION\\nof 26 October 2004\\nlayin...</td>\n",
       "      <td>[17, 19, 10, 6, 15]</td>\n",
       "    </tr>\n",
       "    <tr>\n",
       "      <th>3</th>\n",
       "      <td>31992R2310</td>\n",
       "      <td>COMMISSION REGULATION (EEC) No 2310/92 of 31 J...</td>\n",
       "      <td>[7, 3, 17, 6]</td>\n",
       "    </tr>\n",
       "    <tr>\n",
       "      <th>4</th>\n",
       "      <td>31995R0423</td>\n",
       "      <td>COUNCIL REGULATION (EC) No 423/95 of 20 Februa...</td>\n",
       "      <td>[17, 19, 6]</td>\n",
       "    </tr>\n",
       "  </tbody>\n",
       "</table>\n",
       "</div>"
      ],
      "text/plain": [
       "     celex_id                                               text  \\\n",
       "0  32003R1012  Commission Regulation (EC) No 1012/2003\\nof 12...   \n",
       "1  32008R0284  COMMISSION REGULATION (EC) No 284/2008\\nof 27 ...   \n",
       "2  32004D0761  COMMISSION DECISION\\nof 26 October 2004\\nlayin...   \n",
       "3  31992R2310  COMMISSION REGULATION (EEC) No 2310/92 of 31 J...   \n",
       "4  31995R0423  COUNCIL REGULATION (EC) No 423/95 of 20 Februa...   \n",
       "\n",
       "                     labels  \n",
       "0  [2, 5, 10, 8, 3, 18, 15]  \n",
       "1            [3, 18, 17, 6]  \n",
       "2       [17, 19, 10, 6, 15]  \n",
       "3             [7, 3, 17, 6]  \n",
       "4               [17, 19, 6]  "
      ]
     },
     "execution_count": 69,
     "metadata": {},
     "output_type": "execute_result"
    }
   ],
   "source": [
    "df_train = train_dataset.to_pandas()\n",
    "df_train.head()"
   ]
  },
  {
   "cell_type": "code",
   "execution_count": 85,
   "id": "94e32e87",
   "metadata": {},
   "outputs": [
    {
     "name": "stderr",
     "output_type": "stream",
     "text": [
      "[nltk_data] Downloading package punkt to /Users/jon/nltk_data...\n",
      "[nltk_data]   Package punkt is already up-to-date!\n",
      "[nltk_data] Downloading package stopwords to /Users/jon/nltk_data...\n",
      "[nltk_data]   Package stopwords is already up-to-date!\n",
      "[nltk_data] Downloading package wordnet to /Users/jon/nltk_data...\n",
      "[nltk_data]   Package wordnet is already up-to-date!\n"
     ]
    },
    {
     "name": "stdout",
     "output_type": "stream",
     "text": [
      "     celex_id                                               text  \\\n",
      "0  32003R1012  commission regulation ec june amending th time...   \n",
      "1  32008R0284  commission regulation ec march registering cer...   \n",
      "2  32004D0761  commission decision october laying detailed ru...   \n",
      "3  31992R2310  commission regulation eec july amending regula...   \n",
      "4  31995R0423  council regulation ec february amending regula...   \n",
      "\n",
      "                     labels                                            pp_text  \n",
      "0  [2, 5, 10, 8, 3, 18, 15]  commiss regul ec june amend th time council re...  \n",
      "1            [3, 18, 17, 6]  commiss regul ec march regist certain name reg...  \n",
      "2       [17, 19, 10, 6, 15]  commiss decis octob lay detail rule applic cou...  \n",
      "3             [7, 3, 17, 6]  commiss regul eec juli amend regul eec buyingi...  \n",
      "4               [17, 19, 6]  council regul ec februari amend regul eec lay ...  \n"
     ]
    }
   ],
   "source": [
    "import nltk\n",
    "import string\n",
    "import re\n",
    "import pandas as pd\n",
    "\n",
    "# Download the necessary NLTK resources\n",
    "nltk.download('punkt')\n",
    "nltk.download('stopwords')\n",
    "nltk.download('wordnet')\n",
    "\n",
    "# Define a function to preprocess a single document\n",
    "def preprocess_text(text):\n",
    "    # Convert text to lowercase\n",
    "    text = text.lower()\n",
    "\n",
    "    # Remove numbers and punctuation using regex\n",
    "    text = re.sub(r'[^\\w\\s]', '', re.sub(r'\\d+', '', text))\n",
    "\n",
    "    # Tokenize the text into words\n",
    "    words = nltk.word_tokenize(text)\n",
    "\n",
    "    # Remove stop words\n",
    "    stopwords = nltk.corpus.stopwords.words('english')\n",
    "    filtered_words = [word for word in words if word not in stopwords]\n",
    "\n",
    "    # Stem the remaining words using Porter Stemmer\n",
    "    stemmer = nltk.PorterStemmer()\n",
    "    stemmed_words = [stemmer.stem(word) for word in filtered_words]\n",
    "\n",
    "    # Lemmatize the remaining words using WordNetLemmatizer\n",
    "    lemmatizer = nltk.WordNetLemmatizer()\n",
    "    lemmatized_words = [lemmatizer.lemmatize(word) for word in stemmed_words]\n",
    "\n",
    "    # Join the preprocessed words into a single string\n",
    "    preprocessed_text = \" \".join(lemmatized_words)\n",
    "\n",
    "    return preprocessed_text\n",
    "\n",
    "# Preprocess the text in the 'text' column of the DataFrame\n",
    "df_train['pp_text'] = df_train['text'].apply(preprocess_text)\n",
    "\n",
    "# Print the preprocessed DataFrame\n",
    "print(df_train.head())\n"
   ]
  },
  {
   "cell_type": "code",
   "execution_count": 86,
   "id": "bfa3e4df",
   "metadata": {},
   "outputs": [
    {
     "name": "stdout",
     "output_type": "stream",
     "text": [
      "commiss regul ec june amend th time council regul ec impos certain specif restrict measur direct certain person entiti associ usama bin laden alqaida network taliban repeal council regul ec commiss european commun regard treati establish european commun regard council regul ec may impos certain specif restrict measur direct certain person entiti associ usama bin laden alqaida network taliban repeal council regul ec prohibit export certain good servic afghanistan strengthen flight ban extend freez fund financi resourc respect taliban afghanistan last amend commiss regul ec particular articl first indent thereof wherea annex regul ec list person group entiti cover freez fund econom resourc regul june sanction committe decid amend list person group entiti freez fund econom resourc appli therefor annex amend accordingli adopt regul articl annex regul ec herebi amend accord annex regul articl regul shall enter forc day follow public offici journal european union regul shall bind entireti directli applic member state done brussel june\n",
      "commiss regul ec march regist certain name regist protect design origin protect geograph indic lingot du nord pgi cipolla rossa di tropea calabria pgi marron di roccadaspid pgi commiss european commun regard treati establish european commun regard council regul ec march protect geograph indic design origin agricultur product foodstuff particular first subparagraph articl thereof wherea accord first subparagraph articl pursuant articl regul ec franc applic regist name lingot du nord itali applic regist name cipolla rossa di tropea calabria marron di roccadaspid publish offici journal european union object articl regul ec receiv commiss name enter regist adopt regul articl name annex regul herebi enter regist protect design origin protect geograph indic articl regul shall enter forc th day follow public offici journal european union regul shall bind entireti directli applic member state done brussel march\n",
      "commiss decis octob lay detail rule applic council direct eec regard statist survey cattl popul product notifi document number c text eea relev ec commiss european commun regard treati establish european commun regard council direct eec june statist survey carri bovin anim product particular articl thereof wherea commiss decis ec may lay detail rule applic council direct eec regard statist survey cattl popul product amend sever time precis definit requir order carri survey provid direct eec requir definit agricultur hold cover survey differ categori breakdown survey result herd size class territori subdivis accord member state draw survey result regular interv must also precis defin standard definit carcass weight necessari draw slaughter statist direct eec member state may request authoris carri mayjun novemberdecemb survey select region provid survey cover least bovin popul member state whose bovin popul make small percentag overal livestock popul commun may also request authoris dispens altogeth either mayjun novemberdecemb survey use region breakdown final result mayjun survey final member state may request authoris conduct prescrib breakdown herd size class result mayjun survey applic made member state variou type derog reason access czech republ cypru estonia hungari latvia lithuania malta poland slovakia slovenia necessari make certain technic adapt extend certain derog new member state regul ec european parliament council establish common classif territori unit statist nut member state new nut nomenclatur must therefor replac previous defin region level decis ec therefor repeal decis accord opinion stand committe agricultur statist adopt decis articl purpos articl direct eec agricultur hold mean technic econom unit singl manag produc agricultur product survey refer articl direct eec shall cover agricultur hold utilis agricultur area ha b agricultur hold utilis agricultur area le ha product certain extent intend sale product unit exce certain natur threshold member state wish appli differ survey threshold shall howev undertak determin threshold way smallest hold exclud togeth hold exclud account le total standard gross margin within mean commiss decis eec member state concern articl definit categori bovin refer articl direct eec set annex decis articl territori subdivis refer articl direct eec member state shall follow level common classif territori unit statist nut defin annex ii decis need compil result region bovin popul le nation bovin popul articl herd size class refer articl direct eec set annex iii decis articl carcass weight refer articl direct eec weight slaughter anim cold bodi skin bled eviscer remov extern genitalia limb carpu tarsu head tail kidney kidney fat udder articl list member state authoris carri mayjun novemberdecemb survey select region understand survey cover least bovin popul set point annex iv decis list member state authoris carri novemberdecemb survey set point b annex iv decis list member state authoris use region breakdown final result mayjun survey set point c annex iv decis list member state authoris use breakdown herd size class result mayjun survey set point annex iv decis articl decis ec repeal refer made repeal decis shall constru made present decis articl decis address member state done brussel octob\n",
      "commiss regul eec juli amend regul eec buyingin storag oliv oil intervent agenc commiss european commun regard treati establish european econom commun regard council regul eec septemb establish common organ market oik fat last amend regul eec particular articl thereof wherea regul eec amend permit access commun intervent produc organ associ thereof recogn regul eec wherea therefor articl commiss regul eec amend wherea modif measur question take effect date applic regul eec wherea measur provid regul accord opinion manag committe oil fat adopt regul articl regul eec herebi amend follow articl replac follow oliv oil origin commun refer articl may offer intervent agenc natur legal person prove first owner oil produc produc organ associ thereof recogn regul eec act behalf measur organ offer shall accept parti concern prof oil question produc commun articl regul shall enter forc day public offici journal european commun regul shall bind entireti directli applic member state done brussel juli\n",
      "council regul ec februari amend regul eec lay respect hop amount aid produc harvest provid special measur certain region product council european union regard treati establish european commun particular articl thereof regard propos commiss regard opinion european parliament wherea regard imbal market bitter varieti regul eec lay special variet convers measur wherea variet convers hop would effect accompani land consolid measur wherea land consolid measur current implement hopgrow region spain wherea entir area hop schedul variet convers subject land consolid prior convers wherea time requir land consolid oper would allow implement subsequ variet convers larg part area question within time limit set regul eec wherea portugues republ kingdom belgium unit kingdom encount unforese delay implement convers plan initi approv wherea durat convers programm four said member state therefor extend effect januari wherea regul eec therefor amend accordingli adopt regul articl second subparagraph articl regul eec shall replac follow case kingdom spain portugues republ kingdom belgium member produc group concern shall undertak implement convers plan decemb case unit kingdom date shall decemb articl regul shall enter forc seventh day follow public offici journal european commun shall appli januari regul shall bind entireti directli applic member state done brussel februari\n"
     ]
    }
   ],
   "source": [
    "for i in df_train['pp_text'][:5]:\n",
    "    print(i)"
   ]
  },
  {
   "cell_type": "markdown",
   "id": "0b746b7c",
   "metadata": {},
   "source": [
    "## Baseline (ie non ML solution) + metrics on test set\n"
   ]
  },
  {
   "cell_type": "markdown",
   "id": "4ae1e1b8",
   "metadata": {},
   "source": [
    "As baseline we can take each sentence and get most common words used in the text and predict based on that."
   ]
  },
  {
   "cell_type": "code",
   "execution_count": 10,
   "id": "73e7d3e4",
   "metadata": {},
   "outputs": [],
   "source": [
    "text_only = train_exp.groupby('labels', group_keys=False)['text'].apply(lambda x: x.str.split())"
   ]
  },
  {
   "cell_type": "code",
   "execution_count": 11,
   "id": "0c7df2d4",
   "metadata": {},
   "outputs": [
    {
     "data": {
      "text/html": [
       "<div>\n",
       "<style scoped>\n",
       "    .dataframe tbody tr th:only-of-type {\n",
       "        vertical-align: middle;\n",
       "    }\n",
       "\n",
       "    .dataframe tbody tr th {\n",
       "        vertical-align: top;\n",
       "    }\n",
       "\n",
       "    .dataframe thead th {\n",
       "        text-align: right;\n",
       "    }\n",
       "</style>\n",
       "<table border=\"1\" class=\"dataframe\">\n",
       "  <thead>\n",
       "    <tr style=\"text-align: right;\">\n",
       "      <th></th>\n",
       "      <th>celex_id</th>\n",
       "      <th>text</th>\n",
       "      <th>labels</th>\n",
       "    </tr>\n",
       "  </thead>\n",
       "  <tbody>\n",
       "    <tr>\n",
       "      <th>0</th>\n",
       "      <td>32003R1012</td>\n",
       "      <td>Commission Regulation (EC) No 1012/2003\\nof 12...</td>\n",
       "      <td>2</td>\n",
       "    </tr>\n",
       "    <tr>\n",
       "      <th>0</th>\n",
       "      <td>32003R1012</td>\n",
       "      <td>Commission Regulation (EC) No 1012/2003\\nof 12...</td>\n",
       "      <td>5</td>\n",
       "    </tr>\n",
       "    <tr>\n",
       "      <th>0</th>\n",
       "      <td>32003R1012</td>\n",
       "      <td>Commission Regulation (EC) No 1012/2003\\nof 12...</td>\n",
       "      <td>10</td>\n",
       "    </tr>\n",
       "    <tr>\n",
       "      <th>0</th>\n",
       "      <td>32003R1012</td>\n",
       "      <td>Commission Regulation (EC) No 1012/2003\\nof 12...</td>\n",
       "      <td>8</td>\n",
       "    </tr>\n",
       "    <tr>\n",
       "      <th>0</th>\n",
       "      <td>32003R1012</td>\n",
       "      <td>Commission Regulation (EC) No 1012/2003\\nof 12...</td>\n",
       "      <td>3</td>\n",
       "    </tr>\n",
       "  </tbody>\n",
       "</table>\n",
       "</div>"
      ],
      "text/plain": [
       "     celex_id                                               text labels\n",
       "0  32003R1012  Commission Regulation (EC) No 1012/2003\\nof 12...      2\n",
       "0  32003R1012  Commission Regulation (EC) No 1012/2003\\nof 12...      5\n",
       "0  32003R1012  Commission Regulation (EC) No 1012/2003\\nof 12...     10\n",
       "0  32003R1012  Commission Regulation (EC) No 1012/2003\\nof 12...      8\n",
       "0  32003R1012  Commission Regulation (EC) No 1012/2003\\nof 12...      3"
      ]
     },
     "execution_count": 11,
     "metadata": {},
     "output_type": "execute_result"
    }
   ],
   "source": [
    "train_exp.head()"
   ]
  },
  {
   "cell_type": "code",
   "execution_count": 17,
   "id": "afed0631",
   "metadata": {},
   "outputs": [
    {
     "data": {
      "text/html": [
       "<div>\n",
       "<style scoped>\n",
       "    .dataframe tbody tr th:only-of-type {\n",
       "        vertical-align: middle;\n",
       "    }\n",
       "\n",
       "    .dataframe tbody tr th {\n",
       "        vertical-align: top;\n",
       "    }\n",
       "\n",
       "    .dataframe thead th {\n",
       "        text-align: right;\n",
       "    }\n",
       "</style>\n",
       "<table border=\"1\" class=\"dataframe\">\n",
       "  <thead>\n",
       "    <tr style=\"text-align: right;\">\n",
       "      <th></th>\n",
       "      <th>concept_id</th>\n",
       "      <th>label</th>\n",
       "    </tr>\n",
       "  </thead>\n",
       "  <tbody>\n",
       "    <tr>\n",
       "      <th>0</th>\n",
       "      <td>100149</td>\n",
       "      <td>social questions</td>\n",
       "    </tr>\n",
       "    <tr>\n",
       "      <th>1</th>\n",
       "      <td>100160</td>\n",
       "      <td>industry</td>\n",
       "    </tr>\n",
       "    <tr>\n",
       "      <th>2</th>\n",
       "      <td>100148</td>\n",
       "      <td>finance</td>\n",
       "    </tr>\n",
       "    <tr>\n",
       "      <th>3</th>\n",
       "      <td>100147</td>\n",
       "      <td>trade</td>\n",
       "    </tr>\n",
       "    <tr>\n",
       "      <th>4</th>\n",
       "      <td>100152</td>\n",
       "      <td>business and competition</td>\n",
       "    </tr>\n",
       "  </tbody>\n",
       "</table>\n",
       "</div>"
      ],
      "text/plain": [
       "  concept_id                     label\n",
       "0     100149          social questions\n",
       "1     100160                  industry\n",
       "2     100148                   finance\n",
       "3     100147                     trade\n",
       "4     100152  business and competition"
      ]
     },
     "execution_count": 17,
     "metadata": {},
     "output_type": "execute_result"
    }
   ],
   "source": [
    "concepts_df = []\n",
    "for i, v in eurovoc_concepts.items():\n",
    "    result = {'concept_id': i, 'label': v['en']}\n",
    "    concepts_df.append(result)\n",
    "concepts_df = pd.DataFrame(concepts_df)\n",
    "concepts_df.head()"
   ]
  },
  {
   "cell_type": "code",
   "execution_count": 18,
   "id": "b95201fc",
   "metadata": {},
   "outputs": [
    {
     "ename": "NameError",
     "evalue": "name 'concepts_df' is not defined",
     "output_type": "error",
     "traceback": [
      "\u001b[0;31m---------------------------------------------------------------------------\u001b[0m",
      "\u001b[0;31mNameError\u001b[0m                                 Traceback (most recent call last)",
      "Cell \u001b[0;32mIn[18], line 1\u001b[0m\n\u001b[0;32m----> 1\u001b[0m concepts_df[\u001b[39m'\u001b[39m\u001b[39mlabel\u001b[39m\u001b[39m'\u001b[39m]\n",
      "\u001b[0;31mNameError\u001b[0m: name 'concepts_df' is not defined"
     ]
    }
   ],
   "source": [
    "concepts_df['label']"
   ]
  },
  {
   "cell_type": "code",
   "execution_count": 17,
   "id": "b10c5d50",
   "metadata": {},
   "outputs": [
    {
     "ename": "AttributeError",
     "evalue": "'MultiEURLEX' object has no attribute 'languages'",
     "output_type": "error",
     "traceback": [
      "\u001b[0;31m---------------------------------------------------------------------------\u001b[0m",
      "\u001b[0;31mAttributeError\u001b[0m                            Traceback (most recent call last)",
      "Cell \u001b[0;32mIn[17], line 2\u001b[0m\n\u001b[1;32m      1\u001b[0m \u001b[39mfrom\u001b[39;00m \u001b[39mdatasets\u001b[39;00m \u001b[39mimport\u001b[39;00m load_dataset\n\u001b[0;32m----> 2\u001b[0m dataset \u001b[39m=\u001b[39m load_dataset(\u001b[39m'\u001b[39;49m\u001b[39mnlpaueb/multi_eurlex\u001b[39;49m\u001b[39m'\u001b[39;49m, \u001b[39m'\u001b[39;49m\u001b[39mall_languages\u001b[39;49m\u001b[39m'\u001b[39;49m)\n",
      "File \u001b[0;32m~/miniconda3/lib/python3.10/site-packages/datasets/load.py:1759\u001b[0m, in \u001b[0;36mload_dataset\u001b[0;34m(path, name, data_dir, data_files, split, cache_dir, features, download_config, download_mode, verification_mode, ignore_verifications, keep_in_memory, save_infos, revision, use_auth_token, task, streaming, num_proc, **config_kwargs)\u001b[0m\n\u001b[1;32m   1754\u001b[0m verification_mode \u001b[39m=\u001b[39m VerificationMode(\n\u001b[1;32m   1755\u001b[0m     (verification_mode \u001b[39mor\u001b[39;00m VerificationMode\u001b[39m.\u001b[39mBASIC_CHECKS) \u001b[39mif\u001b[39;00m \u001b[39mnot\u001b[39;00m save_infos \u001b[39melse\u001b[39;00m VerificationMode\u001b[39m.\u001b[39mALL_CHECKS\n\u001b[1;32m   1756\u001b[0m )\n\u001b[1;32m   1758\u001b[0m \u001b[39m# Create a dataset builder\u001b[39;00m\n\u001b[0;32m-> 1759\u001b[0m builder_instance \u001b[39m=\u001b[39m load_dataset_builder(\n\u001b[1;32m   1760\u001b[0m     path\u001b[39m=\u001b[39;49mpath,\n\u001b[1;32m   1761\u001b[0m     name\u001b[39m=\u001b[39;49mname,\n\u001b[1;32m   1762\u001b[0m     data_dir\u001b[39m=\u001b[39;49mdata_dir,\n\u001b[1;32m   1763\u001b[0m     data_files\u001b[39m=\u001b[39;49mdata_files,\n\u001b[1;32m   1764\u001b[0m     cache_dir\u001b[39m=\u001b[39;49mcache_dir,\n\u001b[1;32m   1765\u001b[0m     features\u001b[39m=\u001b[39;49mfeatures,\n\u001b[1;32m   1766\u001b[0m     download_config\u001b[39m=\u001b[39;49mdownload_config,\n\u001b[1;32m   1767\u001b[0m     download_mode\u001b[39m=\u001b[39;49mdownload_mode,\n\u001b[1;32m   1768\u001b[0m     revision\u001b[39m=\u001b[39;49mrevision,\n\u001b[1;32m   1769\u001b[0m     use_auth_token\u001b[39m=\u001b[39;49muse_auth_token,\n\u001b[1;32m   1770\u001b[0m     \u001b[39m*\u001b[39;49m\u001b[39m*\u001b[39;49mconfig_kwargs,\n\u001b[1;32m   1771\u001b[0m )\n\u001b[1;32m   1773\u001b[0m \u001b[39m# Return iterable dataset in case of streaming\u001b[39;00m\n\u001b[1;32m   1774\u001b[0m \u001b[39mif\u001b[39;00m streaming:\n",
      "File \u001b[0;32m~/miniconda3/lib/python3.10/site-packages/datasets/load.py:1522\u001b[0m, in \u001b[0;36mload_dataset_builder\u001b[0;34m(path, name, data_dir, data_files, cache_dir, features, download_config, download_mode, revision, use_auth_token, **config_kwargs)\u001b[0m\n\u001b[1;32m   1519\u001b[0m     \u001b[39mraise\u001b[39;00m \u001b[39mValueError\u001b[39;00m(error_msg)\n\u001b[1;32m   1521\u001b[0m \u001b[39m# Instantiate the dataset builder\u001b[39;00m\n\u001b[0;32m-> 1522\u001b[0m builder_instance: DatasetBuilder \u001b[39m=\u001b[39m builder_cls(\n\u001b[1;32m   1523\u001b[0m     cache_dir\u001b[39m=\u001b[39;49mcache_dir,\n\u001b[1;32m   1524\u001b[0m     config_name\u001b[39m=\u001b[39;49mconfig_name,\n\u001b[1;32m   1525\u001b[0m     data_dir\u001b[39m=\u001b[39;49mdata_dir,\n\u001b[1;32m   1526\u001b[0m     data_files\u001b[39m=\u001b[39;49mdata_files,\n\u001b[1;32m   1527\u001b[0m     \u001b[39mhash\u001b[39;49m\u001b[39m=\u001b[39;49m\u001b[39mhash\u001b[39;49m,\n\u001b[1;32m   1528\u001b[0m     features\u001b[39m=\u001b[39;49mfeatures,\n\u001b[1;32m   1529\u001b[0m     use_auth_token\u001b[39m=\u001b[39;49muse_auth_token,\n\u001b[1;32m   1530\u001b[0m     \u001b[39m*\u001b[39;49m\u001b[39m*\u001b[39;49mbuilder_kwargs,\n\u001b[1;32m   1531\u001b[0m     \u001b[39m*\u001b[39;49m\u001b[39m*\u001b[39;49mconfig_kwargs,\n\u001b[1;32m   1532\u001b[0m )\n\u001b[1;32m   1534\u001b[0m \u001b[39mreturn\u001b[39;00m builder_instance\n",
      "File \u001b[0;32m~/miniconda3/lib/python3.10/site-packages/datasets/builder.py:1396\u001b[0m, in \u001b[0;36mGeneratorBasedBuilder.__init__\u001b[0;34m(self, writer_batch_size, *args, **kwargs)\u001b[0m\n\u001b[1;32m   1395\u001b[0m \u001b[39mdef\u001b[39;00m \u001b[39m__init__\u001b[39m(\u001b[39mself\u001b[39m, \u001b[39m*\u001b[39margs, writer_batch_size\u001b[39m=\u001b[39m\u001b[39mNone\u001b[39;00m, \u001b[39m*\u001b[39m\u001b[39m*\u001b[39mkwargs):\n\u001b[0;32m-> 1396\u001b[0m     \u001b[39msuper\u001b[39;49m()\u001b[39m.\u001b[39;49m\u001b[39m__init__\u001b[39;49m(\u001b[39m*\u001b[39;49margs, \u001b[39m*\u001b[39;49m\u001b[39m*\u001b[39;49mkwargs)\n\u001b[1;32m   1397\u001b[0m     \u001b[39m# Batch size used by the ArrowWriter\u001b[39;00m\n\u001b[1;32m   1398\u001b[0m     \u001b[39m# It defines the number of samples that are kept in memory before writing them\u001b[39;00m\n\u001b[1;32m   1399\u001b[0m     \u001b[39m# and also the length of the arrow chunks\u001b[39;00m\n\u001b[1;32m   1400\u001b[0m     \u001b[39m# None means that the ArrowWriter will use its default value\u001b[39;00m\n\u001b[1;32m   1401\u001b[0m     \u001b[39mself\u001b[39m\u001b[39m.\u001b[39m_writer_batch_size \u001b[39m=\u001b[39m writer_batch_size \u001b[39mor\u001b[39;00m \u001b[39mself\u001b[39m\u001b[39m.\u001b[39mDEFAULT_WRITER_BATCH_SIZE\n",
      "File \u001b[0;32m~/miniconda3/lib/python3.10/site-packages/datasets/builder.py:329\u001b[0m, in \u001b[0;36mDatasetBuilder.__init__\u001b[0;34m(self, cache_dir, config_name, hash, base_path, info, features, use_auth_token, repo_id, data_files, data_dir, name, **config_kwargs)\u001b[0m\n\u001b[1;32m    327\u001b[0m \u001b[39mif\u001b[39;00m info \u001b[39mis\u001b[39;00m \u001b[39mNone\u001b[39;00m:\n\u001b[1;32m    328\u001b[0m     info \u001b[39m=\u001b[39m \u001b[39mself\u001b[39m\u001b[39m.\u001b[39mget_exported_dataset_info()\n\u001b[0;32m--> 329\u001b[0m     info\u001b[39m.\u001b[39mupdate(\u001b[39mself\u001b[39;49m\u001b[39m.\u001b[39;49m_info())\n\u001b[1;32m    330\u001b[0m     info\u001b[39m.\u001b[39mbuilder_name \u001b[39m=\u001b[39m \u001b[39mself\u001b[39m\u001b[39m.\u001b[39mname\n\u001b[1;32m    331\u001b[0m     info\u001b[39m.\u001b[39mconfig_name \u001b[39m=\u001b[39m \u001b[39mself\u001b[39m\u001b[39m.\u001b[39mconfig\u001b[39m.\u001b[39mname\n",
      "File \u001b[0;32m~/.cache/huggingface/modules/datasets_modules/datasets/nlpaueb--multi_eurlex/1addee7110a20c2b01cc3de89456786482e4eea1d2ead0bea3d5383b16cc9fce/multi_eurlex.py:8243\u001b[0m, in \u001b[0;36mMultiEURLEX._info\u001b[0;34m(self)\u001b[0m\n\u001b[1;32m   8237\u001b[0m \u001b[39mdef\u001b[39;00m \u001b[39m_info\u001b[39m(\u001b[39mself\u001b[39m):\n\u001b[1;32m   8238\u001b[0m     \u001b[39mif\u001b[39;00m \u001b[39mself\u001b[39m\u001b[39m.\u001b[39mconfig\u001b[39m.\u001b[39mlanguage \u001b[39m==\u001b[39m \u001b[39m\"\u001b[39m\u001b[39mall_languages\u001b[39m\u001b[39m\"\u001b[39m:\n\u001b[1;32m   8239\u001b[0m         features \u001b[39m=\u001b[39m datasets\u001b[39m.\u001b[39mFeatures(\n\u001b[1;32m   8240\u001b[0m             {\n\u001b[1;32m   8241\u001b[0m                 \u001b[39m\"\u001b[39m\u001b[39mcelex_id\u001b[39m\u001b[39m\"\u001b[39m: datasets\u001b[39m.\u001b[39mValue(\u001b[39m\"\u001b[39m\u001b[39mstring\u001b[39m\u001b[39m\"\u001b[39m),\n\u001b[1;32m   8242\u001b[0m                 \u001b[39m\"\u001b[39m\u001b[39mtext\u001b[39m\u001b[39m\"\u001b[39m: datasets\u001b[39m.\u001b[39mTranslation(\n\u001b[0;32m-> 8243\u001b[0m                     languages\u001b[39m=\u001b[39m\u001b[39mself\u001b[39;49m\u001b[39m.\u001b[39;49mlanguages,\n\u001b[1;32m   8244\u001b[0m                 ),\n\u001b[1;32m   8245\u001b[0m                 \u001b[39m\"\u001b[39m\u001b[39mlabels\u001b[39m\u001b[39m\"\u001b[39m: datasets\u001b[39m.\u001b[39mfeatures\u001b[39m.\u001b[39mSequence(\n\u001b[1;32m   8246\u001b[0m                     datasets\u001b[39m.\u001b[39mClassLabel(names\u001b[39m=\u001b[39m_CONCEPTS[\u001b[39mself\u001b[39m\u001b[39m.\u001b[39mconfig\u001b[39m.\u001b[39mlabel_level])\n\u001b[1;32m   8247\u001b[0m                 ),\n\u001b[1;32m   8248\u001b[0m             }\n\u001b[1;32m   8249\u001b[0m         )\n\u001b[1;32m   8250\u001b[0m     \u001b[39melse\u001b[39;00m:\n\u001b[1;32m   8251\u001b[0m         features \u001b[39m=\u001b[39m datasets\u001b[39m.\u001b[39mFeatures(\n\u001b[1;32m   8252\u001b[0m             {\n\u001b[1;32m   8253\u001b[0m                 \u001b[39m\"\u001b[39m\u001b[39mcelex_id\u001b[39m\u001b[39m\"\u001b[39m: datasets\u001b[39m.\u001b[39mValue(\u001b[39m\"\u001b[39m\u001b[39mstring\u001b[39m\u001b[39m\"\u001b[39m),\n\u001b[0;32m   (...)\u001b[0m\n\u001b[1;32m   8258\u001b[0m             }\n\u001b[1;32m   8259\u001b[0m         )\n",
      "\u001b[0;31mAttributeError\u001b[0m: 'MultiEURLEX' object has no attribute 'languages'"
     ]
    }
   ],
   "source": [
    "from datasets import load_dataset\n",
    "dataset = load_dataset('nlpaueb/multi_eurlex', 'all_languages')\n"
   ]
  },
  {
   "cell_type": "markdown",
   "id": "c1dfc1dc",
   "metadata": {},
   "source": [
    "## RNN solution + metrics on test set\n"
   ]
  },
  {
   "cell_type": "code",
   "execution_count": null,
   "id": "959794e3",
   "metadata": {},
   "outputs": [],
   "source": []
  },
  {
   "cell_type": "code",
   "execution_count": null,
   "id": "10473813",
   "metadata": {},
   "outputs": [],
   "source": []
  },
  {
   "cell_type": "code",
   "execution_count": null,
   "id": "6e58693f",
   "metadata": {},
   "outputs": [],
   "source": []
  },
  {
   "cell_type": "code",
   "execution_count": null,
   "id": "687fdb4f",
   "metadata": {},
   "outputs": [],
   "source": []
  },
  {
   "cell_type": "code",
   "execution_count": null,
   "id": "ef2207f0",
   "metadata": {},
   "outputs": [],
   "source": []
  },
  {
   "cell_type": "markdown",
   "id": "0601c0e2",
   "metadata": {},
   "source": [
    "## BERT model + metrics on test set"
   ]
  },
  {
   "cell_type": "code",
   "execution_count": null,
   "id": "ac0e20d9",
   "metadata": {},
   "outputs": [],
   "source": [
    ".."
   ]
  }
 ],
 "metadata": {
  "kernelspec": {
   "display_name": "Python 3 (ipykernel)",
   "language": "python",
   "name": "python3"
  },
  "language_info": {
   "codemirror_mode": {
    "name": "ipython",
    "version": 3
   },
   "file_extension": ".py",
   "mimetype": "text/x-python",
   "name": "python",
   "nbconvert_exporter": "python",
   "pygments_lexer": "ipython3",
   "version": "3.8.16"
  }
 },
 "nbformat": 4,
 "nbformat_minor": 5
}
